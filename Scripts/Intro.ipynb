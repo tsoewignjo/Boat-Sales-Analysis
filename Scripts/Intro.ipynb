{
 "cells": [
  {
   "cell_type": "markdown",
   "id": "c196edd5",
   "metadata": {},
   "source": [
    "### Boat Sales"
   ]
  },
  {
   "cell_type": "markdown",
   "id": "d7c042f5",
   "metadata": {},
   "source": [
    "\n",
    "#### Table of Contents\n",
    "1. Introduction\n",
    "2. Dataset\n",
    "3. Required Libraries\n",
    "4. Load Data\n",
    "5. Data Wrangling\n",
    "6. Discovery\n",
    "7. Structuring\n",
    "8. Cleaning\n",
    "9. Exploratory Data Analysis\n",
    "10. Conclusions"
   ]
  },
  {
   "cell_type": "markdown",
   "id": "398c180a",
   "metadata": {},
   "source": [
    "### 1. Intro\n",
    "\n",
    "You are working as a data analyst for a yacht and boat sales website. The marketing team is\n",
    "preparing a weekly newsletter for boat owners. The newsletter is designed to help sellers to get\n",
    "more views of their boat, as well as stay on top of market trends.\n",
    "\n",
    "They would like me to take a look at the recent data and get some insights. The possible questions that we can ask ourselves is:\n",
    "\n",
    "- characteristics of the most viewed boat listings in the last 7 days\n",
    "- is it the most expensive boats that get the most views?\n",
    "- Are there common features among the most viewed boats?"
   ]
  },
  {
   "cell_type": "markdown",
   "id": "c2a07253",
   "metadata": {},
   "source": [
    "### 2. Data Set\n",
    "\n",
    "This data set is all about the popularity of the boats. It has 10 columns. It has details of the boats regarding the year it was built the type of boat, price and much more.\n",
    "\n",
    "Download site:\n",
    "https://www.kaggle.com/datasets/karthikbhandary2/boat-sales?resource=download&select=boat_data.csv\n",
    "    \n",
    "Data has 10 columns and 9889 rows.\n",
    "\n",
    "Column names: ['Price', 'Boat Type', 'Manufacturer', 'Type', 'Year Built', 'Length',\n",
    "       'Width', 'Material', 'Location', 'Number of views last 7 days']"
   ]
  },
  {
   "cell_type": "markdown",
   "id": "bd4460d4",
   "metadata": {},
   "source": [
    "### 3. Required libraries"
   ]
  },
  {
   "cell_type": "code",
   "execution_count": 1,
   "id": "1d745970",
   "metadata": {},
   "outputs": [],
   "source": [
    "import pandas as pd\n",
    "import numpy as np\n",
    "import os\n",
    "import seaborn as sns\n",
    "import matplotlib.pyplot as plt "
   ]
  },
  {
   "cell_type": "markdown",
   "id": "7f44d9c1",
   "metadata": {},
   "source": [
    "### 4. Load Data"
   ]
  },
  {
   "cell_type": "code",
   "execution_count": 35,
   "id": "34725b2e",
   "metadata": {},
   "outputs": [],
   "source": [
    "# Set path to access data files\n",
    "path = r'C:\\Users\\tsoew\\OneDrive\\Desktop\\Boat Sales'"
   ]
  },
  {
   "cell_type": "code",
   "execution_count": 36,
   "id": "25714ee0",
   "metadata": {},
   "outputs": [],
   "source": [
    "# Import file into dataframe\n",
    "df = pd.read_csv (os.path.join(path, 'boat_data_orig.csv'), index_col=False)"
   ]
  },
  {
   "cell_type": "code",
   "execution_count": 37,
   "id": "a2916186",
   "metadata": {},
   "outputs": [
    {
     "data": {
      "text/html": [
       "<div>\n",
       "<style scoped>\n",
       "    .dataframe tbody tr th:only-of-type {\n",
       "        vertical-align: middle;\n",
       "    }\n",
       "\n",
       "    .dataframe tbody tr th {\n",
       "        vertical-align: top;\n",
       "    }\n",
       "\n",
       "    .dataframe thead th {\n",
       "        text-align: right;\n",
       "    }\n",
       "</style>\n",
       "<table border=\"1\" class=\"dataframe\">\n",
       "  <thead>\n",
       "    <tr style=\"text-align: right;\">\n",
       "      <th></th>\n",
       "      <th>Price</th>\n",
       "      <th>Boat Type</th>\n",
       "      <th>Manufacturer</th>\n",
       "      <th>Type</th>\n",
       "      <th>Year Built</th>\n",
       "      <th>Length</th>\n",
       "      <th>Width</th>\n",
       "      <th>Material</th>\n",
       "      <th>Location</th>\n",
       "      <th>Number of views last 7 days</th>\n",
       "    </tr>\n",
       "  </thead>\n",
       "  <tbody>\n",
       "    <tr>\n",
       "      <th>0</th>\n",
       "      <td>CHF 3337</td>\n",
       "      <td>Motor Yacht</td>\n",
       "      <td>Rigiflex power boats</td>\n",
       "      <td>new boat from stock</td>\n",
       "      <td>2017</td>\n",
       "      <td>4.00</td>\n",
       "      <td>1.90</td>\n",
       "      <td>NaN</td>\n",
       "      <td>Switzerland Â» Lake Geneva Â» VÃ©senaz</td>\n",
       "      <td>226</td>\n",
       "    </tr>\n",
       "    <tr>\n",
       "      <th>1</th>\n",
       "      <td>EUR 3490</td>\n",
       "      <td>Center console boat</td>\n",
       "      <td>Terhi power boats</td>\n",
       "      <td>new boat from stock</td>\n",
       "      <td>2020</td>\n",
       "      <td>4.00</td>\n",
       "      <td>1.50</td>\n",
       "      <td>Thermoplastic</td>\n",
       "      <td>Germany Â» BÃ¶nningstedt</td>\n",
       "      <td>75</td>\n",
       "    </tr>\n",
       "    <tr>\n",
       "      <th>2</th>\n",
       "      <td>CHF 3770</td>\n",
       "      <td>Sport Boat</td>\n",
       "      <td>Marine power boats</td>\n",
       "      <td>new boat from stock</td>\n",
       "      <td>0</td>\n",
       "      <td>3.69</td>\n",
       "      <td>1.42</td>\n",
       "      <td>Aluminium</td>\n",
       "      <td>Switzerland Â» Lake of Zurich Â» StÃ¤fa ZH</td>\n",
       "      <td>124</td>\n",
       "    </tr>\n",
       "    <tr>\n",
       "      <th>3</th>\n",
       "      <td>DKK 25900</td>\n",
       "      <td>Sport Boat</td>\n",
       "      <td>Pioner power boats</td>\n",
       "      <td>new boat from stock</td>\n",
       "      <td>2020</td>\n",
       "      <td>3.00</td>\n",
       "      <td>1.00</td>\n",
       "      <td>NaN</td>\n",
       "      <td>Denmark Â» Svendborg</td>\n",
       "      <td>64</td>\n",
       "    </tr>\n",
       "    <tr>\n",
       "      <th>4</th>\n",
       "      <td>EUR 3399</td>\n",
       "      <td>Fishing Boat</td>\n",
       "      <td>Linder power boats</td>\n",
       "      <td>new boat from stock</td>\n",
       "      <td>2019</td>\n",
       "      <td>3.55</td>\n",
       "      <td>1.46</td>\n",
       "      <td>Aluminium</td>\n",
       "      <td>Germany Â» Bayern Â» MÃ¼nchen</td>\n",
       "      <td>58</td>\n",
       "    </tr>\n",
       "  </tbody>\n",
       "</table>\n",
       "</div>"
      ],
      "text/plain": [
       "       Price            Boat Type          Manufacturer                 Type  \\\n",
       "0   CHF 3337          Motor Yacht  Rigiflex power boats  new boat from stock   \n",
       "1   EUR 3490  Center console boat     Terhi power boats  new boat from stock   \n",
       "2   CHF 3770           Sport Boat    Marine power boats  new boat from stock   \n",
       "3  DKK 25900           Sport Boat    Pioner power boats  new boat from stock   \n",
       "4   EUR 3399         Fishing Boat    Linder power boats  new boat from stock   \n",
       "\n",
       "   Year Built  Length  Width       Material  \\\n",
       "0        2017    4.00   1.90            NaN   \n",
       "1        2020    4.00   1.50  Thermoplastic   \n",
       "2           0    3.69   1.42      Aluminium   \n",
       "3        2020    3.00   1.00            NaN   \n",
       "4        2019    3.55   1.46      Aluminium   \n",
       "\n",
       "                                     Location  Number of views last 7 days  \n",
       "0      Switzerland Â» Lake Geneva Â» VÃ©senaz                          226  \n",
       "1                    Germany Â» BÃ¶nningstedt                           75  \n",
       "2  Switzerland Â» Lake of Zurich Â» StÃ¤fa ZH                          124  \n",
       "3                        Denmark Â» Svendborg                           64  \n",
       "4               Germany Â» Bayern Â» MÃ¼nchen                           58  "
      ]
     },
     "execution_count": 37,
     "metadata": {},
     "output_type": "execute_result"
    }
   ],
   "source": [
    "# Check data head\n",
    "df.head()"
   ]
  },
  {
   "cell_type": "markdown",
   "id": "afc1d280",
   "metadata": {},
   "source": [
    "#### Note:\n",
    "- Location column has some garbled characters which could be a divider between country name and city name."
   ]
  },
  {
   "cell_type": "code",
   "execution_count": 42,
   "id": "81119ffb",
   "metadata": {},
   "outputs": [
    {
     "data": {
      "text/plain": [
       "Year Built\n",
       "2020    1279\n",
       "2019     663\n",
       "0        551\n",
       "2008     457\n",
       "2007     393\n",
       "        ... \n",
       "1914       1\n",
       "1895       1\n",
       "1885       1\n",
       "1931       1\n",
       "1900       1\n",
       "Name: count, Length: 122, dtype: int64"
      ]
     },
     "execution_count": 42,
     "metadata": {},
     "output_type": "execute_result"
    }
   ],
   "source": [
    "df['Year Built'].value_counts()"
   ]
  },
  {
   "cell_type": "code",
   "execution_count": 43,
   "id": "4c98a53e",
   "metadata": {},
   "outputs": [
    {
     "data": {
      "text/plain": [
       "(9888, 10)"
      ]
     },
     "execution_count": 43,
     "metadata": {},
     "output_type": "execute_result"
    }
   ],
   "source": [
    "df.shape"
   ]
  },
  {
   "cell_type": "code",
   "execution_count": 44,
   "id": "95ded221",
   "metadata": {},
   "outputs": [],
   "source": [
    "df = df[df['Year Built'] != 0]"
   ]
  },
  {
   "cell_type": "code",
   "execution_count": 45,
   "id": "43deffff",
   "metadata": {},
   "outputs": [
    {
     "data": {
      "text/plain": [
       "(9337, 10)"
      ]
     },
     "execution_count": 45,
     "metadata": {},
     "output_type": "execute_result"
    }
   ],
   "source": [
    "df.shape"
   ]
  },
  {
   "cell_type": "code",
   "execution_count": 38,
   "id": "c4bba74b",
   "metadata": {},
   "outputs": [
    {
     "data": {
      "text/html": [
       "<div>\n",
       "<style scoped>\n",
       "    .dataframe tbody tr th:only-of-type {\n",
       "        vertical-align: middle;\n",
       "    }\n",
       "\n",
       "    .dataframe tbody tr th {\n",
       "        vertical-align: top;\n",
       "    }\n",
       "\n",
       "    .dataframe thead th {\n",
       "        text-align: right;\n",
       "    }\n",
       "</style>\n",
       "<table border=\"1\" class=\"dataframe\">\n",
       "  <thead>\n",
       "    <tr style=\"text-align: right;\">\n",
       "      <th></th>\n",
       "      <th>Year Built</th>\n",
       "      <th>Length</th>\n",
       "      <th>Width</th>\n",
       "      <th>Number of views last 7 days</th>\n",
       "    </tr>\n",
       "  </thead>\n",
       "  <tbody>\n",
       "    <tr>\n",
       "      <th>count</th>\n",
       "      <td>9888.000000</td>\n",
       "      <td>9879.000000</td>\n",
       "      <td>9832.000000</td>\n",
       "      <td>9888.000000</td>\n",
       "    </tr>\n",
       "    <tr>\n",
       "      <th>mean</th>\n",
       "      <td>1893.192860</td>\n",
       "      <td>11.570017</td>\n",
       "      <td>3.520124</td>\n",
       "      <td>149.160801</td>\n",
       "    </tr>\n",
       "    <tr>\n",
       "      <th>std</th>\n",
       "      <td>460.201582</td>\n",
       "      <td>6.002820</td>\n",
       "      <td>1.220534</td>\n",
       "      <td>151.819752</td>\n",
       "    </tr>\n",
       "    <tr>\n",
       "      <th>min</th>\n",
       "      <td>0.000000</td>\n",
       "      <td>1.040000</td>\n",
       "      <td>0.010000</td>\n",
       "      <td>13.000000</td>\n",
       "    </tr>\n",
       "    <tr>\n",
       "      <th>25%</th>\n",
       "      <td>1996.000000</td>\n",
       "      <td>7.470000</td>\n",
       "      <td>2.540000</td>\n",
       "      <td>70.000000</td>\n",
       "    </tr>\n",
       "    <tr>\n",
       "      <th>50%</th>\n",
       "      <td>2007.000000</td>\n",
       "      <td>10.280000</td>\n",
       "      <td>3.330000</td>\n",
       "      <td>108.000000</td>\n",
       "    </tr>\n",
       "    <tr>\n",
       "      <th>75%</th>\n",
       "      <td>2017.000000</td>\n",
       "      <td>13.930000</td>\n",
       "      <td>4.250000</td>\n",
       "      <td>172.000000</td>\n",
       "    </tr>\n",
       "    <tr>\n",
       "      <th>max</th>\n",
       "      <td>2021.000000</td>\n",
       "      <td>100.000000</td>\n",
       "      <td>25.160000</td>\n",
       "      <td>3263.000000</td>\n",
       "    </tr>\n",
       "  </tbody>\n",
       "</table>\n",
       "</div>"
      ],
      "text/plain": [
       "        Year Built       Length        Width  Number of views last 7 days\n",
       "count  9888.000000  9879.000000  9832.000000                  9888.000000\n",
       "mean   1893.192860    11.570017     3.520124                   149.160801\n",
       "std     460.201582     6.002820     1.220534                   151.819752\n",
       "min       0.000000     1.040000     0.010000                    13.000000\n",
       "25%    1996.000000     7.470000     2.540000                    70.000000\n",
       "50%    2007.000000    10.280000     3.330000                   108.000000\n",
       "75%    2017.000000    13.930000     4.250000                   172.000000\n",
       "max    2021.000000   100.000000    25.160000                  3263.000000"
      ]
     },
     "execution_count": 38,
     "metadata": {},
     "output_type": "execute_result"
    }
   ],
   "source": [
    "# Check data statistic\n",
    "df.describe()"
   ]
  },
  {
   "cell_type": "markdown",
   "id": "1ed132c1",
   "metadata": {},
   "source": [
    "#### Note:\n",
    "- Year Built minimum has 0 values which are not supposed to be there.\n",
    "- Length minimum is 1.04 which is not common for a boat length.\n",
    "- Width minimum is 0.01 which is not right.\n",
    "- Num of Views has maximum of 3263 which can be an outlier compared to other values.\n"
   ]
  },
  {
   "cell_type": "code",
   "execution_count": 6,
   "id": "debcb6ff",
   "metadata": {},
   "outputs": [
    {
     "name": "stdout",
     "output_type": "stream",
     "text": [
      "<class 'pandas.core.frame.DataFrame'>\n",
      "RangeIndex: 9888 entries, 0 to 9887\n",
      "Data columns (total 10 columns):\n",
      " #   Column                       Non-Null Count  Dtype  \n",
      "---  ------                       --------------  -----  \n",
      " 0   Price                        9888 non-null   object \n",
      " 1   Boat Type                    9888 non-null   object \n",
      " 2   Manufacturer                 8550 non-null   object \n",
      " 3   Type                         9882 non-null   object \n",
      " 4   Year Built                   9888 non-null   int64  \n",
      " 5   Length                       9879 non-null   float64\n",
      " 6   Width                        9832 non-null   float64\n",
      " 7   Material                     8139 non-null   object \n",
      " 8   Location                     9852 non-null   object \n",
      " 9   Number of views last 7 days  9888 non-null   int64  \n",
      "dtypes: float64(2), int64(2), object(6)\n",
      "memory usage: 772.6+ KB\n"
     ]
    }
   ],
   "source": [
    "# Check data info\n",
    "df.info()"
   ]
  },
  {
   "cell_type": "markdown",
   "id": "bccdf409",
   "metadata": {},
   "source": [
    "#### Note:\n",
    "- Some columns have Null values that need to be cleaned up.\n",
    "- Price column is Object Datatype, which needs to be converted to Number for regression analysis."
   ]
  },
  {
   "cell_type": "markdown",
   "id": "d73995b6",
   "metadata": {},
   "source": [
    "### 5. Data Wrangling"
   ]
  },
  {
   "cell_type": "markdown",
   "id": "16fa0835",
   "metadata": {},
   "source": [
    "#### 5.a Separate Price from currency symbol"
   ]
  },
  {
   "cell_type": "code",
   "execution_count": 7,
   "id": "13fd3fd3",
   "metadata": {},
   "outputs": [],
   "source": [
    "#Split Price to 2 columns: 'currency' & 'Price'\n",
    "df[['currency','Price']]= df['Price'].str.split(' ', expand=True)"
   ]
  },
  {
   "cell_type": "code",
   "execution_count": 8,
   "id": "15e92f64",
   "metadata": {},
   "outputs": [],
   "source": [
    "# Convert all prices into US Dollar currency\n",
    "\n",
    "def USDprice(Price,currency):\n",
    "    \n",
    "    if currency=='EUR':              \n",
    "        #Euro\n",
    "        return int(Price) * 1.075\n",
    "    elif currency=='CHF':            \n",
    "        #Swiss Franc\n",
    "        return int(Price) * 1.099\n",
    "    elif currency=='DKK':            \n",
    "        #Danish Krone\n",
    "        return int(Price) * 0.143\n",
    "    elif currency=='Â£':             \n",
    "        #British Pounds\n",
    "        return int(Price) * 1.25\n",
    "    \n",
    "df['Price_USD'] = df.apply(lambda x: USDprice(x.Price, x.currency), axis=1)"
   ]
  },
  {
   "cell_type": "code",
   "execution_count": 9,
   "id": "ecfdb530",
   "metadata": {},
   "outputs": [],
   "source": [
    "# delete Price and currency columns as we are not using them anymore\n",
    "df.drop('currency', axis=1, inplace=True)\n",
    "df.drop('Price', axis=1, inplace=True)"
   ]
  },
  {
   "cell_type": "markdown",
   "id": "33b59b60",
   "metadata": {},
   "source": [
    "#### 5.b Separate Country and City names"
   ]
  },
  {
   "cell_type": "code",
   "execution_count": 10,
   "id": "0c6368d2",
   "metadata": {},
   "outputs": [],
   "source": [
    "#Split Location to 3 columns: 'Country','City','Other'\n",
    "\n",
    "df[['Country','City', 'Other']]= df['Location'].str.split('Â»', expand=True)"
   ]
  },
  {
   "cell_type": "code",
   "execution_count": 11,
   "id": "1556fa03",
   "metadata": {},
   "outputs": [],
   "source": [
    "# remove some garbage characters\n",
    "\n",
    "df['City']=df['City'].str.replace('¶','',regex=True)\n",
    "df['City']=df['City'].str.replace('Ã','',regex=True)"
   ]
  },
  {
   "cell_type": "code",
   "execution_count": 12,
   "id": "3d7930b9",
   "metadata": {},
   "outputs": [
    {
     "data": {
      "text/plain": [
       "(9888, 13)"
      ]
     },
     "execution_count": 12,
     "metadata": {},
     "output_type": "execute_result"
    }
   ],
   "source": [
    "df.shape"
   ]
  },
  {
   "cell_type": "markdown",
   "id": "f8ea715f",
   "metadata": {},
   "source": [
    "#### 5.c Separate Type Column to get the word \"New\""
   ]
  },
  {
   "cell_type": "code",
   "execution_count": 13,
   "id": "2dcd55a9",
   "metadata": {},
   "outputs": [],
   "source": [
    "df[['t1', 't2']] = df['Type'].str.split(',', expand=True)"
   ]
  },
  {
   "cell_type": "code",
   "execution_count": 14,
   "id": "de624b3a",
   "metadata": {},
   "outputs": [],
   "source": [
    "df[['t3', 't4', 't5', 't6']] = df['t1'].str.split(' ', expand=True)"
   ]
  },
  {
   "cell_type": "code",
   "execution_count": 15,
   "id": "e118f925",
   "metadata": {},
   "outputs": [
    {
     "data": {
      "text/html": [
       "<div>\n",
       "<style scoped>\n",
       "    .dataframe tbody tr th:only-of-type {\n",
       "        vertical-align: middle;\n",
       "    }\n",
       "\n",
       "    .dataframe tbody tr th {\n",
       "        vertical-align: top;\n",
       "    }\n",
       "\n",
       "    .dataframe thead th {\n",
       "        text-align: right;\n",
       "    }\n",
       "</style>\n",
       "<table border=\"1\" class=\"dataframe\">\n",
       "  <thead>\n",
       "    <tr style=\"text-align: right;\">\n",
       "      <th></th>\n",
       "      <th>Boat Type</th>\n",
       "      <th>Manufacturer</th>\n",
       "      <th>Type</th>\n",
       "      <th>Year Built</th>\n",
       "      <th>Length</th>\n",
       "      <th>Width</th>\n",
       "      <th>Material</th>\n",
       "      <th>Location</th>\n",
       "      <th>Number of views last 7 days</th>\n",
       "      <th>Price_USD</th>\n",
       "      <th>Country</th>\n",
       "      <th>City</th>\n",
       "      <th>Other</th>\n",
       "      <th>t1</th>\n",
       "      <th>t2</th>\n",
       "      <th>t3</th>\n",
       "      <th>t4</th>\n",
       "      <th>t5</th>\n",
       "      <th>t6</th>\n",
       "    </tr>\n",
       "  </thead>\n",
       "  <tbody>\n",
       "    <tr>\n",
       "      <th>0</th>\n",
       "      <td>Motor Yacht</td>\n",
       "      <td>Rigiflex power boats</td>\n",
       "      <td>new boat from stock</td>\n",
       "      <td>2017</td>\n",
       "      <td>4.00</td>\n",
       "      <td>1.90</td>\n",
       "      <td>NaN</td>\n",
       "      <td>Switzerland Â» Lake Geneva Â» VÃ©senaz</td>\n",
       "      <td>226</td>\n",
       "      <td>3667.363</td>\n",
       "      <td>Switzerland</td>\n",
       "      <td>Lake Geneva</td>\n",
       "      <td>VÃ©senaz</td>\n",
       "      <td>new boat from stock</td>\n",
       "      <td>None</td>\n",
       "      <td>new</td>\n",
       "      <td>boat</td>\n",
       "      <td>from</td>\n",
       "      <td>stock</td>\n",
       "    </tr>\n",
       "    <tr>\n",
       "      <th>1</th>\n",
       "      <td>Center console boat</td>\n",
       "      <td>Terhi power boats</td>\n",
       "      <td>new boat from stock</td>\n",
       "      <td>2020</td>\n",
       "      <td>4.00</td>\n",
       "      <td>1.50</td>\n",
       "      <td>Thermoplastic</td>\n",
       "      <td>Germany Â» BÃ¶nningstedt</td>\n",
       "      <td>75</td>\n",
       "      <td>3751.750</td>\n",
       "      <td>Germany</td>\n",
       "      <td>Bnningstedt</td>\n",
       "      <td>None</td>\n",
       "      <td>new boat from stock</td>\n",
       "      <td>None</td>\n",
       "      <td>new</td>\n",
       "      <td>boat</td>\n",
       "      <td>from</td>\n",
       "      <td>stock</td>\n",
       "    </tr>\n",
       "    <tr>\n",
       "      <th>2</th>\n",
       "      <td>Sport Boat</td>\n",
       "      <td>Marine power boats</td>\n",
       "      <td>new boat from stock</td>\n",
       "      <td>0</td>\n",
       "      <td>3.69</td>\n",
       "      <td>1.42</td>\n",
       "      <td>Aluminium</td>\n",
       "      <td>Switzerland Â» Lake of Zurich Â» StÃ¤fa ZH</td>\n",
       "      <td>124</td>\n",
       "      <td>4143.230</td>\n",
       "      <td>Switzerland</td>\n",
       "      <td>Lake of Zurich</td>\n",
       "      <td>StÃ¤fa ZH</td>\n",
       "      <td>new boat from stock</td>\n",
       "      <td>None</td>\n",
       "      <td>new</td>\n",
       "      <td>boat</td>\n",
       "      <td>from</td>\n",
       "      <td>stock</td>\n",
       "    </tr>\n",
       "    <tr>\n",
       "      <th>3</th>\n",
       "      <td>Sport Boat</td>\n",
       "      <td>Pioner power boats</td>\n",
       "      <td>new boat from stock</td>\n",
       "      <td>2020</td>\n",
       "      <td>3.00</td>\n",
       "      <td>1.00</td>\n",
       "      <td>NaN</td>\n",
       "      <td>Denmark Â» Svendborg</td>\n",
       "      <td>64</td>\n",
       "      <td>3703.700</td>\n",
       "      <td>Denmark</td>\n",
       "      <td>Svendborg</td>\n",
       "      <td>None</td>\n",
       "      <td>new boat from stock</td>\n",
       "      <td>None</td>\n",
       "      <td>new</td>\n",
       "      <td>boat</td>\n",
       "      <td>from</td>\n",
       "      <td>stock</td>\n",
       "    </tr>\n",
       "    <tr>\n",
       "      <th>4</th>\n",
       "      <td>Fishing Boat</td>\n",
       "      <td>Linder power boats</td>\n",
       "      <td>new boat from stock</td>\n",
       "      <td>2019</td>\n",
       "      <td>3.55</td>\n",
       "      <td>1.46</td>\n",
       "      <td>Aluminium</td>\n",
       "      <td>Germany Â» Bayern Â» MÃ¼nchen</td>\n",
       "      <td>58</td>\n",
       "      <td>3653.925</td>\n",
       "      <td>Germany</td>\n",
       "      <td>Bayern</td>\n",
       "      <td>MÃ¼nchen</td>\n",
       "      <td>new boat from stock</td>\n",
       "      <td>None</td>\n",
       "      <td>new</td>\n",
       "      <td>boat</td>\n",
       "      <td>from</td>\n",
       "      <td>stock</td>\n",
       "    </tr>\n",
       "  </tbody>\n",
       "</table>\n",
       "</div>"
      ],
      "text/plain": [
       "             Boat Type          Manufacturer                 Type  Year Built  \\\n",
       "0          Motor Yacht  Rigiflex power boats  new boat from stock        2017   \n",
       "1  Center console boat     Terhi power boats  new boat from stock        2020   \n",
       "2           Sport Boat    Marine power boats  new boat from stock           0   \n",
       "3           Sport Boat    Pioner power boats  new boat from stock        2020   \n",
       "4         Fishing Boat    Linder power boats  new boat from stock        2019   \n",
       "\n",
       "   Length  Width       Material                                    Location  \\\n",
       "0    4.00   1.90            NaN      Switzerland Â» Lake Geneva Â» VÃ©senaz   \n",
       "1    4.00   1.50  Thermoplastic                    Germany Â» BÃ¶nningstedt   \n",
       "2    3.69   1.42      Aluminium  Switzerland Â» Lake of Zurich Â» StÃ¤fa ZH   \n",
       "3    3.00   1.00            NaN                        Denmark Â» Svendborg   \n",
       "4    3.55   1.46      Aluminium               Germany Â» Bayern Â» MÃ¼nchen   \n",
       "\n",
       "   Number of views last 7 days  Price_USD       Country              City  \\\n",
       "0                          226   3667.363  Switzerland       Lake Geneva    \n",
       "1                           75   3751.750      Germany        Bnningstedt   \n",
       "2                          124   4143.230  Switzerland    Lake of Zurich    \n",
       "3                           64   3703.700      Denmark          Svendborg   \n",
       "4                           58   3653.925      Germany            Bayern    \n",
       "\n",
       "        Other                   t1    t2   t3    t4    t5     t6  \n",
       "0    VÃ©senaz  new boat from stock  None  new  boat  from  stock  \n",
       "1        None  new boat from stock  None  new  boat  from  stock  \n",
       "2   StÃ¤fa ZH  new boat from stock  None  new  boat  from  stock  \n",
       "3        None  new boat from stock  None  new  boat  from  stock  \n",
       "4    MÃ¼nchen  new boat from stock  None  new  boat  from  stock  "
      ]
     },
     "execution_count": 15,
     "metadata": {},
     "output_type": "execute_result"
    }
   ],
   "source": [
    "df.head()"
   ]
  },
  {
   "cell_type": "code",
   "execution_count": 16,
   "id": "e6239c15",
   "metadata": {},
   "outputs": [
    {
     "data": {
      "text/plain": [
       "(9888, 19)"
      ]
     },
     "execution_count": 16,
     "metadata": {},
     "output_type": "execute_result"
    }
   ],
   "source": [
    "df.shape"
   ]
  },
  {
   "cell_type": "markdown",
   "id": "b6b27e4a",
   "metadata": {},
   "source": [
    "### 6. Data Cleaning"
   ]
  },
  {
   "cell_type": "markdown",
   "id": "479ae4e2",
   "metadata": {},
   "source": [
    "#### 6.a Fix column names"
   ]
  },
  {
   "cell_type": "code",
   "execution_count": 17,
   "id": "0149f85c",
   "metadata": {},
   "outputs": [],
   "source": [
    "#rename columns\n",
    "df.rename(columns={\"Number of views last 7 days\": \"Views\"}, inplace=True)"
   ]
  },
  {
   "cell_type": "markdown",
   "id": "ac3f1a7a",
   "metadata": {},
   "source": [
    "#### 6.b Replace 0s in 'Year Built' with NaN"
   ]
  },
  {
   "cell_type": "code",
   "execution_count": 18,
   "id": "5b1d3c3c",
   "metadata": {},
   "outputs": [],
   "source": [
    "# Replace the value 0 in Year Built with NaN\n",
    "df['Year Built'].replace(0, np.nan, inplace=True)\n",
    "\n",
    "# remove NaN values in \"Year Build\"\n",
    "df.dropna(subset=['Year Built'], inplace=True)\n"
   ]
  },
  {
   "cell_type": "markdown",
   "id": "05d2b430",
   "metadata": {},
   "source": [
    "#### 6.c Transform 'Year Build' into 'Age' for regression purpose\n"
   ]
  },
  {
   "cell_type": "code",
   "execution_count": 19,
   "id": "1741249d",
   "metadata": {},
   "outputs": [],
   "source": [
    "df['Year Built'] = df['Year Built'].astype(int)\n",
    "df['Age'] = pd.Timestamp('now').year - df['Year Built'] "
   ]
  },
  {
   "cell_type": "markdown",
   "id": "63f04917",
   "metadata": {},
   "source": [
    "#### 6.d Remove extra space in Country column"
   ]
  },
  {
   "cell_type": "code",
   "execution_count": 20,
   "id": "f9070861",
   "metadata": {},
   "outputs": [
    {
     "name": "stdout",
     "output_type": "stream",
     "text": [
      "<class 'pandas.core.frame.DataFrame'>\n",
      "Index: 9337 entries, 0 to 9887\n",
      "Data columns (total 20 columns):\n",
      " #   Column        Non-Null Count  Dtype  \n",
      "---  ------        --------------  -----  \n",
      " 0   Boat Type     9337 non-null   object \n",
      " 1   Manufacturer  8051 non-null   object \n",
      " 2   Type          9332 non-null   object \n",
      " 3   Year Built    9337 non-null   int32  \n",
      " 4   Length        9328 non-null   float64\n",
      " 5   Width         9282 non-null   float64\n",
      " 6   Material      7675 non-null   object \n",
      " 7   Location      9301 non-null   object \n",
      " 8   Views         9337 non-null   int64  \n",
      " 9   Price_USD     9337 non-null   float64\n",
      " 10  Country       9301 non-null   object \n",
      " 11  City          8449 non-null   object \n",
      " 12  Other         2984 non-null   object \n",
      " 13  t1            9332 non-null   object \n",
      " 14  t2            7206 non-null   object \n",
      " 15  t3            9332 non-null   object \n",
      " 16  t4            9252 non-null   object \n",
      " 17  t5            1898 non-null   object \n",
      " 18  t6            1898 non-null   object \n",
      " 19  Age           9337 non-null   int32  \n",
      "dtypes: float64(3), int32(2), int64(1), object(14)\n",
      "memory usage: 1.4+ MB\n"
     ]
    }
   ],
   "source": [
    "df.info()"
   ]
  },
  {
   "cell_type": "code",
   "execution_count": 21,
   "id": "7d40ccdc",
   "metadata": {},
   "outputs": [],
   "source": [
    "# df['Country'] = df['Country'].apply(lambda x: x.strip())"
   ]
  },
  {
   "cell_type": "markdown",
   "id": "5f0c2df9",
   "metadata": {},
   "source": [
    "#### 6.e Remove unnecessary columns"
   ]
  },
  {
   "cell_type": "code",
   "execution_count": 22,
   "id": "59e0c69d",
   "metadata": {},
   "outputs": [
    {
     "data": {
      "text/plain": [
       "Index(['Boat Type', 'Manufacturer', 'Type', 'Year Built', 'Length', 'Width',\n",
       "       'Material', 'Location', 'Views', 'Price_USD', 'Country', 'City',\n",
       "       'Other', 't1', 't2', 't3', 't4', 't5', 't6', 'Age'],\n",
       "      dtype='object')"
      ]
     },
     "execution_count": 22,
     "metadata": {},
     "output_type": "execute_result"
    }
   ],
   "source": [
    "df.columns"
   ]
  },
  {
   "cell_type": "code",
   "execution_count": 23,
   "id": "1ba3626c",
   "metadata": {},
   "outputs": [],
   "source": [
    "df.drop(['Manufacturer', 'Year Built', 'Material', 'Location', 'Other'], \n",
    "         axis=1, inplace=True)\n",
    "df.drop(['Type', 't1', 't2', 't4', 't5', 't6'], axis=1, inplace=True)"
   ]
  },
  {
   "cell_type": "code",
   "execution_count": 24,
   "id": "88a2f789",
   "metadata": {},
   "outputs": [],
   "source": [
    "# remove all Null values\n",
    "df.dropna(inplace=True)"
   ]
  },
  {
   "cell_type": "code",
   "execution_count": 25,
   "id": "c672b465",
   "metadata": {},
   "outputs": [
    {
     "data": {
      "text/plain": [
       "(8399, 9)"
      ]
     },
     "execution_count": 25,
     "metadata": {},
     "output_type": "execute_result"
    }
   ],
   "source": [
    "df.shape"
   ]
  },
  {
   "cell_type": "markdown",
   "id": "7f79e688",
   "metadata": {},
   "source": [
    "### 7. Subsetting\n",
    "Select only New boats into a new Dataframe for regression purpose"
   ]
  },
  {
   "cell_type": "code",
   "execution_count": 26,
   "id": "fbf8be3d",
   "metadata": {},
   "outputs": [
    {
     "data": {
      "text/plain": [
       "(8399, 9)"
      ]
     },
     "execution_count": 26,
     "metadata": {},
     "output_type": "execute_result"
    }
   ],
   "source": [
    "df.shape"
   ]
  },
  {
   "cell_type": "code",
   "execution_count": 27,
   "id": "26bd30d1",
   "metadata": {},
   "outputs": [],
   "source": [
    "#df_breakfast = df_product[df_product['department_id']==14]\n",
    "\n",
    "df_new = df[df['t3'] == 'new']"
   ]
  },
  {
   "cell_type": "code",
   "execution_count": 28,
   "id": "b04ecd5f",
   "metadata": {},
   "outputs": [
    {
     "data": {
      "text/plain": [
       "(1792, 9)"
      ]
     },
     "execution_count": 28,
     "metadata": {},
     "output_type": "execute_result"
    }
   ],
   "source": [
    "df_new.shape"
   ]
  },
  {
   "cell_type": "code",
   "execution_count": 29,
   "id": "231731f4",
   "metadata": {},
   "outputs": [
    {
     "data": {
      "text/html": [
       "<div>\n",
       "<style scoped>\n",
       "    .dataframe tbody tr th:only-of-type {\n",
       "        vertical-align: middle;\n",
       "    }\n",
       "\n",
       "    .dataframe tbody tr th {\n",
       "        vertical-align: top;\n",
       "    }\n",
       "\n",
       "    .dataframe thead th {\n",
       "        text-align: right;\n",
       "    }\n",
       "</style>\n",
       "<table border=\"1\" class=\"dataframe\">\n",
       "  <thead>\n",
       "    <tr style=\"text-align: right;\">\n",
       "      <th></th>\n",
       "      <th>Boat Type</th>\n",
       "      <th>Length</th>\n",
       "      <th>Width</th>\n",
       "      <th>Views</th>\n",
       "      <th>Price_USD</th>\n",
       "      <th>Country</th>\n",
       "      <th>City</th>\n",
       "      <th>t3</th>\n",
       "      <th>Age</th>\n",
       "    </tr>\n",
       "  </thead>\n",
       "  <tbody>\n",
       "    <tr>\n",
       "      <th>0</th>\n",
       "      <td>Motor Yacht</td>\n",
       "      <td>4.00</td>\n",
       "      <td>1.90</td>\n",
       "      <td>226</td>\n",
       "      <td>3667.363</td>\n",
       "      <td>Switzerland</td>\n",
       "      <td>Lake Geneva</td>\n",
       "      <td>new</td>\n",
       "      <td>7</td>\n",
       "    </tr>\n",
       "    <tr>\n",
       "      <th>1</th>\n",
       "      <td>Center console boat</td>\n",
       "      <td>4.00</td>\n",
       "      <td>1.50</td>\n",
       "      <td>75</td>\n",
       "      <td>3751.750</td>\n",
       "      <td>Germany</td>\n",
       "      <td>Bnningstedt</td>\n",
       "      <td>new</td>\n",
       "      <td>4</td>\n",
       "    </tr>\n",
       "    <tr>\n",
       "      <th>3</th>\n",
       "      <td>Sport Boat</td>\n",
       "      <td>3.00</td>\n",
       "      <td>1.00</td>\n",
       "      <td>64</td>\n",
       "      <td>3703.700</td>\n",
       "      <td>Denmark</td>\n",
       "      <td>Svendborg</td>\n",
       "      <td>new</td>\n",
       "      <td>4</td>\n",
       "    </tr>\n",
       "    <tr>\n",
       "      <th>4</th>\n",
       "      <td>Fishing Boat</td>\n",
       "      <td>3.55</td>\n",
       "      <td>1.46</td>\n",
       "      <td>58</td>\n",
       "      <td>3653.925</td>\n",
       "      <td>Germany</td>\n",
       "      <td>Bayern</td>\n",
       "      <td>new</td>\n",
       "      <td>5</td>\n",
       "    </tr>\n",
       "    <tr>\n",
       "      <th>8</th>\n",
       "      <td>Fishing Boat</td>\n",
       "      <td>3.64</td>\n",
       "      <td>1.37</td>\n",
       "      <td>45</td>\n",
       "      <td>3582.975</td>\n",
       "      <td>Germany</td>\n",
       "      <td>Bayern</td>\n",
       "      <td>new</td>\n",
       "      <td>5</td>\n",
       "    </tr>\n",
       "  </tbody>\n",
       "</table>\n",
       "</div>"
      ],
      "text/plain": [
       "             Boat Type  Length  Width  Views  Price_USD       Country  \\\n",
       "0          Motor Yacht    4.00   1.90    226   3667.363  Switzerland    \n",
       "1  Center console boat    4.00   1.50     75   3751.750      Germany    \n",
       "3           Sport Boat    3.00   1.00     64   3703.700      Denmark    \n",
       "4         Fishing Boat    3.55   1.46     58   3653.925      Germany    \n",
       "8         Fishing Boat    3.64   1.37     45   3582.975      Germany    \n",
       "\n",
       "            City   t3  Age  \n",
       "0   Lake Geneva   new    7  \n",
       "1    Bnningstedt  new    4  \n",
       "3      Svendborg  new    4  \n",
       "4        Bayern   new    5  \n",
       "8        Bayern   new    5  "
      ]
     },
     "execution_count": 29,
     "metadata": {},
     "output_type": "execute_result"
    }
   ],
   "source": [
    "df_new.head()"
   ]
  },
  {
   "cell_type": "code",
   "execution_count": 30,
   "id": "0cda6d23",
   "metadata": {},
   "outputs": [
    {
     "name": "stderr",
     "output_type": "stream",
     "text": [
      "C:\\Users\\tsoew\\AppData\\Local\\Temp\\ipykernel_14644\\2435866192.py:1: UserWarning: \n",
      "\n",
      "`distplot` is a deprecated function and will be removed in seaborn v0.14.0.\n",
      "\n",
      "Please adapt your code to use either `displot` (a figure-level function with\n",
      "similar flexibility) or `histplot` (an axes-level function for histograms).\n",
      "\n",
      "For a guide to updating your code to use the new functions, please see\n",
      "https://gist.github.com/mwaskom/de44147ed2974457ad6372750bbe5751\n",
      "\n",
      "  sns.distplot(df_new.Age)\n",
      "C:\\Users\\tsoew\\anaconda3\\Lib\\site-packages\\seaborn\\_oldcore.py:1119: FutureWarning: use_inf_as_na option is deprecated and will be removed in a future version. Convert inf values to NaN before operating instead.\n",
      "  with pd.option_context('mode.use_inf_as_na', True):\n"
     ]
    },
    {
     "data": {
      "text/plain": [
       "<Axes: xlabel='Age', ylabel='Density'>"
      ]
     },
     "execution_count": 30,
     "metadata": {},
     "output_type": "execute_result"
    },
    {
     "data": {
      "image/png": "[encoded data removed]",
      "text/plain": [
       "<Figure size 640x480 with 1 Axes>"
      ]
     },
     "metadata": {},
     "output_type": "display_data"
    }
   ],
   "source": [
    "sns.distplot(df_new.Age)"
   ]
  },
  {
   "cell_type": "code",
   "execution_count": 31,
   "id": "51aafeba",
   "metadata": {},
   "outputs": [
    {
     "name": "stderr",
     "output_type": "stream",
     "text": [
      "C:\\Users\\tsoew\\AppData\\Local\\Temp\\ipykernel_14644\\4291416811.py:3: UserWarning: \n",
      "\n",
      "`distplot` is a deprecated function and will be removed in seaborn v0.14.0.\n",
      "\n",
      "Please adapt your code to use either `displot` (a figure-level function with\n",
      "similar flexibility) or `histplot` (an axes-level function for histograms).\n",
      "\n",
      "For a guide to updating your code to use the new functions, please see\n",
      "https://gist.github.com/mwaskom/de44147ed2974457ad6372750bbe5751\n",
      "\n",
      "  sns.distplot(df_new.Length)\n",
      "C:\\Users\\tsoew\\anaconda3\\Lib\\site-packages\\seaborn\\_oldcore.py:1119: FutureWarning: use_inf_as_na option is deprecated and will be removed in a future version. Convert inf values to NaN before operating instead.\n",
      "  with pd.option_context('mode.use_inf_as_na', True):\n"
     ]
    },
    {
     "data": {
      "text/plain": [
       "Text(0.5, 1.0, 'Length Distribution')"
      ]
     },
     "execution_count": 31,
     "metadata": {},
     "output_type": "execute_result"
    },
    {
     "data": {
      "image/png": "[encoded data removed]",
      "text/plain": [
       "<Figure size 2000x1500 with 1 Axes>"
      ]
     },
     "metadata": {},
     "output_type": "display_data"
    }
   ],
   "source": [
    "fig = plt.figure(figsize=(20,15) )\n",
    "ax1 = fig.add_subplot(223)\n",
    "sns.distplot(df_new.Length)\n",
    "ax1.set_title(\"Length Distribution\")"
   ]
  },
  {
   "cell_type": "code",
   "execution_count": 32,
   "id": "1e8cd5d9",
   "metadata": {},
   "outputs": [
    {
     "name": "stderr",
     "output_type": "stream",
     "text": [
      "C:\\Users\\tsoew\\AppData\\Local\\Temp\\ipykernel_14644\\445326884.py:2: UserWarning: \n",
      "\n",
      "`distplot` is a deprecated function and will be removed in seaborn v0.14.0.\n",
      "\n",
      "Please adapt your code to use either `displot` (a figure-level function with\n",
      "similar flexibility) or `histplot` (an axes-level function for histograms).\n",
      "\n",
      "For a guide to updating your code to use the new functions, please see\n",
      "https://gist.github.com/mwaskom/de44147ed2974457ad6372750bbe5751\n",
      "\n",
      "  sns.distplot(df_new.Width)\n",
      "C:\\Users\\tsoew\\anaconda3\\Lib\\site-packages\\seaborn\\_oldcore.py:1119: FutureWarning: use_inf_as_na option is deprecated and will be removed in a future version. Convert inf values to NaN before operating instead.\n",
      "  with pd.option_context('mode.use_inf_as_na', True):\n"
     ]
    },
    {
     "data": {
      "text/plain": [
       "Text(0.5, 1.0, 'Witdh Distribution')"
      ]
     },
     "execution_count": 32,
     "metadata": {},
     "output_type": "execute_result"
    },
    {
     "data": {
      "image/png": "[encoded data removed]",
      "text/plain": [
       "<Figure size 640x480 with 1 Axes>"
      ]
     },
     "metadata": {},
     "output_type": "display_data"
    }
   ],
   "source": [
    "ax2 = fig.add_subplot(223)\n",
    "sns.distplot(df_new.Width)\n",
    "ax2.set_title(\"Witdh Distribution\")"
   ]
  },
  {
   "cell_type": "code",
   "execution_count": 33,
   "id": "3cd7887c",
   "metadata": {},
   "outputs": [],
   "source": [
    "# sns.pairplot(df_new)"
   ]
  },
  {
   "cell_type": "code",
   "execution_count": 34,
   "id": "8e905dc7",
   "metadata": {},
   "outputs": [],
   "source": [
    "# Export the new format of department dataframe\n",
    "df_new.to_csv(os.path.join(path, 'boat_data_new.csv'))"
   ]
  }
 ],
 "metadata": {
  "kernelspec": {
   "display_name": "Python 3 (ipykernel)",
   "language": "python",
   "name": "python3"
  },
  "language_info": {
   "codemirror_mode": {
    "name": "ipython",
    "version": 3
   },
   "file_extension": ".py",
   "mimetype": "text/x-python",
   "name": "python",
   "nbconvert_exporter": "python",
   "pygments_lexer": "ipython3",
   "version": "3.11.5"
  }
 },
 "nbformat": 4,
 "nbformat_minor": 5
}
