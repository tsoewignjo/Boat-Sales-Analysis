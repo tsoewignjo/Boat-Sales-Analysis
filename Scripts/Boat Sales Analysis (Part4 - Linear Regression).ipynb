{
 "cells": [
  {
   "cell_type": "markdown",
   "id": "5e854971",
   "metadata": {},
   "source": [
    "# Boat Sales Analysis\n",
    "\n",
    "### Part 4 - Linear Regression"
   ]
  },
  {
   "cell_type": "markdown",
   "id": "52627589",
   "metadata": {},
   "source": [
    "#### Intro\n",
    "\n",
    "Regression analysis is used to assess the relationships between a continuous independent variable (or variables) and a dependent variable (the one you’re trying to predict). \n",
    "    \n",
    "Regression analysis produces an equation whose coefficients represent the kind of relationship that exists between each independent variable and the dependent variable. This equation can then be used to make predictions. In general, regression analysis looks for how the rise and fall of an independent variable influences the dependent variable"
   ]
  },
  {
   "cell_type": "markdown",
   "id": "06cf3c68",
   "metadata": {},
   "source": [
    "#### Content\n",
    "1. Import Libraries\n",
    "2. Load data set \n",
    "3. Preparing Data \n",
    "4. Regression Analysis (Price vs Length)\n",
    "5. Regression Analysis (Price vs Width)\n",
    "6. Export data set"
   ]
  },
  {
   "cell_type": "markdown",
   "id": "1bdd4f92",
   "metadata": {},
   "source": [
    "### 1. Import libraries"
   ]
  },
  {
   "cell_type": "code",
   "execution_count": 1,
   "id": "1d745970",
   "metadata": {},
   "outputs": [],
   "source": [
    "import pandas as pd\n",
    "import numpy as np\n",
    "import seaborn as sns\n",
    "import matplotlib\n",
    "import matplotlib.pyplot as plt\n",
    "import os\n",
    "import sklearn\n",
    "from sklearn.model_selection import train_test_split \n",
    "from sklearn.linear_model import LinearRegression\n",
    "from sklearn.metrics import mean_squared_error, r2_score"
   ]
  },
  {
   "cell_type": "markdown",
   "id": "c1c7a076",
   "metadata": {},
   "source": [
    "### 2. Load Data Set"
   ]
  },
  {
   "cell_type": "code",
   "execution_count": 2,
   "id": "34725b2e",
   "metadata": {},
   "outputs": [],
   "source": [
    "# Set path to access data files\n",
    "path = r'C:\\Users\\tsoew\\OneDrive\\Desktop\\Boat Sales Analysis'"
   ]
  },
  {
   "cell_type": "code",
   "execution_count": 3,
   "id": "25714ee0",
   "metadata": {},
   "outputs": [],
   "source": [
    "# Import data file that has been prepared for regression analysis\n",
    "# It contains only new boat set\n",
    "df = pd.read_csv (os.path.join(path, 'Data', 'Prepared Data', 'newboat_data_split.csv'), index_col=False)\n",
    "\n",
    "# try to use the full version of data set\n",
    "# df = pd.read_csv (os.path.join(path, 'Data', 'Prepared Data', 'boat_data_final.csv'), index_col=False)\n"
   ]
  },
  {
   "cell_type": "code",
   "execution_count": 4,
   "id": "d0f44e47",
   "metadata": {},
   "outputs": [],
   "source": [
    "df.drop('Unnamed: 0', axis=1, inplace=True)"
   ]
  },
  {
   "cell_type": "code",
   "execution_count": 5,
   "id": "a2916186",
   "metadata": {
    "scrolled": true
   },
   "outputs": [
    {
     "data": {
      "text/html": [
       "<div>\n",
       "<style scoped>\n",
       "    .dataframe tbody tr th:only-of-type {\n",
       "        vertical-align: middle;\n",
       "    }\n",
       "\n",
       "    .dataframe tbody tr th {\n",
       "        vertical-align: top;\n",
       "    }\n",
       "\n",
       "    .dataframe thead th {\n",
       "        text-align: right;\n",
       "    }\n",
       "</style>\n",
       "<table border=\"1\" class=\"dataframe\">\n",
       "  <thead>\n",
       "    <tr style=\"text-align: right;\">\n",
       "      <th></th>\n",
       "      <th>Length</th>\n",
       "      <th>Width</th>\n",
       "      <th>Views</th>\n",
       "      <th>Price_USD</th>\n",
       "      <th>Age</th>\n",
       "    </tr>\n",
       "  </thead>\n",
       "  <tbody>\n",
       "    <tr>\n",
       "      <th>0</th>\n",
       "      <td>4.00</td>\n",
       "      <td>1.90</td>\n",
       "      <td>226</td>\n",
       "      <td>3667.363</td>\n",
       "      <td>7</td>\n",
       "    </tr>\n",
       "    <tr>\n",
       "      <th>1</th>\n",
       "      <td>4.00</td>\n",
       "      <td>1.50</td>\n",
       "      <td>75</td>\n",
       "      <td>3751.750</td>\n",
       "      <td>4</td>\n",
       "    </tr>\n",
       "    <tr>\n",
       "      <th>2</th>\n",
       "      <td>3.00</td>\n",
       "      <td>1.00</td>\n",
       "      <td>64</td>\n",
       "      <td>3703.700</td>\n",
       "      <td>4</td>\n",
       "    </tr>\n",
       "    <tr>\n",
       "      <th>3</th>\n",
       "      <td>3.55</td>\n",
       "      <td>1.46</td>\n",
       "      <td>58</td>\n",
       "      <td>3653.925</td>\n",
       "      <td>5</td>\n",
       "    </tr>\n",
       "    <tr>\n",
       "      <th>4</th>\n",
       "      <td>3.64</td>\n",
       "      <td>1.37</td>\n",
       "      <td>45</td>\n",
       "      <td>3582.975</td>\n",
       "      <td>5</td>\n",
       "    </tr>\n",
       "  </tbody>\n",
       "</table>\n",
       "</div>"
      ],
      "text/plain": [
       "   Length  Width  Views  Price_USD  Age\n",
       "0    4.00   1.90    226   3667.363    7\n",
       "1    4.00   1.50     75   3751.750    4\n",
       "2    3.00   1.00     64   3703.700    4\n",
       "3    3.55   1.46     58   3653.925    5\n",
       "4    3.64   1.37     45   3582.975    5"
      ]
     },
     "execution_count": 5,
     "metadata": {},
     "output_type": "execute_result"
    }
   ],
   "source": [
    "# Check data head\n",
    "df.head()"
   ]
  },
  {
   "cell_type": "code",
   "execution_count": 6,
   "id": "227d57a3",
   "metadata": {
    "scrolled": true
   },
   "outputs": [
    {
     "data": {
      "text/plain": [
       "(1888, 5)"
      ]
     },
     "execution_count": 6,
     "metadata": {},
     "output_type": "execute_result"
    }
   ],
   "source": [
    "df.shape"
   ]
  },
  {
   "cell_type": "markdown",
   "id": "d5994571",
   "metadata": {},
   "source": [
    "### 3. Preparing Data"
   ]
  },
  {
   "cell_type": "code",
   "execution_count": 7,
   "id": "8a805b5e",
   "metadata": {},
   "outputs": [
    {
     "data": {
      "text/plain": [
       "Length       0\n",
       "Width        0\n",
       "Views        0\n",
       "Price_USD    0\n",
       "Age          0\n",
       "dtype: int64"
      ]
     },
     "execution_count": 7,
     "metadata": {},
     "output_type": "execute_result"
    }
   ],
   "source": [
    "# Check for missing values\n",
    "df.isnull().sum()"
   ]
  },
  {
   "cell_type": "code",
   "execution_count": 8,
   "id": "26c6e56b",
   "metadata": {},
   "outputs": [
    {
     "data": {
      "text/plain": [
       "(1888,)"
      ]
     },
     "execution_count": 8,
     "metadata": {},
     "output_type": "execute_result"
    }
   ],
   "source": [
    "# Check for duplicates\n",
    "dups = df.duplicated()\n",
    "dups.shape"
   ]
  },
  {
   "cell_type": "markdown",
   "id": "e64585a6",
   "metadata": {},
   "source": [
    "### Extreme values check"
   ]
  },
  {
   "cell_type": "markdown",
   "id": "294f6391",
   "metadata": {},
   "source": [
    "#### Check extreme values for Boat Price"
   ]
  },
  {
   "cell_type": "code",
   "execution_count": 9,
   "id": "1d2318bb",
   "metadata": {},
   "outputs": [
    {
     "name": "stderr",
     "output_type": "stream",
     "text": [
      "C:\\Users\\tsoew\\AppData\\Local\\Temp\\ipykernel_9888\\3009283478.py:2: UserWarning: \n",
      "\n",
      "`distplot` is a deprecated function and will be removed in seaborn v0.14.0.\n",
      "\n",
      "Please adapt your code to use either `displot` (a figure-level function with\n",
      "similar flexibility) or `histplot` (an axes-level function for histograms).\n",
      "\n",
      "For a guide to updating your code to use the new functions, please see\n",
      "https://gist.github.com/mwaskom/de44147ed2974457ad6372750bbe5751\n",
      "\n",
      "  sns.distplot(df['Price_USD'], bins=25)\n",
      "C:\\Users\\tsoew\\anaconda3\\Lib\\site-packages\\seaborn\\_oldcore.py:1119: FutureWarning: use_inf_as_na option is deprecated and will be removed in a future version. Convert inf values to NaN before operating instead.\n",
      "  with pd.option_context('mode.use_inf_as_na', True):\n"
     ]
    },
    {
     "data": {
      "text/plain": [
       "<Axes: xlabel='Price_USD', ylabel='Density'>"
      ]
     },
     "execution_count": 9,
     "metadata": {},
     "output_type": "execute_result"
    },
    {
     "data": {
      "image/png": "[encoded data removed]",
      "text/plain": [
       "<Figure size 640x480 with 1 Axes>"
      ]
     },
     "metadata": {},
     "output_type": "display_data"
    }
   ],
   "source": [
    "# Shows extreme values for Price\n",
    "sns.distplot(df['Price_USD'], bins=25) "
   ]
  },
  {
   "cell_type": "code",
   "execution_count": 10,
   "id": "6c603392",
   "metadata": {},
   "outputs": [
    {
     "data": {
      "text/plain": [
       "count    1.888000e+03\n",
       "mean     3.331008e+05\n",
       "std      1.485851e+06\n",
       "min      3.547500e+03\n",
       "25%      3.840456e+04\n",
       "50%      6.939985e+04\n",
       "75%      1.714563e+05\n",
       "max      3.332500e+07\n",
       "Name: Price_USD, dtype: float64"
      ]
     },
     "execution_count": 10,
     "metadata": {},
     "output_type": "execute_result"
    }
   ],
   "source": [
    "# Check Price statistic\n",
    "df['Price_USD'].describe()"
   ]
  },
  {
   "cell_type": "markdown",
   "id": "28347d2f",
   "metadata": {},
   "source": [
    "#### Remove outliers"
   ]
  },
  {
   "cell_type": "code",
   "execution_count": 11,
   "id": "e6c17887",
   "metadata": {},
   "outputs": [],
   "source": [
    "# Remove price with extreme values (>= 10M)\n",
    "df = df[df['Price_USD'] < 1000000]"
   ]
  },
  {
   "cell_type": "code",
   "execution_count": 12,
   "id": "f64f6dad",
   "metadata": {},
   "outputs": [
    {
     "data": {
      "text/plain": [
       "count      1786.000000\n",
       "mean     123406.899573\n",
       "std      151238.252264\n",
       "min        3547.500000\n",
       "25%       37086.693750\n",
       "50%       65450.980000\n",
       "75%      145125.000000\n",
       "max      999937.500000\n",
       "Name: Price_USD, dtype: float64"
      ]
     },
     "execution_count": 12,
     "metadata": {},
     "output_type": "execute_result"
    }
   ],
   "source": [
    "df['Price_USD'].describe()"
   ]
  },
  {
   "cell_type": "markdown",
   "id": "26e1a99e",
   "metadata": {},
   "source": [
    "#### Check extreme values for Boat Length"
   ]
  },
  {
   "cell_type": "code",
   "execution_count": 13,
   "id": "d6c3e2a6",
   "metadata": {
    "scrolled": true
   },
   "outputs": [
    {
     "name": "stderr",
     "output_type": "stream",
     "text": [
      "C:\\Users\\tsoew\\AppData\\Local\\Temp\\ipykernel_9888\\4200467057.py:2: UserWarning: \n",
      "\n",
      "`distplot` is a deprecated function and will be removed in seaborn v0.14.0.\n",
      "\n",
      "Please adapt your code to use either `displot` (a figure-level function with\n",
      "similar flexibility) or `histplot` (an axes-level function for histograms).\n",
      "\n",
      "For a guide to updating your code to use the new functions, please see\n",
      "https://gist.github.com/mwaskom/de44147ed2974457ad6372750bbe5751\n",
      "\n",
      "  sns.distplot(df['Length'], bins=25)\n",
      "C:\\Users\\tsoew\\anaconda3\\Lib\\site-packages\\seaborn\\_oldcore.py:1119: FutureWarning: use_inf_as_na option is deprecated and will be removed in a future version. Convert inf values to NaN before operating instead.\n",
      "  with pd.option_context('mode.use_inf_as_na', True):\n"
     ]
    },
    {
     "data": {
      "text/plain": [
       "<Axes: xlabel='Length', ylabel='Density'>"
      ]
     },
     "execution_count": 13,
     "metadata": {},
     "output_type": "execute_result"
    },
    {
     "data": {
      "image/png": "[encoded data removed]",
      "text/plain": [
       "<Figure size 640x480 with 1 Axes>"
      ]
     },
     "metadata": {},
     "output_type": "display_data"
    }
   ],
   "source": [
    "# Shows extreme values for Length\n",
    "sns.distplot(df['Length'], bins=25) "
   ]
  },
  {
   "cell_type": "code",
   "execution_count": 14,
   "id": "98a56969",
   "metadata": {},
   "outputs": [
    {
     "data": {
      "text/plain": [
       "count    1786.000000\n",
       "mean        7.670196\n",
       "std         2.523938\n",
       "min         1.700000\n",
       "25%         6.000000\n",
       "50%         7.000000\n",
       "75%         8.800000\n",
       "max        22.000000\n",
       "Name: Length, dtype: float64"
      ]
     },
     "execution_count": 14,
     "metadata": {},
     "output_type": "execute_result"
    }
   ],
   "source": [
    "df['Length'].describe()"
   ]
  },
  {
   "cell_type": "markdown",
   "id": "bd8f9688",
   "metadata": {},
   "source": [
    "#### Note:\n",
    "There is not extreme value for boat length."
   ]
  },
  {
   "cell_type": "markdown",
   "id": "c789f495",
   "metadata": {},
   "source": [
    "#### Check extreme values for Boat Width"
   ]
  },
  {
   "cell_type": "code",
   "execution_count": 15,
   "id": "1712ed00",
   "metadata": {
    "scrolled": true
   },
   "outputs": [
    {
     "name": "stderr",
     "output_type": "stream",
     "text": [
      "C:\\Users\\tsoew\\AppData\\Local\\Temp\\ipykernel_9888\\1789141783.py:2: UserWarning: \n",
      "\n",
      "`distplot` is a deprecated function and will be removed in seaborn v0.14.0.\n",
      "\n",
      "Please adapt your code to use either `displot` (a figure-level function with\n",
      "similar flexibility) or `histplot` (an axes-level function for histograms).\n",
      "\n",
      "For a guide to updating your code to use the new functions, please see\n",
      "https://gist.github.com/mwaskom/de44147ed2974457ad6372750bbe5751\n",
      "\n",
      "  sns.distplot(df['Width'], bins=25)\n",
      "C:\\Users\\tsoew\\anaconda3\\Lib\\site-packages\\seaborn\\_oldcore.py:1119: FutureWarning: use_inf_as_na option is deprecated and will be removed in a future version. Convert inf values to NaN before operating instead.\n",
      "  with pd.option_context('mode.use_inf_as_na', True):\n"
     ]
    },
    {
     "data": {
      "text/plain": [
       "<Axes: xlabel='Width', ylabel='Density'>"
      ]
     },
     "execution_count": 15,
     "metadata": {},
     "output_type": "execute_result"
    },
    {
     "data": {
      "image/png": "[encoded data removed]",
      "text/plain": [
       "<Figure size 640x480 with 1 Axes>"
      ]
     },
     "metadata": {},
     "output_type": "display_data"
    }
   ],
   "source": [
    "# Shows extreme values for Length\n",
    "sns.distplot(df['Width'], bins=25) "
   ]
  },
  {
   "cell_type": "code",
   "execution_count": 16,
   "id": "93c10814",
   "metadata": {},
   "outputs": [
    {
     "data": {
      "text/plain": [
       "count    1786.000000\n",
       "mean        2.686702\n",
       "std         0.698457\n",
       "min         1.000000\n",
       "25%         2.300000\n",
       "50%         2.500000\n",
       "75%         2.970000\n",
       "max         9.980000\n",
       "Name: Width, dtype: float64"
      ]
     },
     "execution_count": 16,
     "metadata": {},
     "output_type": "execute_result"
    }
   ],
   "source": [
    "df['Width'].describe()"
   ]
  },
  {
   "cell_type": "code",
   "execution_count": 17,
   "id": "c366c816",
   "metadata": {},
   "outputs": [
    {
     "name": "stderr",
     "output_type": "stream",
     "text": [
      "C:\\Users\\tsoew\\anaconda3\\Lib\\site-packages\\seaborn\\axisgrid.py:118: UserWarning: The figure layout has changed to tight\n",
      "  self._figure.tight_layout(*args, **kwargs)\n"
     ]
    },
    {
     "data": {
      "image/png": "[encoded data removed]",
      "text/plain": [
       "<Figure size 500x500 with 1 Axes>"
      ]
     },
     "metadata": {},
     "output_type": "display_data"
    }
   ],
   "source": [
    "# check the correlation between width and length\n",
    "scatterplot = sns.lmplot(x = 'Width', y = 'Length', data = df)"
   ]
  },
  {
   "cell_type": "markdown",
   "id": "649f4740",
   "metadata": {},
   "source": [
    "#### Remove outliers"
   ]
  },
  {
   "cell_type": "code",
   "execution_count": 18,
   "id": "1eef5fce",
   "metadata": {},
   "outputs": [
    {
     "data": {
      "text/html": [
       "<div>\n",
       "<style scoped>\n",
       "    .dataframe tbody tr th:only-of-type {\n",
       "        vertical-align: middle;\n",
       "    }\n",
       "\n",
       "    .dataframe tbody tr th {\n",
       "        vertical-align: top;\n",
       "    }\n",
       "\n",
       "    .dataframe thead th {\n",
       "        text-align: right;\n",
       "    }\n",
       "</style>\n",
       "<table border=\"1\" class=\"dataframe\">\n",
       "  <thead>\n",
       "    <tr style=\"text-align: right;\">\n",
       "      <th></th>\n",
       "      <th>Length</th>\n",
       "      <th>Width</th>\n",
       "      <th>Views</th>\n",
       "      <th>Price_USD</th>\n",
       "      <th>Age</th>\n",
       "    </tr>\n",
       "  </thead>\n",
       "  <tbody>\n",
       "    <tr>\n",
       "      <th>379</th>\n",
       "      <td>2.36</td>\n",
       "      <td>7.55</td>\n",
       "      <td>220</td>\n",
       "      <td>102207.0</td>\n",
       "      <td>5</td>\n",
       "    </tr>\n",
       "    <tr>\n",
       "      <th>737</th>\n",
       "      <td>1.70</td>\n",
       "      <td>3.64</td>\n",
       "      <td>191</td>\n",
       "      <td>494500.0</td>\n",
       "      <td>4</td>\n",
       "    </tr>\n",
       "    <tr>\n",
       "      <th>1319</th>\n",
       "      <td>2.48</td>\n",
       "      <td>6.40</td>\n",
       "      <td>209</td>\n",
       "      <td>67258.8</td>\n",
       "      <td>4</td>\n",
       "    </tr>\n",
       "  </tbody>\n",
       "</table>\n",
       "</div>"
      ],
      "text/plain": [
       "      Length  Width  Views  Price_USD  Age\n",
       "379     2.36   7.55    220   102207.0    5\n",
       "737     1.70   3.64    191   494500.0    4\n",
       "1319    2.48   6.40    209    67258.8    4"
      ]
     },
     "execution_count": 18,
     "metadata": {},
     "output_type": "execute_result"
    }
   ],
   "source": [
    "# Check for boats that have width > 5 but length < 10\n",
    "result = df.loc[(df['Width'] > 3) & (df['Length'] < 5)]\n",
    "result"
   ]
  },
  {
   "cell_type": "code",
   "execution_count": 19,
   "id": "aa7848e6",
   "metadata": {},
   "outputs": [
    {
     "data": {
      "text/html": [
       "<div>\n",
       "<style scoped>\n",
       "    .dataframe tbody tr th:only-of-type {\n",
       "        vertical-align: middle;\n",
       "    }\n",
       "\n",
       "    .dataframe tbody tr th {\n",
       "        vertical-align: top;\n",
       "    }\n",
       "\n",
       "    .dataframe thead th {\n",
       "        text-align: right;\n",
       "    }\n",
       "</style>\n",
       "<table border=\"1\" class=\"dataframe\">\n",
       "  <thead>\n",
       "    <tr style=\"text-align: right;\">\n",
       "      <th></th>\n",
       "      <th>Length</th>\n",
       "      <th>Width</th>\n",
       "      <th>Views</th>\n",
       "      <th>Price_USD</th>\n",
       "      <th>Age</th>\n",
       "    </tr>\n",
       "  </thead>\n",
       "  <tbody>\n",
       "    <tr>\n",
       "      <th>379</th>\n",
       "      <td>2.36</td>\n",
       "      <td>7.55</td>\n",
       "      <td>220</td>\n",
       "      <td>102207.0</td>\n",
       "      <td>5</td>\n",
       "    </tr>\n",
       "    <tr>\n",
       "      <th>462</th>\n",
       "      <td>9.12</td>\n",
       "      <td>9.98</td>\n",
       "      <td>36</td>\n",
       "      <td>156842.5</td>\n",
       "      <td>4</td>\n",
       "    </tr>\n",
       "    <tr>\n",
       "      <th>1319</th>\n",
       "      <td>2.48</td>\n",
       "      <td>6.40</td>\n",
       "      <td>209</td>\n",
       "      <td>67258.8</td>\n",
       "      <td>4</td>\n",
       "    </tr>\n",
       "    <tr>\n",
       "      <th>1428</th>\n",
       "      <td>6.40</td>\n",
       "      <td>5.45</td>\n",
       "      <td>119</td>\n",
       "      <td>50417.5</td>\n",
       "      <td>5</td>\n",
       "    </tr>\n",
       "  </tbody>\n",
       "</table>\n",
       "</div>"
      ],
      "text/plain": [
       "      Length  Width  Views  Price_USD  Age\n",
       "379     2.36   7.55    220   102207.0    5\n",
       "462     9.12   9.98     36   156842.5    4\n",
       "1319    2.48   6.40    209    67258.8    4\n",
       "1428    6.40   5.45    119    50417.5    5"
      ]
     },
     "execution_count": 19,
     "metadata": {},
     "output_type": "execute_result"
    }
   ],
   "source": [
    "# Check for boats that have width > 5 but length < 10\n",
    "result = df.loc[(df['Width'] > 5) & (df['Length'] < 10)]\n",
    "result"
   ]
  },
  {
   "cell_type": "code",
   "execution_count": 20,
   "id": "d9ad0e59",
   "metadata": {},
   "outputs": [],
   "source": [
    "# Remove outlier with indexes: 379, 462, 878, 1319, 1428\n",
    "df.drop(379, axis=0, inplace=True)\n",
    "df.drop(462, axis=0, inplace=True)\n",
    "df.drop(737, axis=0, inplace=True)\n",
    "df.drop(878, axis=0, inplace=True)\n",
    "df.drop(1319, axis=0, inplace=True)\n",
    "df.drop(1428, axis=0, inplace=True)"
   ]
  },
  {
   "cell_type": "code",
   "execution_count": 21,
   "id": "d1c9395d",
   "metadata": {
    "scrolled": true
   },
   "outputs": [
    {
     "name": "stderr",
     "output_type": "stream",
     "text": [
      "C:\\Users\\tsoew\\anaconda3\\Lib\\site-packages\\seaborn\\axisgrid.py:118: UserWarning: The figure layout has changed to tight\n",
      "  self._figure.tight_layout(*args, **kwargs)\n"
     ]
    },
    {
     "data": {
      "image/png": "[encoded data removed]",
      "text/plain": [
       "<Figure size 500x500 with 1 Axes>"
      ]
     },
     "metadata": {},
     "output_type": "display_data"
    }
   ],
   "source": [
    "# check the correlation between width and length\n",
    "scatterplot = sns.lmplot(x = 'Width', y = 'Length', data = df)"
   ]
  },
  {
   "cell_type": "markdown",
   "id": "738c2b74",
   "metadata": {},
   "source": [
    "### --------------------------------------------------------------------\n",
    "### 4. Regression Analysis between Length and Price\n",
    "### --------------------------------------------------------------------"
   ]
  },
  {
   "cell_type": "code",
   "execution_count": 22,
   "id": "41a7ca7b",
   "metadata": {},
   "outputs": [
    {
     "name": "stderr",
     "output_type": "stream",
     "text": [
      "C:\\Users\\tsoew\\anaconda3\\Lib\\site-packages\\seaborn\\axisgrid.py:118: UserWarning: The figure layout has changed to tight\n",
      "  self._figure.tight_layout(*args, **kwargs)\n"
     ]
    },
    {
     "data": {
      "image/png": "[encoded data removed]",
      "text/plain": [
       "<Figure size 500x500 with 1 Axes>"
      ]
     },
     "metadata": {},
     "output_type": "display_data"
    }
   ],
   "source": [
    "# Check correlation between Price and Length\n",
    "scatterplot = sns.lmplot(data=df, x ='Price_USD', y='Length')"
   ]
  },
  {
   "cell_type": "markdown",
   "id": "10adec1a",
   "metadata": {},
   "source": [
    "#### Reshape variables"
   ]
  },
  {
   "cell_type": "code",
   "execution_count": 23,
   "id": "38fab02c",
   "metadata": {},
   "outputs": [],
   "source": [
    "# Reshape the variables into NumPy arrays and put them into separate objects.\n",
    "X = df['Length'].values.reshape(-1,1)\n",
    "y = df['Price_USD'].values.reshape(-1,1)"
   ]
  },
  {
   "cell_type": "markdown",
   "id": "7a8001e7",
   "metadata": {},
   "source": [
    "#### Split data"
   ]
  },
  {
   "cell_type": "markdown",
   "id": "48d2ae09",
   "metadata": {},
   "source": [
    "Here, you’re creating two sets of data (further divided into X and y): X_train and X_test, and y_train and y_test. The “train” versions will be used to train the model, and the “test” versions will be used to test the model’s performance. The test_size = 0.3 argument within the function is specifying that the test set should comprise 30 percent of the data (thus making the training set 70 percent of the data)."
   ]
  },
  {
   "cell_type": "code",
   "execution_count": 24,
   "id": "406787cd",
   "metadata": {},
   "outputs": [],
   "source": [
    "# Split data into a training set and a test set.\n",
    "X_train, X_test, y_train, y_test = train_test_split(X, y, test_size=0.3, random_state=0)"
   ]
  },
  {
   "cell_type": "markdown",
   "id": "0f6bf9ca",
   "metadata": {},
   "source": [
    "#### Create a regression object."
   ]
  },
  {
   "cell_type": "code",
   "execution_count": 25,
   "id": "ed5a3563",
   "metadata": {},
   "outputs": [],
   "source": [
    "# This is the regression object, which will be fit onto the training set.\n",
    "regression = LinearRegression()  "
   ]
  },
  {
   "cell_type": "code",
   "execution_count": 26,
   "id": "1a4ed0df",
   "metadata": {},
   "outputs": [
    {
     "data": {
      "text/html": [
       "<style>#sk-container-id-1 {color: black;}#sk-container-id-1 pre{padding: 0;}#sk-container-id-1 div.sk-toggleable {background-color: white;}#sk-container-id-1 label.sk-toggleable__label {cursor: pointer;display: block;width: 100%;margin-bottom: 0;padding: 0.3em;box-sizing: border-box;text-align: center;}#sk-container-id-1 label.sk-toggleable__label-arrow:before {content: \"▸\";float: left;margin-right: 0.25em;color: #696969;}#sk-container-id-1 label.sk-toggleable__label-arrow:hover:before {color: black;}#sk-container-id-1 div.sk-estimator:hover label.sk-toggleable__label-arrow:before {color: black;}#sk-container-id-1 div.sk-toggleable__content {max-height: 0;max-width: 0;overflow: hidden;text-align: left;background-color: #f0f8ff;}#sk-container-id-1 div.sk-toggleable__content pre {margin: 0.2em;color: black;border-radius: 0.25em;background-color: #f0f8ff;}#sk-container-id-1 input.sk-toggleable__control:checked~div.sk-toggleable__content {max-height: 200px;max-width: 100%;overflow: auto;}#sk-container-id-1 input.sk-toggleable__control:checked~label.sk-toggleable__label-arrow:before {content: \"▾\";}#sk-container-id-1 div.sk-estimator input.sk-toggleable__control:checked~label.sk-toggleable__label {background-color: #d4ebff;}#sk-container-id-1 div.sk-label input.sk-toggleable__control:checked~label.sk-toggleable__label {background-color: #d4ebff;}#sk-container-id-1 input.sk-hidden--visually {border: 0;clip: rect(1px 1px 1px 1px);clip: rect(1px, 1px, 1px, 1px);height: 1px;margin: -1px;overflow: hidden;padding: 0;position: absolute;width: 1px;}#sk-container-id-1 div.sk-estimator {font-family: monospace;background-color: #f0f8ff;border: 1px dotted black;border-radius: 0.25em;box-sizing: border-box;margin-bottom: 0.5em;}#sk-container-id-1 div.sk-estimator:hover {background-color: #d4ebff;}#sk-container-id-1 div.sk-parallel-item::after {content: \"\";width: 100%;border-bottom: 1px solid gray;flex-grow: 1;}#sk-container-id-1 div.sk-label:hover label.sk-toggleable__label {background-color: #d4ebff;}#sk-container-id-1 div.sk-serial::before {content: \"\";position: absolute;border-left: 1px solid gray;box-sizing: border-box;top: 0;bottom: 0;left: 50%;z-index: 0;}#sk-container-id-1 div.sk-serial {display: flex;flex-direction: column;align-items: center;background-color: white;padding-right: 0.2em;padding-left: 0.2em;position: relative;}#sk-container-id-1 div.sk-item {position: relative;z-index: 1;}#sk-container-id-1 div.sk-parallel {display: flex;align-items: stretch;justify-content: center;background-color: white;position: relative;}#sk-container-id-1 div.sk-item::before, #sk-container-id-1 div.sk-parallel-item::before {content: \"\";position: absolute;border-left: 1px solid gray;box-sizing: border-box;top: 0;bottom: 0;left: 50%;z-index: -1;}#sk-container-id-1 div.sk-parallel-item {display: flex;flex-direction: column;z-index: 1;position: relative;background-color: white;}#sk-container-id-1 div.sk-parallel-item:first-child::after {align-self: flex-end;width: 50%;}#sk-container-id-1 div.sk-parallel-item:last-child::after {align-self: flex-start;width: 50%;}#sk-container-id-1 div.sk-parallel-item:only-child::after {width: 0;}#sk-container-id-1 div.sk-dashed-wrapped {border: 1px dashed gray;margin: 0 0.4em 0.5em 0.4em;box-sizing: border-box;padding-bottom: 0.4em;background-color: white;}#sk-container-id-1 div.sk-label label {font-family: monospace;font-weight: bold;display: inline-block;line-height: 1.2em;}#sk-container-id-1 div.sk-label-container {text-align: center;}#sk-container-id-1 div.sk-container {/* jupyter's `normalize.less` sets `[hidden] { display: none; }` but bootstrap.min.css set `[hidden] { display: none !important; }` so we also need the `!important` here to be able to override the default hidden behavior on the sphinx rendered scikit-learn.org. See: https://github.com/scikit-learn/scikit-learn/issues/21755 */display: inline-block !important;position: relative;}#sk-container-id-1 div.sk-text-repr-fallback {display: none;}</style><div id=\"sk-container-id-1\" class=\"sk-top-container\"><div class=\"sk-text-repr-fallback\"><pre>LinearRegression()</pre><b>In a Jupyter environment, please rerun this cell to show the HTML representation or trust the notebook. <br />On GitHub, the HTML representation is unable to render, please try loading this page with nbviewer.org.</b></div><div class=\"sk-container\" hidden><div class=\"sk-item\"><div class=\"sk-estimator sk-toggleable\"><input class=\"sk-toggleable__control sk-hidden--visually\" id=\"sk-estimator-id-1\" type=\"checkbox\" checked><label for=\"sk-estimator-id-1\" class=\"sk-toggleable__label sk-toggleable__label-arrow\">LinearRegression</label><div class=\"sk-toggleable__content\"><pre>LinearRegression()</pre></div></div></div></div></div>"
      ],
      "text/plain": [
       "LinearRegression()"
      ]
     },
     "execution_count": 26,
     "metadata": {},
     "output_type": "execute_result"
    }
   ],
   "source": [
    "# Fit the regression object onto the training set. (70% of the data)\n",
    "regression.fit(X_train, y_train)"
   ]
  },
  {
   "cell_type": "markdown",
   "id": "b73297c5",
   "metadata": {},
   "source": [
    "#### Run the prediction"
   ]
  },
  {
   "cell_type": "code",
   "execution_count": 27,
   "id": "6787e437",
   "metadata": {},
   "outputs": [],
   "source": [
    "# Predict the values of y using X.\n",
    "y_predicted = regression.predict(X_test)"
   ]
  },
  {
   "cell_type": "markdown",
   "id": "042d875b",
   "metadata": {},
   "source": [
    "#### Show regression line"
   ]
  },
  {
   "cell_type": "code",
   "execution_count": 28,
   "id": "f1f76078",
   "metadata": {},
   "outputs": [
    {
     "data": {
      "image/png": "[encoded data removed]",
      "text/plain": [
       "<Figure size 640x480 with 1 Axes>"
      ]
     },
     "metadata": {},
     "output_type": "display_data"
    }
   ],
   "source": [
    "# Create a plot that shows the regression line from the model on the test set.\n",
    "plot_test = plt\n",
    "plot_test.scatter(X_test, y_test, color='gray', s = 15)\n",
    "plot_test.plot(X_test, y_predicted, color='red', linewidth =3)\n",
    "plot_test.title('Boath Length vs Boat Price')\n",
    "plot_test.xlabel('Boat Length')\n",
    "plot_test.ylabel('Boat Price in USD')\n",
    "plot_test.show()"
   ]
  },
  {
   "cell_type": "markdown",
   "id": "95366df6",
   "metadata": {},
   "source": [
    "## Model Summary Statistics"
   ]
  },
  {
   "cell_type": "code",
   "execution_count": 29,
   "id": "b6dd683d",
   "metadata": {},
   "outputs": [],
   "source": [
    "# Create objects that contain the model summary statistics.\n",
    "rmse = mean_squared_error(y_test, y_predicted) # This is the mean squared error\n",
    "r2 = r2_score(y_test, y_predicted) # This is the R2 score. "
   ]
  },
  {
   "cell_type": "markdown",
   "id": "e91efd6b",
   "metadata": {},
   "source": [
    "#### Values before removing extreme values in Prices\n",
    "\n",
    "- Slope: [[269838.54651125]]\n",
    "- Mean squared error:  626835935181.4089\n",
    "- R2 score:  0.5606402889013431"
   ]
  },
  {
   "cell_type": "code",
   "execution_count": 30,
   "id": "7d36c269",
   "metadata": {
    "scrolled": true
   },
   "outputs": [
    {
     "name": "stdout",
     "output_type": "stream",
     "text": [
      "Slope: [[50233.20945871]]\n",
      "Mean squared error:  5435312058.306995\n",
      "R2 score:  0.7547219567796105\n"
     ]
    }
   ],
   "source": [
    "# Print the model summary statistics. This is where you evaluate the performance of the model.\n",
    "print('Slope:' ,regression.coef_)\n",
    "print('Mean squared error: ', rmse)\n",
    "print('R2 score: ', r2)"
   ]
  },
  {
   "cell_type": "markdown",
   "id": "6a29f446",
   "metadata": {},
   "source": [
    "### Result interpretation\n",
    "\n",
    "- **Hypothesis: We can make prediction of Boat Price from knowing Boat Size (Width & Length)**\n",
    "- The Slope indicates a positive value, so as X rises, so does y. Coefficient of 48975 indicates that\n",
    "every additional 1 meter of boat length will increase boat price by $48,975.\n",
    "- The MSE value is quite large. This value indicates that this model provides a poor prediction on Boat Price,\n",
    "based on the value of Boat Length.\n",
    "- The R2 Score is 0.727 which is closer to 1 than 0. This value shows that there is a good fit between two variables.\n",
    "</br>\n",
    "- **Conclusion: Boat Length is not a good element to predict Boat Price**\n",
    "\n",
    "\n",
    "\n"
   ]
  },
  {
   "cell_type": "markdown",
   "id": "04ae5776",
   "metadata": {},
   "source": [
    "### Variable definition\n",
    "\n",
    "#### Slope\n",
    "\n",
    "The slope is a coefficient that tells you how the y variable changes when X changes. \n",
    "A negative slope value indicates a negative relationship (as X rises, y drops), and a \n",
    "positive slope indicates a positive relationship (as X rises, so does y). A coefficient \n",
    "of zero would mean that as X rises, y stays the same. "
   ]
  },
  {
   "cell_type": "markdown",
   "id": "9aaad9af",
   "metadata": {},
   "source": [
    "#### MSE (Mean Squared Error)\n",
    "- Small = good fit\n",
    "- Large = poor fit\n",
    "\n",
    "MSE is an estimator that **measures the average of the squared \n",
    "difference between the estimated values and the true values.** Put more simply, it tells you \n",
    "how close a regression line is to a set of points (i.e., its accuracy). It does so by taking \n",
    "the distances from the points to the regression line and squaring them. "
   ]
  },
  {
   "cell_type": "markdown",
   "id": "a2d1f9b4",
   "metadata": {},
   "source": [
    "### R2 Score (r-squared value)\n",
    "- Close to 0 = poor fit\n",
    "- Close to 1 = good fit\n",
    "\n",
    "R2 score is **a metric that tells you how well the model explains the variance in the data.** It’s a \n",
    "number (usually) between 0 and 1, where values closer to 0 indicate a poor fit, and values \n",
    "closer to 1 indicate a good fit. It can also take a negative value if the model fits worse \n",
    "than a horizontal line."
   ]
  },
  {
   "cell_type": "code",
   "execution_count": 31,
   "id": "4d9ff243",
   "metadata": {},
   "outputs": [
    {
     "data": {
      "text/plain": [
       "array([[ 6.23422606e+04],\n",
       "       [ 8.09039435e+03],\n",
       "       [ 1.13580134e+05],\n",
       "       [ 1.75869314e+05],\n",
       "       [-1.45145499e+04],\n",
       "       [ 1.81370362e+04],\n",
       "       [ 2.31603572e+04],\n",
       "       [-1.95624754e+03],\n",
       "       [ 4.82769619e+04],\n",
       "       [ 1.63813344e+05],\n",
       "       [ 1.98474258e+05],\n",
       "       [-1.20028894e+04],\n",
       "       [ 5.83236038e+04],\n",
       "       [ 3.82303200e+04],\n",
       "       [ 1.43720060e+05],\n",
       "       [ 1.38696739e+05],\n",
       "       [ 1.43720060e+05],\n",
       "       [-8.23293827e+04],\n",
       "       [ 4.82769619e+04],\n",
       "       [ 1.31137153e+04],\n",
       "       [ 3.77304484e+05],\n",
       "       [ 3.92349842e+04],\n",
       "       [ 3.03963998e+05],\n",
       "       [-4.21428151e+04],\n",
       "       [-1.70262104e+04],\n",
       "       [ 8.84635295e+04],\n",
       "       [ 4.32536410e+04],\n",
       "       [ 2.89396367e+05],\n",
       "       [ 2.47702803e+05],\n",
       "       [ 1.38696739e+05],\n",
       "       [ 3.05973326e+05],\n",
       "       [ 1.50752709e+05],\n",
       "       [ 6.23422606e+04],\n",
       "       [ 2.74326404e+05],\n",
       "       [ 1.40203735e+05],\n",
       "       [ 3.62209916e+04],\n",
       "       [ 6.33469248e+04],\n",
       "       [ 2.69303084e+05],\n",
       "       [ 4.72722977e+04],\n",
       "       [ 5.33027433e+05],\n",
       "       [ 1.32668754e+05],\n",
       "       [ 2.36651497e+05],\n",
       "       [ 2.67796087e+05],\n",
       "       [ 2.19069874e+05],\n",
       "       [ 4.57653014e+04],\n",
       "       [ 1.45227056e+05],\n",
       "       [ 9.29845183e+04],\n",
       "       [ 5.83236038e+04],\n",
       "       [ 1.56253758e+04],\n",
       "       [ 1.62808679e+05],\n",
       "       [ 3.52163275e+04],\n",
       "       [ 4.42583052e+04],\n",
       "       [ 1.13580134e+05],\n",
       "       [ 1.46231720e+05],\n",
       "       [ 8.34402085e+04],\n",
       "       [ 1.18603455e+05],\n",
       "       [ 6.58585852e+04],\n",
       "       [-1.04958932e+04],\n",
       "       [ 6.33469248e+04],\n",
       "       [ 6.08352643e+04],\n",
       "       [-3.96557592e+03],\n",
       "       [-8.03200543e+04],\n",
       "       [ 2.59256442e+05],\n",
       "       [ 2.41650214e+04],\n",
       "       [-8.48656477e+03],\n",
       "       [ 4.65212600e+05],\n",
       "       [ 9.80078393e+04],\n",
       "       [ 3.06707340e+03],\n",
       "       [ 7.54028950e+04],\n",
       "       [ 4.32536410e+04],\n",
       "       [ 4.32536410e+04],\n",
       "       [ 1.28650097e+05],\n",
       "       [ 2.67293755e+05],\n",
       "       [ 2.36651497e+05],\n",
       "       [ 2.01463646e+04],\n",
       "       [-3.61148300e+04],\n",
       "       [ 9.59985109e+04],\n",
       "       [ 1.09561477e+05],\n",
       "       [ 2.09023232e+05],\n",
       "       [ 1.56253758e+04],\n",
       "       [ 7.38958987e+04],\n",
       "       [-3.66171621e+04],\n",
       "       [ 6.23422606e+04],\n",
       "       [ 3.03963998e+05],\n",
       "       [ 2.03497579e+05],\n",
       "       [ 4.07419805e+04],\n",
       "       [-8.48656477e+03],\n",
       "       [ 1.08556813e+05],\n",
       "       [ 2.38660826e+05],\n",
       "       [ 3.52163275e+04],\n",
       "       [ 3.52163275e+04],\n",
       "       [ 5.38026150e+04],\n",
       "       [ 2.06511572e+05],\n",
       "       [ 5.83236038e+04],\n",
       "       [ 1.88929948e+05],\n",
       "       [ 3.03963998e+05],\n",
       "       [-1.90355388e+04],\n",
       "       [ 4.82769619e+04],\n",
       "       [ 4.82769619e+04],\n",
       "       [ 6.33469248e+04],\n",
       "       [ 1.50250377e+05],\n",
       "       [-1.20028894e+04],\n",
       "       [-6.17337668e+04],\n",
       "       [ 1.33171086e+05],\n",
       "       [ 1.13580134e+05],\n",
       "       [ 1.38696739e+05],\n",
       "       [ 1.82901963e+05],\n",
       "       [ 1.12575470e+05],\n",
       "       [ 6.58585852e+04],\n",
       "       [ 2.40670154e+05],\n",
       "       [ 9.49938467e+04],\n",
       "       [ 2.06511572e+05],\n",
       "       [ 3.82303200e+04],\n",
       "       [ 1.08556813e+05],\n",
       "       [-1.20028894e+04],\n",
       "       [-1.95624754e+03],\n",
       "       [ 3.21043289e+05],\n",
       "       [ 3.52163275e+04],\n",
       "       [ 6.23422606e+04],\n",
       "       [ 7.84168876e+04],\n",
       "       [ 3.82303200e+04],\n",
       "       [ 8.84635295e+04],\n",
       "       [-2.20495313e+04],\n",
       "       [ 4.65212600e+05],\n",
       "       [ 1.31137153e+04],\n",
       "       [ 1.08556813e+05],\n",
       "       [ 2.06486967e+04],\n",
       "       [ 1.41208399e+05],\n",
       "       [ 4.47606373e+04],\n",
       "       [ 8.84635295e+04],\n",
       "       [ 4.07419805e+04],\n",
       "       [ 6.58585852e+04],\n",
       "       [ 3.14512972e+05],\n",
       "       [ 2.54735453e+05],\n",
       "       [ 3.82303200e+04],\n",
       "       [ 6.58585852e+04],\n",
       "       [ 4.55165959e+05],\n",
       "       [ 1.22119780e+05],\n",
       "       [ 3.71778831e+05],\n",
       "       [ 9.85101714e+04],\n",
       "       [ 8.41961671e+05],\n",
       "       [ 1.28650097e+05],\n",
       "       [ 1.33171086e+05],\n",
       "       [ 1.23626776e+05],\n",
       "       [ 2.89396367e+05],\n",
       "       [ 1.43720060e+05],\n",
       "       [ 3.67233237e+04],\n",
       "       [ 1.63813344e+05],\n",
       "       [ 2.56720177e+04],\n",
       "       [ 2.67293755e+05],\n",
       "       [ 3.36113252e+05],\n",
       "       [ 1.09561477e+05],\n",
       "       [-6.22360989e+04],\n",
       "       [ 1.16091795e+05],\n",
       "       [ 1.13580134e+05],\n",
       "       [-6.17337668e+04],\n",
       "       [ 3.24559614e+05],\n",
       "       [ 4.32536410e+04],\n",
       "       [ 1.73859986e+05],\n",
       "       [ 1.79385639e+05],\n",
       "       [ 6.58585852e+04],\n",
       "       [ 3.32069991e+04],\n",
       "       [ 1.01524164e+05],\n",
       "       [ 9.59985109e+04],\n",
       "       [ 4.42583052e+04],\n",
       "       [-4.46544756e+04],\n",
       "       [ 3.82303200e+04],\n",
       "       [ 8.14308802e+04],\n",
       "       [ 5.83236038e+04],\n",
       "       [ 1.33673418e+05],\n",
       "       [ 6.33469248e+04],\n",
       "       [ 9.49938467e+04],\n",
       "       [-8.48656477e+03],\n",
       "       [ 6.83702457e+04],\n",
       "       [ 2.06486967e+04],\n",
       "       [ 2.31603572e+04],\n",
       "       [ 6.58585852e+04],\n",
       "       [ 7.38983592e+05],\n",
       "       [-8.48410432e+04],\n",
       "       [ 2.19069874e+05],\n",
       "       [ 1.58790023e+05],\n",
       "       [ 6.58585852e+04],\n",
       "       [ 1.31137153e+04],\n",
       "       [-2.20495313e+04],\n",
       "       [ 2.59256442e+05],\n",
       "       [ 2.31603572e+04],\n",
       "       [ 1.88929948e+05],\n",
       "       [ 4.90329205e+05],\n",
       "       [ 8.84635295e+04],\n",
       "       [ 6.33469248e+04],\n",
       "       [ 4.32536410e+04],\n",
       "       [ 1.78883307e+05],\n",
       "       [ 3.09489651e+05],\n",
       "       [-3.96311546e+04],\n",
       "       [ 1.12575470e+05],\n",
       "       [ 5.78212717e+04],\n",
       "       [ 1.46207116e+04],\n",
       "       [ 4.07419805e+04],\n",
       "       [ 8.94681937e+04],\n",
       "       [ 1.88929948e+05],\n",
       "       [ 4.32536410e+04],\n",
       "       [ 1.21115116e+05],\n",
       "       [ 1.43720060e+05],\n",
       "       [-8.48410432e+04],\n",
       "       [ 1.33171086e+05],\n",
       "       [ 8.14308802e+04],\n",
       "       [ 4.31054018e+05],\n",
       "       [ 6.83702457e+04],\n",
       "       [ 1.41710732e+05],\n",
       "       [ 1.13580134e+05],\n",
       "       [ 9.49938467e+04],\n",
       "       [ 2.56720177e+04],\n",
       "       [ 4.82769619e+04],\n",
       "       [ 8.59518690e+04],\n",
       "       [ 3.82303200e+04],\n",
       "       [ 1.43720060e+05],\n",
       "       [-2.45611918e+04],\n",
       "       [ 2.11510288e+04],\n",
       "       [ 5.83236038e+04],\n",
       "       [ 1.46207116e+04],\n",
       "       [ 2.01463646e+04],\n",
       "       [ 8.84635295e+04],\n",
       "       [-1.20028894e+04],\n",
       "       [ 2.31603572e+04],\n",
       "       [ 1.01021832e+05],\n",
       "       [ 5.93282680e+04],\n",
       "       [-3.20961732e+04],\n",
       "       [ 3.10996647e+05],\n",
       "       [ 1.76347041e+04],\n",
       "       [ 1.53766702e+05],\n",
       "       [ 8.14308802e+04],\n",
       "       [ 2.56242449e+05],\n",
       "       [ 3.92349842e+04],\n",
       "       [-1.09982252e+04],\n",
       "       [ 2.31603572e+04],\n",
       "       [ 2.59256442e+05],\n",
       "       [ 3.82303200e+04],\n",
       "       [ 2.95926685e+05],\n",
       "       [-2.70728523e+04],\n",
       "       [ 9.34868504e+04],\n",
       "       [ 8.34402085e+04],\n",
       "       [ 3.39629577e+05],\n",
       "       [ 3.52163275e+04],\n",
       "       [ 5.78212717e+04],\n",
       "       [ 2.57247113e+05],\n",
       "       [-3.51101658e+04],\n",
       "       [ 2.40670154e+05],\n",
       "       [ 1.78883307e+05],\n",
       "       [ 5.83236038e+04],\n",
       "       [ 3.14512972e+05],\n",
       "       [ 1.61277079e+04],\n",
       "       [ 4.82769619e+04],\n",
       "       [-1.20028894e+04],\n",
       "       [ 1.12575470e+05],\n",
       "       [ 4.07419805e+04],\n",
       "       [ 1.26138437e+05],\n",
       "       [-1.55192141e+04],\n",
       "       [ 1.00017168e+05],\n",
       "       [ 8.14308802e+04],\n",
       "       [ 1.06045153e+05],\n",
       "       [ 1.23124444e+05],\n",
       "       [ 1.10063810e+05],\n",
       "       [ 1.53766702e+05],\n",
       "       [ 2.64279763e+05],\n",
       "       [ 3.12503644e+05],\n",
       "       [ 6.83702457e+04],\n",
       "       [ 8.84635295e+04],\n",
       "       [ 5.38026150e+04],\n",
       "       [ 7.94215518e+04],\n",
       "       [ 1.38696739e+05],\n",
       "       [ 8.14308802e+04],\n",
       "       [ 7.54028950e+04],\n",
       "       [ 7.89192197e+04],\n",
       "       [ 2.01463646e+04],\n",
       "       [ 3.37117916e+05],\n",
       "       [ 2.20576870e+05],\n",
       "       [ 1.33673418e+05],\n",
       "       [ 1.46231720e+05],\n",
       "       [-1.09982252e+04],\n",
       "       [ 1.26113832e+04],\n",
       "       [ 7.69098913e+04],\n",
       "       [ 1.38194407e+05],\n",
       "       [ 8.64542011e+04],\n",
       "       [ 3.39629577e+05],\n",
       "       [ 5.83236038e+04],\n",
       "       [-8.03200543e+04],\n",
       "       [ 4.32536410e+04],\n",
       "       [ 5.46088068e+05],\n",
       "       [ 1.01021832e+05],\n",
       "       [ 4.55165959e+05],\n",
       "       [ 6.33469248e+04],\n",
       "       [ 1.93953269e+05],\n",
       "       [ 8.39425406e+04],\n",
       "       [ 3.32069991e+04],\n",
       "       [ 5.73189396e+04],\n",
       "       [ 4.57653014e+04],\n",
       "       [ 1.12575470e+05],\n",
       "       [ 9.80078393e+04],\n",
       "       [-6.97956849e+03],\n",
       "       [ 7.84168876e+04],\n",
       "       [ 3.24559614e+05],\n",
       "       [-1.20028894e+04],\n",
       "       [ 8.34402085e+04],\n",
       "       [ 1.13580134e+05],\n",
       "       [ 2.69805416e+05],\n",
       "       [-1.70262104e+04],\n",
       "       [ 1.43720060e+05],\n",
       "       [ 2.74326404e+05],\n",
       "       [ 3.14512972e+05],\n",
       "       [ 4.99873515e+05],\n",
       "       [ 3.94886107e+05],\n",
       "       [ 1.31161758e+05],\n",
       "       [ 4.42583052e+04],\n",
       "       [-1.04958932e+04],\n",
       "       [ 1.84408960e+05],\n",
       "       [ 2.00483587e+05],\n",
       "       [ 7.38958987e+04],\n",
       "       [ 7.84168876e+04],\n",
       "       [ 1.10063810e+05],\n",
       "       [ 6.33469248e+04],\n",
       "       [ 1.99981254e+05],\n",
       "       [ 1.38696739e+05],\n",
       "       [ 5.38026150e+04],\n",
       "       [ 3.72281163e+05],\n",
       "       [ 4.82769619e+04],\n",
       "       [ 9.34868504e+04],\n",
       "       [ 1.11570806e+05],\n",
       "       [ 1.35180414e+05],\n",
       "       [ 3.18531629e+05],\n",
       "       [ 1.12575470e+05],\n",
       "       [ 2.51721460e+05],\n",
       "       [ 5.88259359e+04],\n",
       "       [ 1.31137153e+04],\n",
       "       [ 1.61277079e+04],\n",
       "       [ 3.37117916e+05],\n",
       "       [ 3.06707340e+03],\n",
       "       [ 7.54028950e+04],\n",
       "       [ 2.31628176e+05],\n",
       "       [ 7.08819062e+04],\n",
       "       [ 1.01524164e+05],\n",
       "       [ 8.79611974e+04],\n",
       "       [ 7.84168876e+04],\n",
       "       [ 9.44915146e+04],\n",
       "       [ 4.11463066e+05],\n",
       "       [ 5.33002829e+04],\n",
       "       [ 1.81370362e+04],\n",
       "       [ 7.33935666e+04],\n",
       "       [ 6.33469248e+04],\n",
       "       [ 2.36651497e+05],\n",
       "       [ 1.43720060e+05],\n",
       "       [ 8.79611974e+04],\n",
       "       [ 4.12443126e+04],\n",
       "       [ 1.98976590e+05],\n",
       "       [ 1.41183795e+04],\n",
       "       [ 3.52163275e+04],\n",
       "       [ 3.06707340e+03],\n",
       "       [ 6.08352643e+04],\n",
       "       [ 1.88929948e+05],\n",
       "       [ 2.64279763e+05],\n",
       "       [ 1.28650097e+05],\n",
       "       [ 4.89826873e+05],\n",
       "       [ 2.31603572e+04],\n",
       "       [ 1.43720060e+05],\n",
       "       [ 3.39629577e+05],\n",
       "       [ 1.50250377e+05],\n",
       "       [ 9.80078393e+04],\n",
       "       [ 1.31137153e+04],\n",
       "       [ 2.38660826e+05],\n",
       "       [ 3.39629577e+05],\n",
       "       [ 1.18603455e+05],\n",
       "       [-3.51101658e+04],\n",
       "       [ 1.23626776e+05],\n",
       "       [ 1.88929948e+05],\n",
       "       [ 3.27046670e+04],\n",
       "       [ 2.31603572e+04],\n",
       "       [ 4.07419805e+04],\n",
       "       [ 2.66766818e+04],\n",
       "       [ 3.64746182e+05],\n",
       "       [-1.95378709e+04],\n",
       "       [ 1.05542821e+05],\n",
       "       [ 1.47236385e+05],\n",
       "       [ 1.84408960e+05],\n",
       "       [ 3.64746182e+05],\n",
       "       [ 8.04262160e+04],\n",
       "       [ 6.08352643e+04],\n",
       "       [ 1.32668754e+05],\n",
       "       [ 5.83236038e+04],\n",
       "       [ 1.12575470e+05],\n",
       "       [ 5.25492452e+05],\n",
       "       [ 4.12443126e+04],\n",
       "       [ 3.39629577e+05],\n",
       "       [ 1.12575470e+05],\n",
       "       [ 1.68836665e+05],\n",
       "       [ 2.31603572e+04],\n",
       "       [ 9.85101714e+04],\n",
       "       [ 4.97839582e+04],\n",
       "       [-2.20495313e+04],\n",
       "       [ 5.88259359e+04],\n",
       "       [ 2.61743498e+04],\n",
       "       [ 2.26604855e+05],\n",
       "       [-6.97956849e+03],\n",
       "       [ 1.21090511e+04],\n",
       "       [ 1.38696739e+05],\n",
       "       [ 6.08352643e+04],\n",
       "       [ 3.82303200e+04],\n",
       "       [ 8.79611974e+04],\n",
       "       [ 4.02396484e+04],\n",
       "       [ 3.24559614e+05],\n",
       "       [ 6.23422606e+04],\n",
       "       [ 2.36651497e+05],\n",
       "       [ 4.32536410e+04],\n",
       "       [ 7.89192197e+04],\n",
       "       [ 1.03533492e+05],\n",
       "       [ 6.58585852e+04],\n",
       "       [ 4.07419805e+04],\n",
       "       [ 1.81370362e+04],\n",
       "       [-1.25052215e+04],\n",
       "       [ 4.82769619e+04],\n",
       "       [ 3.39629577e+05],\n",
       "       [ 1.12575470e+05],\n",
       "       [ 1.88929948e+05],\n",
       "       [ 1.08556813e+05],\n",
       "       [ 3.92876779e+05],\n",
       "       [ 2.49209800e+05],\n",
       "       [-8.48410432e+04],\n",
       "       [ 1.41183795e+04],\n",
       "       [ 2.00483587e+05],\n",
       "       [ 2.36651497e+05],\n",
       "       [ 1.83906627e+05],\n",
       "       [ 2.36651497e+05],\n",
       "       [ 2.10027896e+05],\n",
       "       [ 1.31161758e+05],\n",
       "       [-2.20495313e+04],\n",
       "       [ 1.98474258e+05],\n",
       "       [-1.12469308e+05],\n",
       "       [ 9.59985109e+04],\n",
       "       [ 6.33469248e+04],\n",
       "       [ 2.61768102e+05],\n",
       "       [ 2.34139837e+05],\n",
       "       [ 4.29547022e+05],\n",
       "       [ 4.67699656e+04],\n",
       "       [ 8.74588653e+04],\n",
       "       [ 8.34402085e+04],\n",
       "       [ 2.06486967e+04],\n",
       "       [ 1.32668754e+05],\n",
       "       [-1.20028894e+04],\n",
       "       [ 2.14046553e+05],\n",
       "       [ 2.79349725e+05],\n",
       "       [-4.49251259e+02],\n",
       "       [ 8.84635295e+04],\n",
       "       [ 2.99443009e+05],\n",
       "       [ 2.31628176e+05],\n",
       "       [ 3.52163275e+04],\n",
       "       [ 8.79611974e+04],\n",
       "       [ 3.52163275e+04],\n",
       "       [ 1.34678082e+05],\n",
       "       [ 9.09505854e+03],\n",
       "       [ 2.64279763e+05],\n",
       "       [ 3.82303200e+04],\n",
       "       [ 4.07419805e+04],\n",
       "       [ 1.43720060e+05],\n",
       "       [ 4.12970063e+05],\n",
       "       [ 2.76813460e+04],\n",
       "       [ 1.04035824e+05],\n",
       "       [ 3.03963998e+05],\n",
       "       [-6.22360989e+04],\n",
       "       [ 1.03533492e+05],\n",
       "       [ 2.33135173e+05],\n",
       "       [ 2.19069874e+05],\n",
       "       [ 1.31137153e+04],\n",
       "       [ 1.23626776e+05],\n",
       "       [ 2.21556930e+04],\n",
       "       [-1.20028894e+04],\n",
       "       [ 8.79611974e+04],\n",
       "       [ 1.56253758e+04],\n",
       "       [ 3.39629577e+05],\n",
       "       [ 1.33673418e+05],\n",
       "       [ 8.04262160e+04],\n",
       "       [ 1.60799351e+05],\n",
       "       [ 1.94957934e+05],\n",
       "       [ 2.89396367e+05],\n",
       "       [ 2.54735453e+05],\n",
       "       [ 3.77279879e+04],\n",
       "       [ 1.25133772e+05],\n",
       "       [ 1.50250377e+05],\n",
       "       [ 2.56720177e+04],\n",
       "       [ 5.83236038e+04],\n",
       "       [ 7.94215518e+04],\n",
       "       [ 3.98904764e+05],\n",
       "       [ 1.23626776e+05],\n",
       "       [-1.25052215e+04],\n",
       "       [ 9.70031751e+04],\n",
       "       [ 9.59985109e+04],\n",
       "       [ 3.32094595e+05],\n",
       "       [ 1.54269034e+05],\n",
       "       [ 2.31603572e+04],\n",
       "       [ 4.17491051e+05],\n",
       "       [ 1.83906627e+05],\n",
       "       [ 1.31137153e+04],\n",
       "       [ 2.42177150e+05],\n",
       "       [-1.20028894e+04],\n",
       "       [ 3.32069991e+04],\n",
       "       [ 3.17024633e+05],\n",
       "       [ 1.11068474e+05],\n",
       "       [ 1.88929948e+05],\n",
       "       [ 5.22956187e+04],\n",
       "       [ 6.23422606e+04],\n",
       "       [ 8.34402085e+04],\n",
       "       [-1.20028894e+04],\n",
       "       [-4.01334867e+04],\n",
       "       [ 2.31603572e+04],\n",
       "       [ 1.41710732e+05],\n",
       "       [ 1.43720060e+05],\n",
       "       [ 7.84168876e+04],\n",
       "       [ 1.18101123e+05],\n",
       "       [ 6.08352643e+04],\n",
       "       [ 7.54028950e+04],\n",
       "       [ 6.58585852e+04],\n",
       "       [ 1.26138437e+05],\n",
       "       [ 4.92816261e+04],\n",
       "       [ 1.33673418e+05],\n",
       "       [ 3.77279879e+04],\n",
       "       [ 3.39127245e+05],\n",
       "       [ 8.59518690e+04],\n",
       "       [ 4.77746298e+04],\n",
       "       [ 2.06486967e+04],\n",
       "       [ 1.88929948e+05],\n",
       "       [ 3.64746182e+05],\n",
       "       [ 9.59985109e+04],\n",
       "       [-1.20028894e+04],\n",
       "       [ 5.57873388e+03],\n",
       "       [ 2.54735453e+05],\n",
       "       [ 6.41028834e+05],\n",
       "       [ 3.82303200e+04]])"
      ]
     },
     "execution_count": 31,
     "metadata": {},
     "output_type": "execute_result"
    }
   ],
   "source": [
    "y_predicted"
   ]
  },
  {
   "cell_type": "code",
   "execution_count": 32,
   "id": "75de8690",
   "metadata": {
    "scrolled": true
   },
   "outputs": [
    {
     "data": {
      "text/html": [
       "<div>\n",
       "<style scoped>\n",
       "    .dataframe tbody tr th:only-of-type {\n",
       "        vertical-align: middle;\n",
       "    }\n",
       "\n",
       "    .dataframe tbody tr th {\n",
       "        vertical-align: top;\n",
       "    }\n",
       "\n",
       "    .dataframe thead th {\n",
       "        text-align: right;\n",
       "    }\n",
       "</style>\n",
       "<table border=\"1\" class=\"dataframe\">\n",
       "  <thead>\n",
       "    <tr style=\"text-align: right;\">\n",
       "      <th></th>\n",
       "      <th>Actual</th>\n",
       "      <th>Predicted</th>\n",
       "    </tr>\n",
       "  </thead>\n",
       "  <tbody>\n",
       "    <tr>\n",
       "      <th>0</th>\n",
       "      <td>54939.010</td>\n",
       "      <td>62342.260564</td>\n",
       "    </tr>\n",
       "    <tr>\n",
       "      <th>1</th>\n",
       "      <td>11634.725</td>\n",
       "      <td>8090.394349</td>\n",
       "    </tr>\n",
       "    <tr>\n",
       "      <th>2</th>\n",
       "      <td>63425.000</td>\n",
       "      <td>113580.134212</td>\n",
       "    </tr>\n",
       "    <tr>\n",
       "      <th>3</th>\n",
       "      <td>110983.000</td>\n",
       "      <td>175869.313941</td>\n",
       "    </tr>\n",
       "    <tr>\n",
       "      <th>4</th>\n",
       "      <td>12528.600</td>\n",
       "      <td>-14514.549908</td>\n",
       "    </tr>\n",
       "    <tr>\n",
       "      <th>5</th>\n",
       "      <td>31164.250</td>\n",
       "      <td>18137.036240</td>\n",
       "    </tr>\n",
       "    <tr>\n",
       "      <th>6</th>\n",
       "      <td>37893.750</td>\n",
       "      <td>23160.357186</td>\n",
       "    </tr>\n",
       "    <tr>\n",
       "      <th>7</th>\n",
       "      <td>34217.250</td>\n",
       "      <td>-1956.247543</td>\n",
       "    </tr>\n",
       "    <tr>\n",
       "      <th>8</th>\n",
       "      <td>55103.860</td>\n",
       "      <td>48276.961915</td>\n",
       "    </tr>\n",
       "    <tr>\n",
       "      <th>9</th>\n",
       "      <td>136525.000</td>\n",
       "      <td>163813.343671</td>\n",
       "    </tr>\n",
       "    <tr>\n",
       "      <th>10</th>\n",
       "      <td>165550.000</td>\n",
       "      <td>198474.258197</td>\n",
       "    </tr>\n",
       "    <tr>\n",
       "      <th>11</th>\n",
       "      <td>23881.000</td>\n",
       "      <td>-12002.889435</td>\n",
       "    </tr>\n",
       "    <tr>\n",
       "      <th>12</th>\n",
       "      <td>70885.500</td>\n",
       "      <td>58323.603807</td>\n",
       "    </tr>\n",
       "    <tr>\n",
       "      <th>13</th>\n",
       "      <td>49342.500</td>\n",
       "      <td>38230.320024</td>\n",
       "    </tr>\n",
       "    <tr>\n",
       "      <th>14</th>\n",
       "      <td>67187.500</td>\n",
       "      <td>143720.059887</td>\n",
       "    </tr>\n",
       "    <tr>\n",
       "      <th>15</th>\n",
       "      <td>173882.325</td>\n",
       "      <td>138696.738941</td>\n",
       "    </tr>\n",
       "    <tr>\n",
       "      <th>16</th>\n",
       "      <td>153617.500</td>\n",
       "      <td>143720.059887</td>\n",
       "    </tr>\n",
       "    <tr>\n",
       "      <th>17</th>\n",
       "      <td>4154.220</td>\n",
       "      <td>-82329.382677</td>\n",
       "    </tr>\n",
       "    <tr>\n",
       "      <th>18</th>\n",
       "      <td>20425.000</td>\n",
       "      <td>48276.961915</td>\n",
       "    </tr>\n",
       "    <tr>\n",
       "      <th>19</th>\n",
       "      <td>26337.500</td>\n",
       "      <td>13113.715294</td>\n",
       "    </tr>\n",
       "    <tr>\n",
       "      <th>20</th>\n",
       "      <td>270242.100</td>\n",
       "      <td>377304.483870</td>\n",
       "    </tr>\n",
       "    <tr>\n",
       "      <th>21</th>\n",
       "      <td>38485.000</td>\n",
       "      <td>39234.984213</td>\n",
       "    </tr>\n",
       "    <tr>\n",
       "      <th>22</th>\n",
       "      <td>313362.500</td>\n",
       "      <td>303963.998060</td>\n",
       "    </tr>\n",
       "    <tr>\n",
       "      <th>23</th>\n",
       "      <td>5055.400</td>\n",
       "      <td>-42142.815110</td>\n",
       "    </tr>\n",
       "    <tr>\n",
       "      <th>24</th>\n",
       "      <td>15932.203</td>\n",
       "      <td>-17026.210381</td>\n",
       "    </tr>\n",
       "    <tr>\n",
       "      <th>25</th>\n",
       "      <td>62258.625</td>\n",
       "      <td>88463.529482</td>\n",
       "    </tr>\n",
       "    <tr>\n",
       "      <th>26</th>\n",
       "      <td>16931.250</td>\n",
       "      <td>43253.640970</td>\n",
       "    </tr>\n",
       "    <tr>\n",
       "      <th>27</th>\n",
       "      <td>316512.000</td>\n",
       "      <td>289396.367317</td>\n",
       "    </tr>\n",
       "    <tr>\n",
       "      <th>28</th>\n",
       "      <td>418712.500</td>\n",
       "      <td>247702.803467</td>\n",
       "    </tr>\n",
       "    <tr>\n",
       "      <th>29</th>\n",
       "      <td>145390.525</td>\n",
       "      <td>138696.738941</td>\n",
       "    </tr>\n",
       "  </tbody>\n",
       "</table>\n",
       "</div>"
      ],
      "text/plain": [
       "        Actual      Predicted\n",
       "0    54939.010   62342.260564\n",
       "1    11634.725    8090.394349\n",
       "2    63425.000  113580.134212\n",
       "3   110983.000  175869.313941\n",
       "4    12528.600  -14514.549908\n",
       "5    31164.250   18137.036240\n",
       "6    37893.750   23160.357186\n",
       "7    34217.250   -1956.247543\n",
       "8    55103.860   48276.961915\n",
       "9   136525.000  163813.343671\n",
       "10  165550.000  198474.258197\n",
       "11   23881.000  -12002.889435\n",
       "12   70885.500   58323.603807\n",
       "13   49342.500   38230.320024\n",
       "14   67187.500  143720.059887\n",
       "15  173882.325  138696.738941\n",
       "16  153617.500  143720.059887\n",
       "17    4154.220  -82329.382677\n",
       "18   20425.000   48276.961915\n",
       "19   26337.500   13113.715294\n",
       "20  270242.100  377304.483870\n",
       "21   38485.000   39234.984213\n",
       "22  313362.500  303963.998060\n",
       "23    5055.400  -42142.815110\n",
       "24   15932.203  -17026.210381\n",
       "25   62258.625   88463.529482\n",
       "26   16931.250   43253.640970\n",
       "27  316512.000  289396.367317\n",
       "28  418712.500  247702.803467\n",
       "29  145390.525  138696.738941"
      ]
     },
     "execution_count": 32,
     "metadata": {},
     "output_type": "execute_result"
    }
   ],
   "source": [
    "# Create a dataframe comparing the actual and predicted values of y.\n",
    "data = pd.DataFrame({'Actual': y_test.flatten(), 'Predicted': y_predicted.flatten()})\n",
    "data.head(30)"
   ]
  },
  {
   "cell_type": "markdown",
   "id": "40f458a6",
   "metadata": {},
   "source": [
    "\n",
    "\n",
    "\n",
    "\n"
   ]
  },
  {
   "cell_type": "markdown",
   "id": "58473e40",
   "metadata": {},
   "source": [
    "### Conclusion\n",
    "\n",
    "We cannot use Boat Length to make a good prediction of Boat Price"
   ]
  },
  {
   "cell_type": "markdown",
   "id": "989aa1c1",
   "metadata": {},
   "source": [
    "\n",
    "\n",
    "\n",
    "\n",
    "### --------------------------------------------------------------------\n",
    "### 5. Regression Analysis between Width and Price\n",
    "### --------------------------------------------------------------------"
   ]
  },
  {
   "cell_type": "code",
   "execution_count": 33,
   "id": "dd2b768e",
   "metadata": {},
   "outputs": [
    {
     "name": "stderr",
     "output_type": "stream",
     "text": [
      "C:\\Users\\tsoew\\anaconda3\\Lib\\site-packages\\seaborn\\axisgrid.py:118: UserWarning: The figure layout has changed to tight\n",
      "  self._figure.tight_layout(*args, **kwargs)\n"
     ]
    },
    {
     "data": {
      "image/png": "[encoded data removed]",
      "text/plain": [
       "<Figure size 500x500 with 1 Axes>"
      ]
     },
     "metadata": {},
     "output_type": "display_data"
    }
   ],
   "source": [
    "# Check correlation between Price and Width\n",
    "scatterplot = sns.lmplot(data=df, x ='Price_USD', y='Width')"
   ]
  },
  {
   "cell_type": "markdown",
   "id": "fe6c6bc3",
   "metadata": {},
   "source": [
    "#### Reshape variables"
   ]
  },
  {
   "cell_type": "code",
   "execution_count": 34,
   "id": "17af3cb8",
   "metadata": {},
   "outputs": [],
   "source": [
    "# Reshape the variables into NumPy arrays and put them into separate objects.\n",
    "X = df['Width'].values.reshape(-1,1)\n",
    "y = df['Price_USD'].values.reshape(-1,1)"
   ]
  },
  {
   "cell_type": "markdown",
   "id": "cb0f38c9",
   "metadata": {},
   "source": [
    "#### Split data"
   ]
  },
  {
   "cell_type": "code",
   "execution_count": 35,
   "id": "227713f6",
   "metadata": {},
   "outputs": [],
   "source": [
    "# Split data into a training set and a test set.\n",
    "X_train, X_test, y_train, y_test = train_test_split(X, y, test_size=0.3, random_state=0)"
   ]
  },
  {
   "cell_type": "markdown",
   "id": "7f1e940a",
   "metadata": {},
   "source": [
    "#### Create a regression object."
   ]
  },
  {
   "cell_type": "code",
   "execution_count": 36,
   "id": "490f8988",
   "metadata": {},
   "outputs": [],
   "source": [
    "# This is the regression object, which will be fit onto the training set.\n",
    "regression = LinearRegression()  "
   ]
  },
  {
   "cell_type": "code",
   "execution_count": 37,
   "id": "7606474c",
   "metadata": {},
   "outputs": [
    {
     "data": {
      "text/html": [
       "<style>#sk-container-id-2 {color: black;}#sk-container-id-2 pre{padding: 0;}#sk-container-id-2 div.sk-toggleable {background-color: white;}#sk-container-id-2 label.sk-toggleable__label {cursor: pointer;display: block;width: 100%;margin-bottom: 0;padding: 0.3em;box-sizing: border-box;text-align: center;}#sk-container-id-2 label.sk-toggleable__label-arrow:before {content: \"▸\";float: left;margin-right: 0.25em;color: #696969;}#sk-container-id-2 label.sk-toggleable__label-arrow:hover:before {color: black;}#sk-container-id-2 div.sk-estimator:hover label.sk-toggleable__label-arrow:before {color: black;}#sk-container-id-2 div.sk-toggleable__content {max-height: 0;max-width: 0;overflow: hidden;text-align: left;background-color: #f0f8ff;}#sk-container-id-2 div.sk-toggleable__content pre {margin: 0.2em;color: black;border-radius: 0.25em;background-color: #f0f8ff;}#sk-container-id-2 input.sk-toggleable__control:checked~div.sk-toggleable__content {max-height: 200px;max-width: 100%;overflow: auto;}#sk-container-id-2 input.sk-toggleable__control:checked~label.sk-toggleable__label-arrow:before {content: \"▾\";}#sk-container-id-2 div.sk-estimator input.sk-toggleable__control:checked~label.sk-toggleable__label {background-color: #d4ebff;}#sk-container-id-2 div.sk-label input.sk-toggleable__control:checked~label.sk-toggleable__label {background-color: #d4ebff;}#sk-container-id-2 input.sk-hidden--visually {border: 0;clip: rect(1px 1px 1px 1px);clip: rect(1px, 1px, 1px, 1px);height: 1px;margin: -1px;overflow: hidden;padding: 0;position: absolute;width: 1px;}#sk-container-id-2 div.sk-estimator {font-family: monospace;background-color: #f0f8ff;border: 1px dotted black;border-radius: 0.25em;box-sizing: border-box;margin-bottom: 0.5em;}#sk-container-id-2 div.sk-estimator:hover {background-color: #d4ebff;}#sk-container-id-2 div.sk-parallel-item::after {content: \"\";width: 100%;border-bottom: 1px solid gray;flex-grow: 1;}#sk-container-id-2 div.sk-label:hover label.sk-toggleable__label {background-color: #d4ebff;}#sk-container-id-2 div.sk-serial::before {content: \"\";position: absolute;border-left: 1px solid gray;box-sizing: border-box;top: 0;bottom: 0;left: 50%;z-index: 0;}#sk-container-id-2 div.sk-serial {display: flex;flex-direction: column;align-items: center;background-color: white;padding-right: 0.2em;padding-left: 0.2em;position: relative;}#sk-container-id-2 div.sk-item {position: relative;z-index: 1;}#sk-container-id-2 div.sk-parallel {display: flex;align-items: stretch;justify-content: center;background-color: white;position: relative;}#sk-container-id-2 div.sk-item::before, #sk-container-id-2 div.sk-parallel-item::before {content: \"\";position: absolute;border-left: 1px solid gray;box-sizing: border-box;top: 0;bottom: 0;left: 50%;z-index: -1;}#sk-container-id-2 div.sk-parallel-item {display: flex;flex-direction: column;z-index: 1;position: relative;background-color: white;}#sk-container-id-2 div.sk-parallel-item:first-child::after {align-self: flex-end;width: 50%;}#sk-container-id-2 div.sk-parallel-item:last-child::after {align-self: flex-start;width: 50%;}#sk-container-id-2 div.sk-parallel-item:only-child::after {width: 0;}#sk-container-id-2 div.sk-dashed-wrapped {border: 1px dashed gray;margin: 0 0.4em 0.5em 0.4em;box-sizing: border-box;padding-bottom: 0.4em;background-color: white;}#sk-container-id-2 div.sk-label label {font-family: monospace;font-weight: bold;display: inline-block;line-height: 1.2em;}#sk-container-id-2 div.sk-label-container {text-align: center;}#sk-container-id-2 div.sk-container {/* jupyter's `normalize.less` sets `[hidden] { display: none; }` but bootstrap.min.css set `[hidden] { display: none !important; }` so we also need the `!important` here to be able to override the default hidden behavior on the sphinx rendered scikit-learn.org. See: https://github.com/scikit-learn/scikit-learn/issues/21755 */display: inline-block !important;position: relative;}#sk-container-id-2 div.sk-text-repr-fallback {display: none;}</style><div id=\"sk-container-id-2\" class=\"sk-top-container\"><div class=\"sk-text-repr-fallback\"><pre>LinearRegression()</pre><b>In a Jupyter environment, please rerun this cell to show the HTML representation or trust the notebook. <br />On GitHub, the HTML representation is unable to render, please try loading this page with nbviewer.org.</b></div><div class=\"sk-container\" hidden><div class=\"sk-item\"><div class=\"sk-estimator sk-toggleable\"><input class=\"sk-toggleable__control sk-hidden--visually\" id=\"sk-estimator-id-2\" type=\"checkbox\" checked><label for=\"sk-estimator-id-2\" class=\"sk-toggleable__label sk-toggleable__label-arrow\">LinearRegression</label><div class=\"sk-toggleable__content\"><pre>LinearRegression()</pre></div></div></div></div></div>"
      ],
      "text/plain": [
       "LinearRegression()"
      ]
     },
     "execution_count": 37,
     "metadata": {},
     "output_type": "execute_result"
    }
   ],
   "source": [
    "# Fit the regression object onto the training set. (70% of the data)\n",
    "regression.fit(X_train, y_train)"
   ]
  },
  {
   "cell_type": "markdown",
   "id": "2f8448ba",
   "metadata": {},
   "source": [
    "#### Run the prediction"
   ]
  },
  {
   "cell_type": "code",
   "execution_count": 38,
   "id": "5669b081",
   "metadata": {},
   "outputs": [],
   "source": [
    "# Predict the values of y using X.\n",
    "y_predicted = regression.predict(X_test)"
   ]
  },
  {
   "cell_type": "markdown",
   "id": "81072c06",
   "metadata": {},
   "source": [
    "#### Show regression line"
   ]
  },
  {
   "cell_type": "code",
   "execution_count": 39,
   "id": "27dc8d47",
   "metadata": {},
   "outputs": [
    {
     "data": {
      "image/png": "[encoded data removed]",
      "text/plain": [
       "<Figure size 640x480 with 1 Axes>"
      ]
     },
     "metadata": {},
     "output_type": "display_data"
    }
   ],
   "source": [
    "# Create a plot that shows the regression line from the model on the test set.\n",
    "plot_test = plt\n",
    "plot_test.scatter(X_test, y_test, color='gray', s = 15)\n",
    "plot_test.plot(X_test, y_predicted, color='red', linewidth =3)\n",
    "plot_test.title('Boath Width vs Boat Price')\n",
    "plot_test.xlabel('Boat Witdh')\n",
    "plot_test.ylabel('Boat Price in USD')\n",
    "plot_test.show()"
   ]
  },
  {
   "cell_type": "code",
   "execution_count": 40,
   "id": "f2e5639e",
   "metadata": {},
   "outputs": [],
   "source": [
    "# Create objects that contain the model summary statistics.\n",
    "rmse = mean_squared_error(y_test, y_predicted) # This is the mean squared error\n",
    "r2 = r2_score(y_test, y_predicted) # This is the R2 score. "
   ]
  },
  {
   "cell_type": "markdown",
   "id": "0bae9d9c",
   "metadata": {},
   "source": [
    "### Model Summary Statistics"
   ]
  },
  {
   "cell_type": "code",
   "execution_count": 41,
   "id": "4b3ab0e2",
   "metadata": {},
   "outputs": [
    {
     "name": "stdout",
     "output_type": "stream",
     "text": [
      "Slope: [[183445.25243635]]\n",
      "Mean squared error:  8182895501.251258\n",
      "R2 score:  0.630732407837314\n"
     ]
    }
   ],
   "source": [
    "# Print the model summary statistics. This is where you evaluate the performance of the model.\n",
    "print('Slope:' ,regression.coef_)\n",
    "print('Mean squared error: ', rmse)\n",
    "print('R2 score: ', r2)"
   ]
  },
  {
   "cell_type": "markdown",
   "id": "91be7963",
   "metadata": {},
   "source": [
    "### Result interpretation\n",
    "\n",
    "- **Hypothesis: We can make prediction of Boat Price from knowing Boat Size (Width & Length)**\n",
    "- The Slope indicates a positive value, so as X rises, so does y. Coefficient of 183445 indicates that\n",
    "every additional 1 meter of boat width will increase boat price by $183,445.\n",
    "- The MSE value is quite large. This value indicates that this model provides a poor prediction on Boat Price,\n",
    "based on the value of Boat Width.\n",
    "- The R2 Score is 0.63 which is closer to 1 than 0. This value shows that there maybe a good fit between two variables.\n",
    "</br>\n",
    "- **Conclusion: Boat Width cannot be used to make a good prediction of Boat Price**\n",
    "\n",
    "\n",
    "\n"
   ]
  },
  {
   "cell_type": "code",
   "execution_count": 42,
   "id": "cb12d16f",
   "metadata": {},
   "outputs": [
    {
     "data": {
      "text/plain": [
       "array([[ 9.10613053e+04],\n",
       "       [ 1.76832043e+04],\n",
       "       [ 9.65646629e+04],\n",
       "       [ 1.07571378e+05],\n",
       "       [-1.90058462e+04],\n",
       "       [ 4.88688972e+04],\n",
       "       [ 4.70344447e+04],\n",
       "       [ 1.76832043e+04],\n",
       "       [ 7.27167801e+04],\n",
       "       [ 1.71777216e+05],\n",
       "       [ 2.01128457e+05],\n",
       "       [-6.61320916e+02],\n",
       "       [ 1.09405831e+05],\n",
       "       [ 6.17100649e+04],\n",
       "       [ 9.65646629e+04],\n",
       "       [ 9.83991154e+04],\n",
       "       [ 1.02068020e+05],\n",
       "       [-7.40394219e+04],\n",
       "       [ 3.23588245e+04],\n",
       "       [ 5.25378023e+04],\n",
       "       [ 4.13924950e+05],\n",
       "       [ 6.17100649e+04],\n",
       "       [ 3.58891374e+05],\n",
       "       [-6.48671593e+04],\n",
       "       [-9.83358354e+03],\n",
       "       [ 9.10613053e+04],\n",
       "       [ 5.43722548e+04],\n",
       "       [ 1.80949479e+05],\n",
       "       [ 1.79115026e+05],\n",
       "       [ 9.10613053e+04],\n",
       "       [ 2.56162032e+05],\n",
       "       [ 1.09405831e+05],\n",
       "       [ 9.10613053e+04],\n",
       "       [ 2.56162032e+05],\n",
       "       [ 1.42425976e+05],\n",
       "       [ 4.70344447e+04],\n",
       "       [ 1.00233568e+05],\n",
       "       [ 2.37817507e+05],\n",
       "       [ 8.00545902e+04],\n",
       "       [ 4.59786263e+05],\n",
       "       [ 8.37234952e+04],\n",
       "       [ 2.46989770e+05],\n",
       "       [ 2.21307435e+05],\n",
       "       [ 1.71777216e+05],\n",
       "       [ 5.43722548e+04],\n",
       "       [ 1.07571378e+05],\n",
       "       [ 9.10613053e+04],\n",
       "       [ 1.07571378e+05],\n",
       "       [ 5.25378023e+04],\n",
       "       [ 1.27750356e+05],\n",
       "       [ 5.25378023e+04],\n",
       "       [ 8.00545902e+04],\n",
       "       [ 9.10613053e+04],\n",
       "       [ 1.00233568e+05],\n",
       "       [ 1.07571378e+05],\n",
       "       [ 9.10613053e+04],\n",
       "       [ 1.07571378e+05],\n",
       "       [ 1.40142993e+04],\n",
       "       [ 1.00233568e+05],\n",
       "       [ 8.55579477e+04],\n",
       "       [ 8.00545902e+04],\n",
       "       [-1.16231830e+05],\n",
       "       [ 1.80949479e+05],\n",
       "       [ 7.27167801e+04],\n",
       "       [ 2.13521094e+04],\n",
       "       [ 4.76296335e+05],\n",
       "       [ 9.47302104e+04],\n",
       "       [ 7.08823275e+04],\n",
       "       [ 1.00233568e+05],\n",
       "       [ 7.27167801e+04],\n",
       "       [ 9.10613053e+04],\n",
       "       [ 8.92268528e+04],\n",
       "       [ 2.41486412e+05],\n",
       "       [ 2.41486412e+05],\n",
       "       [ 8.18890427e+04],\n",
       "       [-1.90058462e+04],\n",
       "       [ 9.10613053e+04],\n",
       "       [ 9.10613053e+04],\n",
       "       [ 2.19472982e+05],\n",
       "       [ 3.23588245e+04],\n",
       "       [ 9.10613053e+04],\n",
       "       [-4.65226340e+04],\n",
       "       [ 9.65646629e+04],\n",
       "       [ 3.71732542e+05],\n",
       "       [ 1.80949479e+05],\n",
       "       [ 7.63856851e+04],\n",
       "       [ 2.13521094e+04],\n",
       "       [ 8.18890427e+04],\n",
       "       [ 2.37817507e+05],\n",
       "       [ 9.83991154e+04],\n",
       "       [ 9.83991154e+04],\n",
       "       [ 8.73924003e+04],\n",
       "       [ 1.73611669e+05],\n",
       "       [ 8.18890427e+04],\n",
       "       [ 1.73611669e+05],\n",
       "       [ 3.58891374e+05],\n",
       "       [-7.99913101e+03],\n",
       "       [ 8.00545902e+04],\n",
       "       [ 9.83991154e+04],\n",
       "       [ 1.00233568e+05],\n",
       "       [ 1.44260429e+05],\n",
       "       [-6.61320916e+02],\n",
       "       [-6.67016118e+04],\n",
       "       [ 9.83991154e+04],\n",
       "       [ 1.46094881e+05],\n",
       "       [ 1.16743641e+05],\n",
       "       [ 1.80949479e+05],\n",
       "       [ 1.00233568e+05],\n",
       "       [ 9.83991154e+04],\n",
       "       [ 2.24976340e+05],\n",
       "       [ 9.10613053e+04],\n",
       "       [ 1.73611669e+05],\n",
       "       [-6.61320916e+02],\n",
       "       [ 1.09405831e+05],\n",
       "       [-6.61320916e+02],\n",
       "       [ 1.03453942e+04],\n",
       "       [ 3.00188893e+05],\n",
       "       [ 5.25378023e+04],\n",
       "       [ 9.65646629e+04],\n",
       "       [ 8.92268528e+04],\n",
       "       [-6.61320916e+02],\n",
       "       [-6.61320916e+02],\n",
       "       [-2.81781088e+04],\n",
       "       [ 4.37772832e+05],\n",
       "       [ 3.96966346e+04],\n",
       "       [ 9.10613053e+04],\n",
       "       [ 6.35445174e+04],\n",
       "       [ 1.82783932e+05],\n",
       "       [ 8.18890427e+04],\n",
       "       [ 9.10613053e+04],\n",
       "       [ 4.51999922e+04],\n",
       "       [ 8.73924003e+04],\n",
       "       [ 2.46989770e+05],\n",
       "       [ 2.74506558e+05],\n",
       "       [ 1.00233568e+05],\n",
       "       [ 1.09405831e+05],\n",
       "       [ 3.84573709e+05],\n",
       "       [ 7.82201376e+04],\n",
       "       [ 3.64394731e+05],\n",
       "       [ 5.25378023e+04],\n",
       "       [ 6.59741588e+05],\n",
       "       [ 1.35088166e+05],\n",
       "       [ 1.07571378e+05],\n",
       "       [ 9.83991154e+04],\n",
       "       [ 2.74506558e+05],\n",
       "       [ 9.65646629e+04],\n",
       "       [ 9.83991154e+04],\n",
       "       [ 1.46094881e+05],\n",
       "       [ 6.53789700e+04],\n",
       "       [ 2.41486412e+05],\n",
       "       [ 2.87347725e+05],\n",
       "       [ 9.10613053e+04],\n",
       "       [-1.84106573e+05],\n",
       "       [ 8.55579477e+04],\n",
       "       [-3.73503714e+04],\n",
       "       [-9.23839471e+04],\n",
       "       [ 2.80009915e+05],\n",
       "       [ 6.72134225e+04],\n",
       "       [ 1.00233568e+05],\n",
       "       [ 1.75446121e+05],\n",
       "       [-3.91848239e+04],\n",
       "       [ 3.60277296e+04],\n",
       "       [ 8.73924003e+04],\n",
       "       [ 9.83991154e+04],\n",
       "       [ 7.27167801e+04],\n",
       "       [-5.01915391e+04],\n",
       "       [ 4.51999922e+04],\n",
       "       [ 9.47302104e+04],\n",
       "       [ 8.73924003e+04],\n",
       "       [ 1.07571378e+05],\n",
       "       [ 7.27167801e+04],\n",
       "       [ 9.65646629e+04],\n",
       "       [ 2.13521094e+04],\n",
       "       [ 1.76832043e+04],\n",
       "       [ 5.43722548e+04],\n",
       "       [ 4.70344447e+04],\n",
       "       [ 9.83991154e+04],\n",
       "       [ 5.22157649e+05],\n",
       "       [-9.97217572e+04],\n",
       "       [ 8.73924003e+04],\n",
       "       [ 1.46094881e+05],\n",
       "       [ 9.83991154e+04],\n",
       "       [ 3.05243720e+04],\n",
       "       [ 3.60277296e+04],\n",
       "       [ 3.14864513e+05],\n",
       "       [ 5.43722548e+04],\n",
       "       [ 1.77280574e+05],\n",
       "       [ 3.66229184e+05],\n",
       "       [ 1.73611669e+05],\n",
       "       [ 7.27167801e+04],\n",
       "       [ 9.47302104e+04],\n",
       "       [ 1.46094881e+05],\n",
       "       [ 2.65334295e+05],\n",
       "       [-2.81781088e+04],\n",
       "       [ 1.73611669e+05],\n",
       "       [ 5.25378023e+04],\n",
       "       [ 3.23588245e+04],\n",
       "       [ 8.92268528e+04],\n",
       "       [ 7.63856851e+04],\n",
       "       [ 3.66229184e+05],\n",
       "       [ 7.27167801e+04],\n",
       "       [ 9.83991154e+04],\n",
       "       [ 9.65646629e+04],\n",
       "       [-9.97217572e+04],\n",
       "       [ 1.07571378e+05],\n",
       "       [ 8.73924003e+04],\n",
       "       [ 3.77235899e+05],\n",
       "       [ 8.18890427e+04],\n",
       "       [ 1.82783932e+05],\n",
       "       [ 1.00233568e+05],\n",
       "       [ 9.65646629e+04],\n",
       "       [ 9.83991154e+04],\n",
       "       [ 1.09405831e+05],\n",
       "       [ 8.73924003e+04],\n",
       "       [-6.61320916e+02],\n",
       "       [ 9.10613053e+04],\n",
       "       [-9.83358354e+03],\n",
       "       [ 1.76832043e+04],\n",
       "       [ 1.09405831e+05],\n",
       "       [ 4.33655397e+04],\n",
       "       [ 8.18890427e+04],\n",
       "       [-6.61320916e+02],\n",
       "       [-6.61320916e+02],\n",
       "       [ 1.76832043e+04],\n",
       "       [ 1.03902473e+05],\n",
       "       [ 1.07571378e+05],\n",
       "       [-6.61320916e+02],\n",
       "       [ 3.36877944e+05],\n",
       "       [ 8.00545902e+04],\n",
       "       [ 1.00233568e+05],\n",
       "       [ 8.73924003e+04],\n",
       "       [ 2.19472982e+05],\n",
       "       [ 8.00545902e+04],\n",
       "       [ 2.13521094e+04],\n",
       "       [ 3.60277296e+04],\n",
       "       [ 2.74506558e+05],\n",
       "       [-6.61320916e+02],\n",
       "       [ 2.24976340e+05],\n",
       "       [-9.83358354e+03],\n",
       "       [ 8.92268528e+04],\n",
       "       [ 8.73924003e+04],\n",
       "       [ 3.66229184e+05],\n",
       "       [ 9.83991154e+04],\n",
       "       [ 5.25378023e+04],\n",
       "       [ 1.91956194e+05],\n",
       "       [-2.81781088e+04],\n",
       "       [ 1.95625099e+05],\n",
       "       [ 1.80949479e+05],\n",
       "       [ 8.18890427e+04],\n",
       "       [ 1.82783932e+05],\n",
       "       [ 4.70344447e+04],\n",
       "       [ 9.83991154e+04],\n",
       "       [-1.90058462e+04],\n",
       "       [ 9.10613053e+04],\n",
       "       [ 3.96966346e+04],\n",
       "       [ 1.35088166e+05],\n",
       "       [-2.45092037e+04],\n",
       "       [ 1.00233568e+05],\n",
       "       [ 8.73924003e+04],\n",
       "       [ 5.43722548e+04],\n",
       "       [ 1.07571378e+05],\n",
       "       [ 1.47929334e+05],\n",
       "       [ 1.46094881e+05],\n",
       "       [ 3.29540133e+05],\n",
       "       [ 2.94685536e+05],\n",
       "       [ 9.10613053e+04],\n",
       "       [-6.61320916e+02],\n",
       "       [ 8.73924003e+04],\n",
       "       [ 8.18890427e+04],\n",
       "       [-6.61320916e+02],\n",
       "       [ 8.37234952e+04],\n",
       "       [ 1.00233568e+05],\n",
       "       [ 6.53789700e+04],\n",
       "       [ 2.86899195e+04],\n",
       "       [ 2.92851083e+05],\n",
       "       [ 2.41486412e+05],\n",
       "       [ 9.10613053e+04],\n",
       "       [ 1.00233568e+05],\n",
       "       [ 2.13521094e+04],\n",
       "       [ 5.62067073e+04],\n",
       "       [ 8.73924003e+04],\n",
       "       [ 1.73611669e+05],\n",
       "       [ 9.65646629e+04],\n",
       "       [ 3.66229184e+05],\n",
       "       [ 8.18890427e+04],\n",
       "       [-1.16231830e+05],\n",
       "       [ 6.17100649e+04],\n",
       "       [ 4.56117358e+05],\n",
       "       [ 9.10613053e+04],\n",
       "       [ 3.84573709e+05],\n",
       "       [ 5.25378023e+04],\n",
       "       [ 1.79115026e+05],\n",
       "       [ 1.03902473e+05],\n",
       "       [ 9.10613053e+04],\n",
       "       [ 8.00545902e+04],\n",
       "       [ 5.43722548e+04],\n",
       "       [ 9.65646629e+04],\n",
       "       [ 9.47302104e+04],\n",
       "       [ 1.76832043e+04],\n",
       "       [ 9.83991154e+04],\n",
       "       [ 2.80009915e+05],\n",
       "       [-6.61320916e+02],\n",
       "       [ 1.09405831e+05],\n",
       "       [ 9.10613053e+04],\n",
       "       [ 2.46989770e+05],\n",
       "       [-4.33022596e+03],\n",
       "       [ 2.01128457e+05],\n",
       "       [ 2.01128457e+05],\n",
       "       [ 3.20367871e+05],\n",
       "       [ 4.57951810e+05],\n",
       "       [ 3.84573709e+05],\n",
       "       [ 8.92268528e+04],\n",
       "       [ 7.27167801e+04],\n",
       "       [ 2.13521094e+04],\n",
       "       [ 1.79115026e+05],\n",
       "       [ 1.82783932e+05],\n",
       "       [ 9.83991154e+04],\n",
       "       [ 8.92268528e+04],\n",
       "       [ 1.47929334e+05],\n",
       "       [ 7.63856851e+04],\n",
       "       [ 1.82783932e+05],\n",
       "       [ 1.07571378e+05],\n",
       "       [ 5.80411599e+04],\n",
       "       [ 3.64394731e+05],\n",
       "       [ 7.27167801e+04],\n",
       "       [ 1.03902473e+05],\n",
       "       [ 1.00233568e+05],\n",
       "       [ 1.46094881e+05],\n",
       "       [ 2.19472982e+05],\n",
       "       [ 1.02068020e+05],\n",
       "       [ 2.74506558e+05],\n",
       "       [ 8.73924003e+04],\n",
       "       [ 5.25378023e+04],\n",
       "       [ 4.15310871e+04],\n",
       "       [ 3.38712396e+05],\n",
       "       [ 3.60277296e+04],\n",
       "       [ 1.00233568e+05],\n",
       "       [ 1.79115026e+05],\n",
       "       [ 1.09405831e+05],\n",
       "       [ 8.73924003e+04],\n",
       "       [ 1.02068020e+05],\n",
       "       [ 6.35445174e+04],\n",
       "       [ 8.00545902e+04],\n",
       "       [ 4.02918234e+05],\n",
       "       [ 6.35445174e+04],\n",
       "       [ 3.60277296e+04],\n",
       "       [ 4.51999922e+04],\n",
       "       [ 5.25378023e+04],\n",
       "       [ 2.46989770e+05],\n",
       "       [ 1.27750356e+05],\n",
       "       [ 8.00545902e+04],\n",
       "       [ 6.53789700e+04],\n",
       "       [ 1.73611669e+05],\n",
       "       [ 7.27167801e+04],\n",
       "       [ 9.83991154e+04],\n",
       "       [ 3.60277296e+04],\n",
       "       [ 8.18890427e+04],\n",
       "       [ 1.42425976e+05],\n",
       "       [ 2.19472982e+05],\n",
       "       [ 8.18890427e+04],\n",
       "       [ 5.12985386e+05],\n",
       "       [ 9.10613053e+04],\n",
       "       [ 1.27750356e+05],\n",
       "       [ 4.46945095e+05],\n",
       "       [ 1.44260429e+05],\n",
       "       [ 1.07571378e+05],\n",
       "       [ 5.25378023e+04],\n",
       "       [ 2.80009915e+05],\n",
       "       [ 4.02918234e+05],\n",
       "       [ 9.65646629e+04],\n",
       "       [-2.81781088e+04],\n",
       "       [ 9.10613053e+04],\n",
       "       [ 1.77280574e+05],\n",
       "       [ 8.00545902e+04],\n",
       "       [ 6.90478750e+04],\n",
       "       [ 5.43722548e+04],\n",
       "       [ 8.00545902e+04],\n",
       "       [ 3.66229184e+05],\n",
       "       [-9.83358354e+03],\n",
       "       [ 8.00545902e+04],\n",
       "       [ 9.65646629e+04],\n",
       "       [ 1.62604954e+05],\n",
       "       [ 4.02918234e+05],\n",
       "       [ 7.27167801e+04],\n",
       "       [ 8.18890427e+04],\n",
       "       [ 8.37234952e+04],\n",
       "       [ 9.83991154e+04],\n",
       "       [ 1.00233568e+05],\n",
       "       [ 4.17593855e+05],\n",
       "       [ 3.60277296e+04],\n",
       "       [ 3.20367871e+05],\n",
       "       [ 9.10613053e+04],\n",
       "       [ 1.79115026e+05],\n",
       "       [ 8.51094171e+03],\n",
       "       [ 9.10613053e+04],\n",
       "       [ 7.27167801e+04],\n",
       "       [-1.90058462e+04],\n",
       "       [ 8.18890427e+04],\n",
       "       [ 4.51999922e+04],\n",
       "       [ 1.77280574e+05],\n",
       "       [ 1.76832043e+04],\n",
       "       [ 6.53789700e+04],\n",
       "       [-6.61320916e+02],\n",
       "       [ 8.18890427e+04],\n",
       "       [-6.48671593e+04],\n",
       "       [ 1.33253713e+05],\n",
       "       [ 4.70344447e+04],\n",
       "       [ 2.80009915e+05],\n",
       "       [ 9.10613053e+04],\n",
       "       [ 2.46989770e+05],\n",
       "       [ 7.27167801e+04],\n",
       "       [ 5.43722548e+04],\n",
       "       [ 9.10613053e+04],\n",
       "       [ 9.83991154e+04],\n",
       "       [ 3.96966346e+04],\n",
       "       [ 4.15310871e+04],\n",
       "       [ 1.76832043e+04],\n",
       "       [ 3.23588245e+04],\n",
       "       [ 3.60725826e+05],\n",
       "       [ 9.65646629e+04],\n",
       "       [ 1.77280574e+05],\n",
       "       [ 1.09405831e+05],\n",
       "       [ 3.84573709e+05],\n",
       "       [ 2.56162032e+05],\n",
       "       [-1.43748618e+05],\n",
       "       [ 7.27167801e+04],\n",
       "       [ 1.82783932e+05],\n",
       "       [ 1.82783932e+05],\n",
       "       [ 1.80949479e+05],\n",
       "       [ 2.46989770e+05],\n",
       "       [ 2.15804077e+05],\n",
       "       [ 8.92268528e+04],\n",
       "       [-2.81781088e+04],\n",
       "       [ 2.01128457e+05],\n",
       "       [-1.84106573e+05],\n",
       "       [ 9.10613053e+04],\n",
       "       [ 8.73924003e+04],\n",
       "       [ 2.50658675e+05],\n",
       "       [ 2.56162032e+05],\n",
       "       [ 3.00188893e+05],\n",
       "       [ 9.83991154e+04],\n",
       "       [ 1.79115026e+05],\n",
       "       [ 1.31419261e+05],\n",
       "       [ 6.35445174e+04],\n",
       "       [ 1.00233568e+05],\n",
       "       [-6.61320916e+02],\n",
       "       [ 1.82783932e+05],\n",
       "       [ 2.65334295e+05],\n",
       "       [ 3.05243720e+04],\n",
       "       [-6.61320916e+02],\n",
       "       [ 2.37817507e+05],\n",
       "       [ 1.79115026e+05],\n",
       "       [ 9.83991154e+04],\n",
       "       [ 1.00233568e+05],\n",
       "       [ 9.83991154e+04],\n",
       "       [ 1.40591523e+05],\n",
       "       [ 5.80411599e+04],\n",
       "       [ 2.46989770e+05],\n",
       "       [-6.61320916e+02],\n",
       "       [ 7.63856851e+04],\n",
       "       [ 1.02068020e+05],\n",
       "       [ 3.47884659e+05],\n",
       "       [ 8.37234952e+04],\n",
       "       [ 1.25915903e+05],\n",
       "       [ 3.58891374e+05],\n",
       "       [-9.23839471e+04],\n",
       "       [ 1.09405831e+05],\n",
       "       [ 1.73611669e+05],\n",
       "       [ 4.39607285e+05],\n",
       "       [ 3.05243720e+04],\n",
       "       [ 1.46094881e+05],\n",
       "       [-2.49577344e+03],\n",
       "       [-7.99913101e+03],\n",
       "       [ 9.10613053e+04],\n",
       "       [ 5.25378023e+04],\n",
       "       [ 5.49674436e+05],\n",
       "       [ 9.10613053e+04],\n",
       "       [ 9.10613053e+04],\n",
       "       [ 1.58936049e+05],\n",
       "       [ 1.86452837e+05],\n",
       "       [ 3.58891374e+05],\n",
       "       [ 2.28645245e+05],\n",
       "       [ 3.78621821e+04],\n",
       "       [ 1.00233568e+05],\n",
       "       [ 1.44260429e+05],\n",
       "       [ 9.83991154e+04],\n",
       "       [ 8.73924003e+04],\n",
       "       [ 8.18890427e+04],\n",
       "       [ 3.86408162e+05],\n",
       "       [ 7.27167801e+04],\n",
       "       [-6.16467849e+03],\n",
       "       [ 1.46094881e+05],\n",
       "       [ 8.18890427e+04],\n",
       "       [ 2.80009915e+05],\n",
       "       [ 1.07571378e+05],\n",
       "       [ 7.27167801e+04],\n",
       "       [ 4.02918234e+05],\n",
       "       [ 1.80949479e+05],\n",
       "       [ 5.25378023e+04],\n",
       "       [ 2.39651960e+05],\n",
       "       [-6.61320916e+02],\n",
       "       [ 9.10613053e+04],\n",
       "       [ 2.74506558e+05],\n",
       "       [ 9.10613053e+04],\n",
       "       [-6.61320916e+02],\n",
       "       [ 4.33655397e+04],\n",
       "       [ 8.37234952e+04],\n",
       "       [ 9.10613053e+04],\n",
       "       [-6.61320916e+02],\n",
       "       [ 2.13521094e+04],\n",
       "       [ 6.90478750e+04],\n",
       "       [ 1.82783932e+05],\n",
       "       [ 9.10613053e+04],\n",
       "       [ 8.92268528e+04],\n",
       "       [ 9.10613053e+04],\n",
       "       [ 8.18890427e+04],\n",
       "       [ 8.37234952e+04],\n",
       "       [ 9.83991154e+04],\n",
       "       [ 1.00233568e+05],\n",
       "       [ 8.92268528e+04],\n",
       "       [ 9.10613053e+04],\n",
       "       [ 3.78621821e+04],\n",
       "       [ 2.65334295e+05],\n",
       "       [ 1.00233568e+05],\n",
       "       [ 8.37234952e+04],\n",
       "       [ 5.43722548e+04],\n",
       "       [ 1.77280574e+05],\n",
       "       [ 3.38712396e+05],\n",
       "       [ 9.83991154e+04],\n",
       "       [-6.61320916e+02],\n",
       "       [ 5.43722548e+04],\n",
       "       [ 2.74506558e+05],\n",
       "       [ 1.10001019e+06],\n",
       "       [-6.61320916e+02]])"
      ]
     },
     "execution_count": 42,
     "metadata": {},
     "output_type": "execute_result"
    }
   ],
   "source": [
    "y_predicted"
   ]
  },
  {
   "cell_type": "code",
   "execution_count": 43,
   "id": "21ef07c9",
   "metadata": {},
   "outputs": [
    {
     "data": {
      "text/html": [
       "<div>\n",
       "<style scoped>\n",
       "    .dataframe tbody tr th:only-of-type {\n",
       "        vertical-align: middle;\n",
       "    }\n",
       "\n",
       "    .dataframe tbody tr th {\n",
       "        vertical-align: top;\n",
       "    }\n",
       "\n",
       "    .dataframe thead th {\n",
       "        text-align: right;\n",
       "    }\n",
       "</style>\n",
       "<table border=\"1\" class=\"dataframe\">\n",
       "  <thead>\n",
       "    <tr style=\"text-align: right;\">\n",
       "      <th></th>\n",
       "      <th>Actual</th>\n",
       "      <th>Predicted</th>\n",
       "    </tr>\n",
       "  </thead>\n",
       "  <tbody>\n",
       "    <tr>\n",
       "      <th>0</th>\n",
       "      <td>54939.010</td>\n",
       "      <td>91061.305302</td>\n",
       "    </tr>\n",
       "    <tr>\n",
       "      <th>1</th>\n",
       "      <td>11634.725</td>\n",
       "      <td>17683.204328</td>\n",
       "    </tr>\n",
       "    <tr>\n",
       "      <th>2</th>\n",
       "      <td>63425.000</td>\n",
       "      <td>96564.662875</td>\n",
       "    </tr>\n",
       "    <tr>\n",
       "      <th>3</th>\n",
       "      <td>110983.000</td>\n",
       "      <td>107571.378022</td>\n",
       "    </tr>\n",
       "    <tr>\n",
       "      <th>4</th>\n",
       "      <td>12528.600</td>\n",
       "      <td>-19005.846160</td>\n",
       "    </tr>\n",
       "    <tr>\n",
       "      <th>5</th>\n",
       "      <td>31164.250</td>\n",
       "      <td>48868.897242</td>\n",
       "    </tr>\n",
       "    <tr>\n",
       "      <th>6</th>\n",
       "      <td>37893.750</td>\n",
       "      <td>47034.444718</td>\n",
       "    </tr>\n",
       "    <tr>\n",
       "      <th>7</th>\n",
       "      <td>34217.250</td>\n",
       "      <td>17683.204328</td>\n",
       "    </tr>\n",
       "    <tr>\n",
       "      <th>8</th>\n",
       "      <td>55103.860</td>\n",
       "      <td>72716.780059</td>\n",
       "    </tr>\n",
       "    <tr>\n",
       "      <th>9</th>\n",
       "      <td>136525.000</td>\n",
       "      <td>171777.216374</td>\n",
       "    </tr>\n",
       "    <tr>\n",
       "      <th>10</th>\n",
       "      <td>165550.000</td>\n",
       "      <td>201128.456764</td>\n",
       "    </tr>\n",
       "    <tr>\n",
       "      <th>11</th>\n",
       "      <td>23881.000</td>\n",
       "      <td>-661.320916</td>\n",
       "    </tr>\n",
       "    <tr>\n",
       "      <th>12</th>\n",
       "      <td>70885.500</td>\n",
       "      <td>109405.830546</td>\n",
       "    </tr>\n",
       "    <tr>\n",
       "      <th>13</th>\n",
       "      <td>49342.500</td>\n",
       "      <td>61710.064912</td>\n",
       "    </tr>\n",
       "    <tr>\n",
       "      <th>14</th>\n",
       "      <td>67187.500</td>\n",
       "      <td>96564.662875</td>\n",
       "    </tr>\n",
       "    <tr>\n",
       "      <th>15</th>\n",
       "      <td>173882.325</td>\n",
       "      <td>98399.115400</td>\n",
       "    </tr>\n",
       "    <tr>\n",
       "      <th>16</th>\n",
       "      <td>153617.500</td>\n",
       "      <td>102068.020448</td>\n",
       "    </tr>\n",
       "    <tr>\n",
       "      <th>17</th>\n",
       "      <td>4154.220</td>\n",
       "      <td>-74039.421890</td>\n",
       "    </tr>\n",
       "    <tr>\n",
       "      <th>18</th>\n",
       "      <td>20425.000</td>\n",
       "      <td>32358.824523</td>\n",
       "    </tr>\n",
       "    <tr>\n",
       "      <th>19</th>\n",
       "      <td>26337.500</td>\n",
       "      <td>52537.802291</td>\n",
       "    </tr>\n",
       "    <tr>\n",
       "      <th>20</th>\n",
       "      <td>270242.100</td>\n",
       "      <td>413924.949590</td>\n",
       "    </tr>\n",
       "    <tr>\n",
       "      <th>21</th>\n",
       "      <td>38485.000</td>\n",
       "      <td>61710.064912</td>\n",
       "    </tr>\n",
       "    <tr>\n",
       "      <th>22</th>\n",
       "      <td>313362.500</td>\n",
       "      <td>358891.373859</td>\n",
       "    </tr>\n",
       "    <tr>\n",
       "      <th>23</th>\n",
       "      <td>5055.400</td>\n",
       "      <td>-64867.159269</td>\n",
       "    </tr>\n",
       "    <tr>\n",
       "      <th>24</th>\n",
       "      <td>15932.203</td>\n",
       "      <td>-9833.583538</td>\n",
       "    </tr>\n",
       "    <tr>\n",
       "      <th>25</th>\n",
       "      <td>62258.625</td>\n",
       "      <td>91061.305302</td>\n",
       "    </tr>\n",
       "    <tr>\n",
       "      <th>26</th>\n",
       "      <td>16931.250</td>\n",
       "      <td>54372.254815</td>\n",
       "    </tr>\n",
       "    <tr>\n",
       "      <th>27</th>\n",
       "      <td>316512.000</td>\n",
       "      <td>180949.478996</td>\n",
       "    </tr>\n",
       "    <tr>\n",
       "      <th>28</th>\n",
       "      <td>418712.500</td>\n",
       "      <td>179115.026472</td>\n",
       "    </tr>\n",
       "    <tr>\n",
       "      <th>29</th>\n",
       "      <td>145390.525</td>\n",
       "      <td>91061.305302</td>\n",
       "    </tr>\n",
       "  </tbody>\n",
       "</table>\n",
       "</div>"
      ],
      "text/plain": [
       "        Actual      Predicted\n",
       "0    54939.010   91061.305302\n",
       "1    11634.725   17683.204328\n",
       "2    63425.000   96564.662875\n",
       "3   110983.000  107571.378022\n",
       "4    12528.600  -19005.846160\n",
       "5    31164.250   48868.897242\n",
       "6    37893.750   47034.444718\n",
       "7    34217.250   17683.204328\n",
       "8    55103.860   72716.780059\n",
       "9   136525.000  171777.216374\n",
       "10  165550.000  201128.456764\n",
       "11   23881.000    -661.320916\n",
       "12   70885.500  109405.830546\n",
       "13   49342.500   61710.064912\n",
       "14   67187.500   96564.662875\n",
       "15  173882.325   98399.115400\n",
       "16  153617.500  102068.020448\n",
       "17    4154.220  -74039.421890\n",
       "18   20425.000   32358.824523\n",
       "19   26337.500   52537.802291\n",
       "20  270242.100  413924.949590\n",
       "21   38485.000   61710.064912\n",
       "22  313362.500  358891.373859\n",
       "23    5055.400  -64867.159269\n",
       "24   15932.203   -9833.583538\n",
       "25   62258.625   91061.305302\n",
       "26   16931.250   54372.254815\n",
       "27  316512.000  180949.478996\n",
       "28  418712.500  179115.026472\n",
       "29  145390.525   91061.305302"
      ]
     },
     "execution_count": 43,
     "metadata": {},
     "output_type": "execute_result"
    }
   ],
   "source": [
    "# Create a dataframe comparing the actual and predicted values of y.\n",
    "data = pd.DataFrame({'Actual': y_test.flatten(), 'Predicted': y_predicted.flatten()})\n",
    "data.head(30)"
   ]
  },
  {
   "cell_type": "markdown",
   "id": "9872b3d7",
   "metadata": {},
   "source": [
    "### 6. Export file"
   ]
  },
  {
   "cell_type": "code",
   "execution_count": 44,
   "id": "faadb3b5",
   "metadata": {},
   "outputs": [],
   "source": [
    "# Export the modified dataframe\n",
    "df.to_csv(os.path.join(path, 'Data', 'Prepared Data', 'regression_data.csv'))"
   ]
  },
  {
   "cell_type": "markdown",
   "id": "89d7bbdc",
   "metadata": {},
   "source": [
    "### Conclusion\n",
    "\n",
    "The prediction model we use in this exercise fails to predict boat price using boat \n",
    "size variables (width and length). Although we already slice the data to predict only\n",
    "new boats, and remove all extreme values in the variables, there are still big margins\n",
    "of errors in the prediction result. Therefore we cannot use this regression model for\n",
    "our purpose.\n",
    "\n",
    "#### Data bias\n",
    "\n",
    "Since this data set covers boats from different part of the worlds, there are no specific\n",
    "boat standard price. Also boat size alone may not determine the price of the boat since there\n",
    "are more variables involved such boat type, manufacturer, material, and type of gasoline.\n",
    "When we do more comprehentive analysis there is better chance of improved prediction."
   ]
  },
  {
   "cell_type": "markdown",
   "id": "74a7e81b",
   "metadata": {},
   "source": [
    "### End of Boat Analysis Part 4"
   ]
  }
 ],
 "metadata": {
  "kernelspec": {
   "display_name": "Python 3 (ipykernel)",
   "language": "python",
   "name": "python3"
  },
  "language_info": {
   "codemirror_mode": {
    "name": "ipython",
    "version": 3
   },
   "file_extension": ".py",
   "mimetype": "text/x-python",
   "name": "python",
   "nbconvert_exporter": "python",
   "pygments_lexer": "ipython3",
   "version": "3.11.5"
  }
 },
 "nbformat": 4,
 "nbformat_minor": 5
}
