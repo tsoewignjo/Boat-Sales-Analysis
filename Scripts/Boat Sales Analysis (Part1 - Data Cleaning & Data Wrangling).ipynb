{
 "cells": [
  {
   "cell_type": "markdown",
   "id": "cf8d9cc8",
   "metadata": {},
   "source": [
    "# Boat Sales Analysis\n",
    "\n",
    "### Part 1 - Data Cleaning & Data Wrangling"
   ]
  },
  {
   "cell_type": "markdown",
   "id": "1e9bcc9d",
   "metadata": {},
   "source": [
    "#### Content\n",
    "1. Import Libraries\n",
    "2. Load data set \n",
    "3. Explore data content\n",
    "4. Data cleaning\n",
    "5. Data wrangling\n",
    "6. Save data set into a file"
   ]
  },
  {
   "cell_type": "markdown",
   "id": "c7caa595",
   "metadata": {},
   "source": [
    "#### 1. Import libraries"
   ]
  },
  {
   "cell_type": "code",
   "execution_count": 1,
   "id": "1d745970",
   "metadata": {},
   "outputs": [],
   "source": [
    "import pandas as pd\n",
    "import numpy as np\n",
    "import os\n",
    "import seaborn as sns\n",
    "import matplotlib.pyplot as plt "
   ]
  },
  {
   "cell_type": "markdown",
   "id": "a9d556b7",
   "metadata": {},
   "source": [
    "#### 2. Load Data Set"
   ]
  },
  {
   "cell_type": "code",
   "execution_count": 2,
   "id": "34725b2e",
   "metadata": {},
   "outputs": [],
   "source": [
    "# Set path to access data files\n",
    "path = r'C:\\Users\\tsoew\\OneDrive\\Desktop\\Boat Sales Analysis'"
   ]
  },
  {
   "cell_type": "code",
   "execution_count": 3,
   "id": "25714ee0",
   "metadata": {},
   "outputs": [],
   "source": [
    "# Import file into dataframe\n",
    "df = pd.read_csv (os.path.join(path, 'Data', 'Original Data', 'boat_data_orig.csv'), index_col=False)"
   ]
  },
  {
   "cell_type": "code",
   "execution_count": 4,
   "id": "a2916186",
   "metadata": {},
   "outputs": [
    {
     "data": {
      "text/html": [
       "<div>\n",
       "<style scoped>\n",
       "    .dataframe tbody tr th:only-of-type {\n",
       "        vertical-align: middle;\n",
       "    }\n",
       "\n",
       "    .dataframe tbody tr th {\n",
       "        vertical-align: top;\n",
       "    }\n",
       "\n",
       "    .dataframe thead th {\n",
       "        text-align: right;\n",
       "    }\n",
       "</style>\n",
       "<table border=\"1\" class=\"dataframe\">\n",
       "  <thead>\n",
       "    <tr style=\"text-align: right;\">\n",
       "      <th></th>\n",
       "      <th>Price</th>\n",
       "      <th>Boat Type</th>\n",
       "      <th>Manufacturer</th>\n",
       "      <th>Type</th>\n",
       "      <th>Year Built</th>\n",
       "      <th>Length</th>\n",
       "      <th>Width</th>\n",
       "      <th>Material</th>\n",
       "      <th>Location</th>\n",
       "      <th>Number of views last 7 days</th>\n",
       "    </tr>\n",
       "  </thead>\n",
       "  <tbody>\n",
       "    <tr>\n",
       "      <th>0</th>\n",
       "      <td>CHF 3337</td>\n",
       "      <td>Motor Yacht</td>\n",
       "      <td>Rigiflex power boats</td>\n",
       "      <td>new boat from stock</td>\n",
       "      <td>2017</td>\n",
       "      <td>4.00</td>\n",
       "      <td>1.90</td>\n",
       "      <td>NaN</td>\n",
       "      <td>Switzerland Â» Lake Geneva Â» VÃ©senaz</td>\n",
       "      <td>226</td>\n",
       "    </tr>\n",
       "    <tr>\n",
       "      <th>1</th>\n",
       "      <td>EUR 3490</td>\n",
       "      <td>Center console boat</td>\n",
       "      <td>Terhi power boats</td>\n",
       "      <td>new boat from stock</td>\n",
       "      <td>2020</td>\n",
       "      <td>4.00</td>\n",
       "      <td>1.50</td>\n",
       "      <td>Thermoplastic</td>\n",
       "      <td>Germany Â» BÃ¶nningstedt</td>\n",
       "      <td>75</td>\n",
       "    </tr>\n",
       "    <tr>\n",
       "      <th>2</th>\n",
       "      <td>CHF 3770</td>\n",
       "      <td>Sport Boat</td>\n",
       "      <td>Marine power boats</td>\n",
       "      <td>new boat from stock</td>\n",
       "      <td>0</td>\n",
       "      <td>3.69</td>\n",
       "      <td>1.42</td>\n",
       "      <td>Aluminium</td>\n",
       "      <td>Switzerland Â» Lake of Zurich Â» StÃ¤fa ZH</td>\n",
       "      <td>124</td>\n",
       "    </tr>\n",
       "    <tr>\n",
       "      <th>3</th>\n",
       "      <td>DKK 25900</td>\n",
       "      <td>Sport Boat</td>\n",
       "      <td>Pioner power boats</td>\n",
       "      <td>new boat from stock</td>\n",
       "      <td>2020</td>\n",
       "      <td>3.00</td>\n",
       "      <td>1.00</td>\n",
       "      <td>NaN</td>\n",
       "      <td>Denmark Â» Svendborg</td>\n",
       "      <td>64</td>\n",
       "    </tr>\n",
       "    <tr>\n",
       "      <th>4</th>\n",
       "      <td>EUR 3399</td>\n",
       "      <td>Fishing Boat</td>\n",
       "      <td>Linder power boats</td>\n",
       "      <td>new boat from stock</td>\n",
       "      <td>2019</td>\n",
       "      <td>3.55</td>\n",
       "      <td>1.46</td>\n",
       "      <td>Aluminium</td>\n",
       "      <td>Germany Â» Bayern Â» MÃ¼nchen</td>\n",
       "      <td>58</td>\n",
       "    </tr>\n",
       "  </tbody>\n",
       "</table>\n",
       "</div>"
      ],
      "text/plain": [
       "       Price            Boat Type          Manufacturer                 Type  \\\n",
       "0   CHF 3337          Motor Yacht  Rigiflex power boats  new boat from stock   \n",
       "1   EUR 3490  Center console boat     Terhi power boats  new boat from stock   \n",
       "2   CHF 3770           Sport Boat    Marine power boats  new boat from stock   \n",
       "3  DKK 25900           Sport Boat    Pioner power boats  new boat from stock   \n",
       "4   EUR 3399         Fishing Boat    Linder power boats  new boat from stock   \n",
       "\n",
       "   Year Built  Length  Width       Material  \\\n",
       "0        2017    4.00   1.90            NaN   \n",
       "1        2020    4.00   1.50  Thermoplastic   \n",
       "2           0    3.69   1.42      Aluminium   \n",
       "3        2020    3.00   1.00            NaN   \n",
       "4        2019    3.55   1.46      Aluminium   \n",
       "\n",
       "                                     Location  Number of views last 7 days  \n",
       "0      Switzerland Â» Lake Geneva Â» VÃ©senaz                          226  \n",
       "1                    Germany Â» BÃ¶nningstedt                           75  \n",
       "2  Switzerland Â» Lake of Zurich Â» StÃ¤fa ZH                          124  \n",
       "3                        Denmark Â» Svendborg                           64  \n",
       "4               Germany Â» Bayern Â» MÃ¼nchen                           58  "
      ]
     },
     "execution_count": 4,
     "metadata": {},
     "output_type": "execute_result"
    }
   ],
   "source": [
    "# Check data head\n",
    "df.head()"
   ]
  },
  {
   "cell_type": "markdown",
   "id": "afc1d280",
   "metadata": {},
   "source": [
    "#### Note:\n",
    "- Location column has some garbled characters which could be a divider between country name and city name."
   ]
  },
  {
   "cell_type": "code",
   "execution_count": 5,
   "id": "5d5715b2",
   "metadata": {},
   "outputs": [
    {
     "data": {
      "text/plain": [
       "(9888, 10)"
      ]
     },
     "execution_count": 5,
     "metadata": {},
     "output_type": "execute_result"
    }
   ],
   "source": [
    "df.shape"
   ]
  },
  {
   "cell_type": "code",
   "execution_count": 5,
   "id": "5adb652e",
   "metadata": {},
   "outputs": [
    {
     "data": {
      "text/plain": [
       "<bound method Series.unique of 0       2017\n",
       "1       2020\n",
       "2          0\n",
       "3       2020\n",
       "4       2019\n",
       "        ... \n",
       "9883    1987\n",
       "9884       0\n",
       "9885    2020\n",
       "9886    2018\n",
       "9887    2019\n",
       "Name: Year Built, Length: 9888, dtype: int64>"
      ]
     },
     "execution_count": 5,
     "metadata": {},
     "output_type": "execute_result"
    }
   ],
   "source": [
    "df['Year Built'].unique"
   ]
  },
  {
   "cell_type": "code",
   "execution_count": null,
   "id": "b7ddda8c",
   "metadata": {},
   "outputs": [],
   "source": []
  },
  {
   "cell_type": "markdown",
   "id": "839fb7cd",
   "metadata": {},
   "source": [
    "#### 3. Explore Data content"
   ]
  },
  {
   "cell_type": "code",
   "execution_count": 6,
   "id": "35fe1ccb",
   "metadata": {},
   "outputs": [
    {
     "data": {
      "text/html": [
       "<div>\n",
       "<style scoped>\n",
       "    .dataframe tbody tr th:only-of-type {\n",
       "        vertical-align: middle;\n",
       "    }\n",
       "\n",
       "    .dataframe tbody tr th {\n",
       "        vertical-align: top;\n",
       "    }\n",
       "\n",
       "    .dataframe thead th {\n",
       "        text-align: right;\n",
       "    }\n",
       "</style>\n",
       "<table border=\"1\" class=\"dataframe\">\n",
       "  <thead>\n",
       "    <tr style=\"text-align: right;\">\n",
       "      <th></th>\n",
       "      <th>Year Built</th>\n",
       "      <th>Length</th>\n",
       "      <th>Width</th>\n",
       "      <th>Number of views last 7 days</th>\n",
       "    </tr>\n",
       "  </thead>\n",
       "  <tbody>\n",
       "    <tr>\n",
       "      <th>count</th>\n",
       "      <td>9888.000000</td>\n",
       "      <td>9879.000000</td>\n",
       "      <td>9832.000000</td>\n",
       "      <td>9888.000000</td>\n",
       "    </tr>\n",
       "    <tr>\n",
       "      <th>mean</th>\n",
       "      <td>1893.192860</td>\n",
       "      <td>11.570017</td>\n",
       "      <td>3.520124</td>\n",
       "      <td>149.160801</td>\n",
       "    </tr>\n",
       "    <tr>\n",
       "      <th>std</th>\n",
       "      <td>460.201582</td>\n",
       "      <td>6.002820</td>\n",
       "      <td>1.220534</td>\n",
       "      <td>151.819752</td>\n",
       "    </tr>\n",
       "    <tr>\n",
       "      <th>min</th>\n",
       "      <td>0.000000</td>\n",
       "      <td>1.040000</td>\n",
       "      <td>0.010000</td>\n",
       "      <td>13.000000</td>\n",
       "    </tr>\n",
       "    <tr>\n",
       "      <th>25%</th>\n",
       "      <td>1996.000000</td>\n",
       "      <td>7.470000</td>\n",
       "      <td>2.540000</td>\n",
       "      <td>70.000000</td>\n",
       "    </tr>\n",
       "    <tr>\n",
       "      <th>50%</th>\n",
       "      <td>2007.000000</td>\n",
       "      <td>10.280000</td>\n",
       "      <td>3.330000</td>\n",
       "      <td>108.000000</td>\n",
       "    </tr>\n",
       "    <tr>\n",
       "      <th>75%</th>\n",
       "      <td>2017.000000</td>\n",
       "      <td>13.930000</td>\n",
       "      <td>4.250000</td>\n",
       "      <td>172.000000</td>\n",
       "    </tr>\n",
       "    <tr>\n",
       "      <th>max</th>\n",
       "      <td>2021.000000</td>\n",
       "      <td>100.000000</td>\n",
       "      <td>25.160000</td>\n",
       "      <td>3263.000000</td>\n",
       "    </tr>\n",
       "  </tbody>\n",
       "</table>\n",
       "</div>"
      ],
      "text/plain": [
       "        Year Built       Length        Width  Number of views last 7 days\n",
       "count  9888.000000  9879.000000  9832.000000                  9888.000000\n",
       "mean   1893.192860    11.570017     3.520124                   149.160801\n",
       "std     460.201582     6.002820     1.220534                   151.819752\n",
       "min       0.000000     1.040000     0.010000                    13.000000\n",
       "25%    1996.000000     7.470000     2.540000                    70.000000\n",
       "50%    2007.000000    10.280000     3.330000                   108.000000\n",
       "75%    2017.000000    13.930000     4.250000                   172.000000\n",
       "max    2021.000000   100.000000    25.160000                  3263.000000"
      ]
     },
     "execution_count": 6,
     "metadata": {},
     "output_type": "execute_result"
    }
   ],
   "source": [
    "df.describe()"
   ]
  },
  {
   "cell_type": "markdown",
   "id": "6f08d1eb",
   "metadata": {},
   "source": [
    "#### Note for some anomalies:\n",
    "- Year Built minimum has 0 values and average of 1893, which is quite outdated.\n",
    "- Length minimum is 1.04 which is too small for a boat.\n",
    "- Width minimum is 0.01 which is not possible.\n",
    "- Num of Views has maximum of 3263 which can be an outlier compared to other values."
   ]
  },
  {
   "cell_type": "code",
   "execution_count": 7,
   "id": "51847339",
   "metadata": {},
   "outputs": [
    {
     "data": {
      "text/plain": [
       "(9888, 10)"
      ]
     },
     "execution_count": 7,
     "metadata": {},
     "output_type": "execute_result"
    }
   ],
   "source": [
    "df.shape"
   ]
  },
  {
   "cell_type": "code",
   "execution_count": 8,
   "id": "81a3c302",
   "metadata": {},
   "outputs": [
    {
     "name": "stdout",
     "output_type": "stream",
     "text": [
      "<class 'pandas.core.frame.DataFrame'>\n",
      "RangeIndex: 9888 entries, 0 to 9887\n",
      "Data columns (total 10 columns):\n",
      " #   Column                       Non-Null Count  Dtype  \n",
      "---  ------                       --------------  -----  \n",
      " 0   Price                        9888 non-null   object \n",
      " 1   Boat Type                    9888 non-null   object \n",
      " 2   Manufacturer                 8550 non-null   object \n",
      " 3   Type                         9882 non-null   object \n",
      " 4   Year Built                   9888 non-null   int64  \n",
      " 5   Length                       9879 non-null   float64\n",
      " 6   Width                        9832 non-null   float64\n",
      " 7   Material                     8139 non-null   object \n",
      " 8   Location                     9852 non-null   object \n",
      " 9   Number of views last 7 days  9888 non-null   int64  \n",
      "dtypes: float64(2), int64(2), object(6)\n",
      "memory usage: 772.6+ KB\n"
     ]
    }
   ],
   "source": [
    "df.info()"
   ]
  },
  {
   "cell_type": "markdown",
   "id": "eedef604",
   "metadata": {},
   "source": [
    "### 4. Data Cleaning"
   ]
  },
  {
   "cell_type": "markdown",
   "id": "609175be",
   "metadata": {},
   "source": [
    "#### Data cleaning: \"Year Built\" column"
   ]
  },
  {
   "cell_type": "code",
   "execution_count": 9,
   "id": "81119ffb",
   "metadata": {},
   "outputs": [
    {
     "data": {
      "text/plain": [
       "Year Built\n",
       "2020    1279\n",
       "2019     663\n",
       "0        551\n",
       "2008     457\n",
       "2007     393\n",
       "        ... \n",
       "1914       1\n",
       "1895       1\n",
       "1885       1\n",
       "1931       1\n",
       "1900       1\n",
       "Name: count, Length: 122, dtype: int64"
      ]
     },
     "execution_count": 9,
     "metadata": {},
     "output_type": "execute_result"
    }
   ],
   "source": [
    "df['Year Built'].value_counts()"
   ]
  },
  {
   "cell_type": "code",
   "execution_count": 10,
   "id": "95ded221",
   "metadata": {},
   "outputs": [],
   "source": [
    "# Remove 0 values in 'Year Built' column\n",
    "df = df[df['Year Built'] != 0]"
   ]
  },
  {
   "cell_type": "code",
   "execution_count": 11,
   "id": "43deffff",
   "metadata": {},
   "outputs": [
    {
     "data": {
      "text/plain": [
       "(9337, 10)"
      ]
     },
     "execution_count": 11,
     "metadata": {},
     "output_type": "execute_result"
    }
   ],
   "source": [
    "df.shape"
   ]
  },
  {
   "cell_type": "markdown",
   "id": "77e95ba7",
   "metadata": {},
   "source": [
    "#### Data cleaning: \"Width\" column"
   ]
  },
  {
   "cell_type": "code",
   "execution_count": 12,
   "id": "038a801b",
   "metadata": {},
   "outputs": [],
   "source": [
    "# remove any boat with width under 1 meter\n",
    "df = df[df['Width']>=1]"
   ]
  },
  {
   "cell_type": "code",
   "execution_count": 13,
   "id": "727edf9c",
   "metadata": {},
   "outputs": [
    {
     "data": {
      "text/plain": [
       "(9276, 10)"
      ]
     },
     "execution_count": 13,
     "metadata": {},
     "output_type": "execute_result"
    }
   ],
   "source": [
    "df.shape"
   ]
  },
  {
   "cell_type": "code",
   "execution_count": 14,
   "id": "8d0396b3",
   "metadata": {},
   "outputs": [],
   "source": [
    "# fill null values with average\n",
    "df['Width'] = df['Width'].fillna(df['Width'].mean())"
   ]
  },
  {
   "cell_type": "markdown",
   "id": "88158901",
   "metadata": {},
   "source": [
    "#### Data cleaning: \"Length\" column"
   ]
  },
  {
   "cell_type": "code",
   "execution_count": 15,
   "id": "6036668a",
   "metadata": {},
   "outputs": [],
   "source": [
    "# remove any boat with length under 1.5 meter\n",
    "df = df[df['Length']>=1.5]"
   ]
  },
  {
   "cell_type": "code",
   "execution_count": 16,
   "id": "614f0090",
   "metadata": {},
   "outputs": [
    {
     "data": {
      "text/plain": [
       "(9274, 10)"
      ]
     },
     "execution_count": 16,
     "metadata": {},
     "output_type": "execute_result"
    }
   ],
   "source": [
    "df.shape"
   ]
  },
  {
   "cell_type": "code",
   "execution_count": 17,
   "id": "ef277bf7",
   "metadata": {},
   "outputs": [],
   "source": [
    "# fill null values with average\n",
    "df['Length'] = df['Length'].fillna(df['Length'].mean())"
   ]
  },
  {
   "cell_type": "code",
   "execution_count": 18,
   "id": "3e1c170e",
   "metadata": {},
   "outputs": [
    {
     "name": "stdout",
     "output_type": "stream",
     "text": [
      "<class 'pandas.core.frame.DataFrame'>\n",
      "Index: 9274 entries, 0 to 9887\n",
      "Data columns (total 10 columns):\n",
      " #   Column                       Non-Null Count  Dtype  \n",
      "---  ------                       --------------  -----  \n",
      " 0   Price                        9274 non-null   object \n",
      " 1   Boat Type                    9274 non-null   object \n",
      " 2   Manufacturer                 8007 non-null   object \n",
      " 3   Type                         9269 non-null   object \n",
      " 4   Year Built                   9274 non-null   int64  \n",
      " 5   Length                       9274 non-null   float64\n",
      " 6   Width                        9274 non-null   float64\n",
      " 7   Material                     7647 non-null   object \n",
      " 8   Location                     9238 non-null   object \n",
      " 9   Number of views last 7 days  9274 non-null   int64  \n",
      "dtypes: float64(2), int64(2), object(6)\n",
      "memory usage: 797.0+ KB\n"
     ]
    }
   ],
   "source": [
    "df.info()"
   ]
  },
  {
   "cell_type": "markdown",
   "id": "d91e4291",
   "metadata": {},
   "source": [
    "#### Data cleaning: 'Number of views last 7 days' column"
   ]
  },
  {
   "cell_type": "code",
   "execution_count": 19,
   "id": "c269a1cb",
   "metadata": {},
   "outputs": [],
   "source": [
    "#rename column for simplicity\n",
    "df.rename(columns={\"Number of views last 7 days\": \"Views\"}, inplace=True)"
   ]
  },
  {
   "cell_type": "code",
   "execution_count": 20,
   "id": "85b74e64",
   "metadata": {},
   "outputs": [
    {
     "data": {
      "text/html": [
       "<div>\n",
       "<style scoped>\n",
       "    .dataframe tbody tr th:only-of-type {\n",
       "        vertical-align: middle;\n",
       "    }\n",
       "\n",
       "    .dataframe tbody tr th {\n",
       "        vertical-align: top;\n",
       "    }\n",
       "\n",
       "    .dataframe thead th {\n",
       "        text-align: right;\n",
       "    }\n",
       "</style>\n",
       "<table border=\"1\" class=\"dataframe\">\n",
       "  <thead>\n",
       "    <tr style=\"text-align: right;\">\n",
       "      <th></th>\n",
       "      <th>Price</th>\n",
       "      <th>Boat Type</th>\n",
       "      <th>Manufacturer</th>\n",
       "      <th>Type</th>\n",
       "      <th>Year Built</th>\n",
       "      <th>Length</th>\n",
       "      <th>Width</th>\n",
       "      <th>Material</th>\n",
       "      <th>Location</th>\n",
       "      <th>Views</th>\n",
       "    </tr>\n",
       "  </thead>\n",
       "  <tbody>\n",
       "    <tr>\n",
       "      <th>308</th>\n",
       "      <td>CHF 19900</td>\n",
       "      <td>Sport Boat</td>\n",
       "      <td>Sea Ray power boats</td>\n",
       "      <td>Used boat,Unleaded</td>\n",
       "      <td>1993</td>\n",
       "      <td>6.14</td>\n",
       "      <td>2.34</td>\n",
       "      <td>Plastic</td>\n",
       "      <td>Switzerland Â» Murtensee Â» Avenches</td>\n",
       "      <td>2026</td>\n",
       "    </tr>\n",
       "    <tr>\n",
       "      <th>3700</th>\n",
       "      <td>EUR 949000</td>\n",
       "      <td>Hardtop</td>\n",
       "      <td>Pershing power boats</td>\n",
       "      <td>Used boat,Diesel</td>\n",
       "      <td>2009</td>\n",
       "      <td>20.30</td>\n",
       "      <td>5.20</td>\n",
       "      <td>GRP</td>\n",
       "      <td>Neustadt in Holstein (Ostsee)</td>\n",
       "      <td>2154</td>\n",
       "    </tr>\n",
       "    <tr>\n",
       "      <th>6211</th>\n",
       "      <td>CHF 125900</td>\n",
       "      <td>Bowrider,Motor Yacht,Sport Boat</td>\n",
       "      <td>Windy power boats</td>\n",
       "      <td>Used boat,Diesel</td>\n",
       "      <td>2002</td>\n",
       "      <td>12.35</td>\n",
       "      <td>3.48</td>\n",
       "      <td>GRP</td>\n",
       "      <td>Switzerland Â» Lago Maggiore Â» 6600 Locarno</td>\n",
       "      <td>2261</td>\n",
       "    </tr>\n",
       "    <tr>\n",
       "      <th>8723</th>\n",
       "      <td>CHF 35000</td>\n",
       "      <td>Hardtop</td>\n",
       "      <td>Princess power boats</td>\n",
       "      <td>Used boat,Diesel</td>\n",
       "      <td>1979</td>\n",
       "      <td>11.12</td>\n",
       "      <td>3.88</td>\n",
       "      <td>GRP</td>\n",
       "      <td>Switzerland Â» Neuenburgersee Â» Hauterive</td>\n",
       "      <td>2432</td>\n",
       "    </tr>\n",
       "    <tr>\n",
       "      <th>9580</th>\n",
       "      <td>CHF 14900</td>\n",
       "      <td>Motor Yacht</td>\n",
       "      <td>Bayliner power boats</td>\n",
       "      <td>Used boat,Unleaded</td>\n",
       "      <td>1992</td>\n",
       "      <td>7.70</td>\n",
       "      <td>2.46</td>\n",
       "      <td>Plastic</td>\n",
       "      <td>Switzerland Â» Le Landeron (NE)</td>\n",
       "      <td>3263</td>\n",
       "    </tr>\n",
       "  </tbody>\n",
       "</table>\n",
       "</div>"
      ],
      "text/plain": [
       "           Price                        Boat Type          Manufacturer  \\\n",
       "308    CHF 19900                       Sport Boat   Sea Ray power boats   \n",
       "3700  EUR 949000                          Hardtop  Pershing power boats   \n",
       "6211  CHF 125900  Bowrider,Motor Yacht,Sport Boat     Windy power boats   \n",
       "8723   CHF 35000                          Hardtop  Princess power boats   \n",
       "9580   CHF 14900                      Motor Yacht  Bayliner power boats   \n",
       "\n",
       "                    Type  Year Built  Length  Width Material  \\\n",
       "308   Used boat,Unleaded        1993    6.14   2.34  Plastic   \n",
       "3700    Used boat,Diesel        2009   20.30   5.20      GRP   \n",
       "6211    Used boat,Diesel        2002   12.35   3.48      GRP   \n",
       "8723    Used boat,Diesel        1979   11.12   3.88      GRP   \n",
       "9580  Used boat,Unleaded        1992    7.70   2.46  Plastic   \n",
       "\n",
       "                                           Location  Views  \n",
       "308            Switzerland Â» Murtensee Â» Avenches   2026  \n",
       "3700                  Neustadt in Holstein (Ostsee)   2154  \n",
       "6211  Switzerland Â» Lago Maggiore Â» 6600 Locarno    2261  \n",
       "8723     Switzerland Â» Neuenburgersee Â» Hauterive   2432  \n",
       "9580                Switzerland Â» Le Landeron (NE)   3263  "
      ]
     },
     "execution_count": 20,
     "metadata": {},
     "output_type": "execute_result"
    }
   ],
   "source": [
    "df[df['Views']>2000]"
   ]
  },
  {
   "cell_type": "markdown",
   "id": "d915fd7e",
   "metadata": {},
   "source": [
    "#### Note:\n",
    "It looks like the number 3263 is not an outlier, but it seems possible for a very popular boat. So we will leave this column alone."
   ]
  },
  {
   "cell_type": "markdown",
   "id": "853a6ed4",
   "metadata": {},
   "source": [
    "#### Remove columns that are not used for this analysis"
   ]
  },
  {
   "cell_type": "code",
   "execution_count": 21,
   "id": "49666f0f",
   "metadata": {},
   "outputs": [],
   "source": [
    "# Remove 'Manufacturer' column\n",
    "df.drop('Manufacturer', axis=1, inplace=True)"
   ]
  },
  {
   "cell_type": "code",
   "execution_count": 22,
   "id": "ea5c8eb1",
   "metadata": {},
   "outputs": [],
   "source": [
    "# Remove 'Material' column\n",
    "df.drop('Material', axis=1, inplace=True)"
   ]
  },
  {
   "cell_type": "code",
   "execution_count": 23,
   "id": "f07055fd",
   "metadata": {
    "scrolled": false
   },
   "outputs": [
    {
     "name": "stdout",
     "output_type": "stream",
     "text": [
      "<class 'pandas.core.frame.DataFrame'>\n",
      "Index: 9274 entries, 0 to 9887\n",
      "Data columns (total 8 columns):\n",
      " #   Column      Non-Null Count  Dtype  \n",
      "---  ------      --------------  -----  \n",
      " 0   Price       9274 non-null   object \n",
      " 1   Boat Type   9274 non-null   object \n",
      " 2   Type        9269 non-null   object \n",
      " 3   Year Built  9274 non-null   int64  \n",
      " 4   Length      9274 non-null   float64\n",
      " 5   Width       9274 non-null   float64\n",
      " 6   Location    9238 non-null   object \n",
      " 7   Views       9274 non-null   int64  \n",
      "dtypes: float64(2), int64(2), object(4)\n",
      "memory usage: 652.1+ KB\n"
     ]
    }
   ],
   "source": [
    "df.info()"
   ]
  },
  {
   "cell_type": "code",
   "execution_count": 24,
   "id": "7ec9c0af",
   "metadata": {},
   "outputs": [],
   "source": [
    "# Drop all null values\n",
    "df.dropna(inplace=True)"
   ]
  },
  {
   "cell_type": "code",
   "execution_count": 25,
   "id": "8c995741",
   "metadata": {},
   "outputs": [
    {
     "name": "stdout",
     "output_type": "stream",
     "text": [
      "<class 'pandas.core.frame.DataFrame'>\n",
      "Index: 9233 entries, 0 to 9887\n",
      "Data columns (total 8 columns):\n",
      " #   Column      Non-Null Count  Dtype  \n",
      "---  ------      --------------  -----  \n",
      " 0   Price       9233 non-null   object \n",
      " 1   Boat Type   9233 non-null   object \n",
      " 2   Type        9233 non-null   object \n",
      " 3   Year Built  9233 non-null   int64  \n",
      " 4   Length      9233 non-null   float64\n",
      " 5   Width       9233 non-null   float64\n",
      " 6   Location    9233 non-null   object \n",
      " 7   Views       9233 non-null   int64  \n",
      "dtypes: float64(2), int64(2), object(4)\n",
      "memory usage: 649.2+ KB\n"
     ]
    }
   ],
   "source": [
    "df.info()"
   ]
  },
  {
   "cell_type": "markdown",
   "id": "8f0d9936",
   "metadata": {},
   "source": [
    "### 5. Data Wrangling"
   ]
  },
  {
   "cell_type": "markdown",
   "id": "1a490893",
   "metadata": {},
   "source": [
    "#### Reformat Price column"
   ]
  },
  {
   "cell_type": "code",
   "execution_count": 26,
   "id": "13fd3fd3",
   "metadata": {},
   "outputs": [],
   "source": [
    "#Split Price to 2 columns: 'currency' & 'Price'\n",
    "df[['currency','Price']]= df['Price'].str.split(' ', expand=True)"
   ]
  },
  {
   "cell_type": "code",
   "execution_count": 27,
   "id": "15e92f64",
   "metadata": {},
   "outputs": [],
   "source": [
    "# Convert all prices into US Dollar currency\n",
    "\n",
    "def USDprice(Price,currency):\n",
    "    \n",
    "    if currency=='EUR':              \n",
    "        #Euro\n",
    "        return int(Price) * 1.075\n",
    "    elif currency=='CHF':            \n",
    "        #Swiss Franc\n",
    "        return int(Price) * 1.099\n",
    "    elif currency=='DKK':            \n",
    "        #Danish Krone\n",
    "        return int(Price) * 0.143\n",
    "    elif currency=='Â£':             \n",
    "        #British Pounds\n",
    "        return int(Price) * 1.25\n",
    "    \n",
    "df['Price_USD'] = df.apply(lambda x: USDprice(x.Price, x.currency), axis=1)"
   ]
  },
  {
   "cell_type": "code",
   "execution_count": 28,
   "id": "ecfdb530",
   "metadata": {},
   "outputs": [],
   "source": [
    "# delete Price and currency columns as we are not using them anymore\n",
    "df.drop('currency', axis=1, inplace=True)\n",
    "df.drop('Price', axis=1, inplace=True)"
   ]
  },
  {
   "cell_type": "code",
   "execution_count": 29,
   "id": "42e194fb",
   "metadata": {},
   "outputs": [
    {
     "data": {
      "text/html": [
       "<div>\n",
       "<style scoped>\n",
       "    .dataframe tbody tr th:only-of-type {\n",
       "        vertical-align: middle;\n",
       "    }\n",
       "\n",
       "    .dataframe tbody tr th {\n",
       "        vertical-align: top;\n",
       "    }\n",
       "\n",
       "    .dataframe thead th {\n",
       "        text-align: right;\n",
       "    }\n",
       "</style>\n",
       "<table border=\"1\" class=\"dataframe\">\n",
       "  <thead>\n",
       "    <tr style=\"text-align: right;\">\n",
       "      <th></th>\n",
       "      <th>Boat Type</th>\n",
       "      <th>Type</th>\n",
       "      <th>Year Built</th>\n",
       "      <th>Length</th>\n",
       "      <th>Width</th>\n",
       "      <th>Location</th>\n",
       "      <th>Views</th>\n",
       "      <th>Price_USD</th>\n",
       "    </tr>\n",
       "  </thead>\n",
       "  <tbody>\n",
       "    <tr>\n",
       "      <th>0</th>\n",
       "      <td>Motor Yacht</td>\n",
       "      <td>new boat from stock</td>\n",
       "      <td>2017</td>\n",
       "      <td>4.00</td>\n",
       "      <td>1.90</td>\n",
       "      <td>Switzerland Â» Lake Geneva Â» VÃ©senaz</td>\n",
       "      <td>226</td>\n",
       "      <td>3667.363</td>\n",
       "    </tr>\n",
       "    <tr>\n",
       "      <th>1</th>\n",
       "      <td>Center console boat</td>\n",
       "      <td>new boat from stock</td>\n",
       "      <td>2020</td>\n",
       "      <td>4.00</td>\n",
       "      <td>1.50</td>\n",
       "      <td>Germany Â» BÃ¶nningstedt</td>\n",
       "      <td>75</td>\n",
       "      <td>3751.750</td>\n",
       "    </tr>\n",
       "    <tr>\n",
       "      <th>3</th>\n",
       "      <td>Sport Boat</td>\n",
       "      <td>new boat from stock</td>\n",
       "      <td>2020</td>\n",
       "      <td>3.00</td>\n",
       "      <td>1.00</td>\n",
       "      <td>Denmark Â» Svendborg</td>\n",
       "      <td>64</td>\n",
       "      <td>3703.700</td>\n",
       "    </tr>\n",
       "    <tr>\n",
       "      <th>4</th>\n",
       "      <td>Fishing Boat</td>\n",
       "      <td>new boat from stock</td>\n",
       "      <td>2019</td>\n",
       "      <td>3.55</td>\n",
       "      <td>1.46</td>\n",
       "      <td>Germany Â» Bayern Â» MÃ¼nchen</td>\n",
       "      <td>58</td>\n",
       "      <td>3653.925</td>\n",
       "    </tr>\n",
       "    <tr>\n",
       "      <th>6</th>\n",
       "      <td>Catamaran</td>\n",
       "      <td>Used boat,Unleaded</td>\n",
       "      <td>1999</td>\n",
       "      <td>6.20</td>\n",
       "      <td>2.38</td>\n",
       "      <td>Switzerland Â» Neuenburgersee Â» Yvonand</td>\n",
       "      <td>474</td>\n",
       "      <td>3956.400</td>\n",
       "    </tr>\n",
       "  </tbody>\n",
       "</table>\n",
       "</div>"
      ],
      "text/plain": [
       "             Boat Type                 Type  Year Built  Length  Width  \\\n",
       "0          Motor Yacht  new boat from stock        2017    4.00   1.90   \n",
       "1  Center console boat  new boat from stock        2020    4.00   1.50   \n",
       "3           Sport Boat  new boat from stock        2020    3.00   1.00   \n",
       "4         Fishing Boat  new boat from stock        2019    3.55   1.46   \n",
       "6            Catamaran   Used boat,Unleaded        1999    6.20   2.38   \n",
       "\n",
       "                                    Location  Views  Price_USD  \n",
       "0     Switzerland Â» Lake Geneva Â» VÃ©senaz    226   3667.363  \n",
       "1                   Germany Â» BÃ¶nningstedt     75   3751.750  \n",
       "3                       Denmark Â» Svendborg     64   3703.700  \n",
       "4              Germany Â» Bayern Â» MÃ¼nchen     58   3653.925  \n",
       "6  Switzerland Â» Neuenburgersee Â» Yvonand     474   3956.400  "
      ]
     },
     "execution_count": 29,
     "metadata": {},
     "output_type": "execute_result"
    }
   ],
   "source": [
    "df.head()"
   ]
  },
  {
   "cell_type": "markdown",
   "id": "d977f1c4",
   "metadata": {},
   "source": [
    "#### Reformat Location column"
   ]
  },
  {
   "cell_type": "code",
   "execution_count": 30,
   "id": "0c6368d2",
   "metadata": {},
   "outputs": [],
   "source": [
    "#Split Location to 3 columns: 'Country','City','Other'\n",
    "df[['Country','City', 'Other']]= df['Location'].str.split('Â»', expand=True)"
   ]
  },
  {
   "cell_type": "code",
   "execution_count": 31,
   "id": "1556fa03",
   "metadata": {},
   "outputs": [],
   "source": [
    "# remove some garbage characters\n",
    "df['Country'] = df['Country'].str.replace(\" \", \"\", regex=True)\n",
    "df['City']=df['City'].str.replace('¶','',regex=True)\n",
    "df['City']=df['City'].str.replace('Ã','',regex=True)\n",
    "df['City']=df['City'].str.replace(' ','',regex=True)"
   ]
  },
  {
   "cell_type": "code",
   "execution_count": 32,
   "id": "e28ecd86",
   "metadata": {},
   "outputs": [],
   "source": [
    "# Drop unsed columns\n",
    "df.drop('Location', axis=1, inplace=True)\n",
    "df.drop('Other', axis=1, inplace=True)\n",
    "df.drop('City', axis=1, inplace=True)"
   ]
  },
  {
   "cell_type": "code",
   "execution_count": 33,
   "id": "3d7930b9",
   "metadata": {},
   "outputs": [
    {
     "data": {
      "text/plain": [
       "(9233, 8)"
      ]
     },
     "execution_count": 33,
     "metadata": {},
     "output_type": "execute_result"
    }
   ],
   "source": [
    "df.shape"
   ]
  },
  {
   "cell_type": "code",
   "execution_count": 34,
   "id": "f99992e0",
   "metadata": {},
   "outputs": [
    {
     "data": {
      "text/html": [
       "<div>\n",
       "<style scoped>\n",
       "    .dataframe tbody tr th:only-of-type {\n",
       "        vertical-align: middle;\n",
       "    }\n",
       "\n",
       "    .dataframe tbody tr th {\n",
       "        vertical-align: top;\n",
       "    }\n",
       "\n",
       "    .dataframe thead th {\n",
       "        text-align: right;\n",
       "    }\n",
       "</style>\n",
       "<table border=\"1\" class=\"dataframe\">\n",
       "  <thead>\n",
       "    <tr style=\"text-align: right;\">\n",
       "      <th></th>\n",
       "      <th>Boat Type</th>\n",
       "      <th>Type</th>\n",
       "      <th>Year Built</th>\n",
       "      <th>Length</th>\n",
       "      <th>Width</th>\n",
       "      <th>Views</th>\n",
       "      <th>Price_USD</th>\n",
       "      <th>Country</th>\n",
       "    </tr>\n",
       "  </thead>\n",
       "  <tbody>\n",
       "    <tr>\n",
       "      <th>0</th>\n",
       "      <td>Motor Yacht</td>\n",
       "      <td>new boat from stock</td>\n",
       "      <td>2017</td>\n",
       "      <td>4.00</td>\n",
       "      <td>1.90</td>\n",
       "      <td>226</td>\n",
       "      <td>3667.363</td>\n",
       "      <td>Switzerland</td>\n",
       "    </tr>\n",
       "    <tr>\n",
       "      <th>1</th>\n",
       "      <td>Center console boat</td>\n",
       "      <td>new boat from stock</td>\n",
       "      <td>2020</td>\n",
       "      <td>4.00</td>\n",
       "      <td>1.50</td>\n",
       "      <td>75</td>\n",
       "      <td>3751.750</td>\n",
       "      <td>Germany</td>\n",
       "    </tr>\n",
       "    <tr>\n",
       "      <th>3</th>\n",
       "      <td>Sport Boat</td>\n",
       "      <td>new boat from stock</td>\n",
       "      <td>2020</td>\n",
       "      <td>3.00</td>\n",
       "      <td>1.00</td>\n",
       "      <td>64</td>\n",
       "      <td>3703.700</td>\n",
       "      <td>Denmark</td>\n",
       "    </tr>\n",
       "    <tr>\n",
       "      <th>4</th>\n",
       "      <td>Fishing Boat</td>\n",
       "      <td>new boat from stock</td>\n",
       "      <td>2019</td>\n",
       "      <td>3.55</td>\n",
       "      <td>1.46</td>\n",
       "      <td>58</td>\n",
       "      <td>3653.925</td>\n",
       "      <td>Germany</td>\n",
       "    </tr>\n",
       "    <tr>\n",
       "      <th>6</th>\n",
       "      <td>Catamaran</td>\n",
       "      <td>Used boat,Unleaded</td>\n",
       "      <td>1999</td>\n",
       "      <td>6.20</td>\n",
       "      <td>2.38</td>\n",
       "      <td>474</td>\n",
       "      <td>3956.400</td>\n",
       "      <td>Switzerland</td>\n",
       "    </tr>\n",
       "  </tbody>\n",
       "</table>\n",
       "</div>"
      ],
      "text/plain": [
       "             Boat Type                 Type  Year Built  Length  Width  Views  \\\n",
       "0          Motor Yacht  new boat from stock        2017    4.00   1.90    226   \n",
       "1  Center console boat  new boat from stock        2020    4.00   1.50     75   \n",
       "3           Sport Boat  new boat from stock        2020    3.00   1.00     64   \n",
       "4         Fishing Boat  new boat from stock        2019    3.55   1.46     58   \n",
       "6            Catamaran   Used boat,Unleaded        1999    6.20   2.38    474   \n",
       "\n",
       "   Price_USD      Country  \n",
       "0   3667.363  Switzerland  \n",
       "1   3751.750      Germany  \n",
       "3   3703.700      Denmark  \n",
       "4   3653.925      Germany  \n",
       "6   3956.400  Switzerland  "
      ]
     },
     "execution_count": 34,
     "metadata": {},
     "output_type": "execute_result"
    }
   ],
   "source": [
    "df.head()"
   ]
  },
  {
   "cell_type": "markdown",
   "id": "ef9a9f0c",
   "metadata": {},
   "source": [
    "### 6. Save clean data into a new file"
   ]
  },
  {
   "cell_type": "code",
   "execution_count": 35,
   "id": "8e905dc7",
   "metadata": {},
   "outputs": [],
   "source": [
    "# Export the new format of department dataframe\n",
    "df.to_csv(os.path.join(path, 'Data', 'Prepared Data', 'boat_data_clean.csv'))"
   ]
  },
  {
   "cell_type": "markdown",
   "id": "82a269d9",
   "metadata": {},
   "source": [
    "### --------------- End of Boat Analysis Part 1 -------------------"
   ]
  },
  {
   "cell_type": "code",
   "execution_count": null,
   "id": "43196040",
   "metadata": {},
   "outputs": [],
   "source": []
  }
 ],
 "metadata": {
  "kernelspec": {
   "display_name": "Python 3 (ipykernel)",
   "language": "python",
   "name": "python3"
  },
  "language_info": {
   "codemirror_mode": {
    "name": "ipython",
    "version": 3
   },
   "file_extension": ".py",
   "mimetype": "text/x-python",
   "name": "python",
   "nbconvert_exporter": "python",
   "pygments_lexer": "ipython3",
   "version": "3.11.5"
  }
 },
 "nbformat": 4,
 "nbformat_minor": 5
}
